{
 "cells": [
  {
   "cell_type": "code",
   "execution_count": 1,
   "id": "60c6e7f3-9b7a-4632-b40d-8c84f849c1a4",
   "metadata": {},
   "outputs": [],
   "source": [
    "# [["
   ]
  },
  {
   "cell_type": "code",
   "execution_count": 12,
   "id": "394772f3-cf72-4566-8683-c2c5c58dc9b3",
   "metadata": {},
   "outputs": [],
   "source": [
    "import numpy as np\n",
    "from numpy import random"
   ]
  },
  {
   "cell_type": "code",
   "execution_count": 13,
   "id": "965caa02-9680-4e99-b25a-72d2096c5ff7",
   "metadata": {},
   "outputs": [],
   "source": [
    "# random.randint(100, size = (100, 2))"
   ]
  },
  {
   "cell_type": "code",
   "execution_count": 30,
   "id": "be970bc6-7a0e-4c15-baad-d16c98341594",
   "metadata": {},
   "outputs": [],
   "source": [
    "\n",
    "x = random.randint(100, size = (200, 2))"
   ]
  },
  {
   "cell_type": "code",
   "execution_count": 31,
   "id": "4abd4bc2-f0bb-41b9-87fd-ccf63e673084",
   "metadata": {},
   "outputs": [
    {
     "data": {
      "text/plain": [
       "array([16,  3, 69, 13, 17, 64,  9, 97, 25, 81, 90, 43, 38, 97, 67, 92, 83,\n",
       "       38, 51, 71, 38, 43, 28, 92, 64, 89, 24, 95, 13, 51, 69, 53,  9,  7,\n",
       "       86, 83, 18, 87, 23, 71, 30, 78, 54, 30, 73,  5, 34, 39, 30, 50, 62,\n",
       "       29, 77, 37, 62, 30, 84, 51, 54,  7, 58, 62, 65, 46, 31,  9, 89, 59,\n",
       "       91, 58, 28, 69, 16, 30, 31, 92, 89, 73, 23, 65, 71, 48, 33, 68, 35,\n",
       "       54, 98, 75, 27, 96,  4, 18, 56, 67, 27, 98, 63, 42, 33, 78, 56,  3,\n",
       "       93, 16,  2, 75, 47, 99, 29, 71, 77, 19, 21, 70, 36, 87,  5, 38,  5,\n",
       "       70, 27, 19, 48, 14, 85, 25, 65, 56, 98, 99, 60, 82, 45, 37, 45, 13,\n",
       "       29, 94, 99,  9, 61, 50, 28, 90, 23, 36, 30, 80, 85, 82, 34, 82, 51,\n",
       "       17, 89, 12, 12, 47, 68, 42, 79, 48, 43, 19, 87, 27, 35, 94, 34, 20,\n",
       "       28, 87, 81, 77, 92, 31, 31, 64, 71, 41, 44, 56, 87, 28, 98, 14, 22,\n",
       "       34, 87, 62, 65, 70, 24, 93, 45, 13, 74, 43, 84, 98])"
      ]
     },
     "execution_count": 31,
     "metadata": {},
     "output_type": "execute_result"
    }
   ],
   "source": [
    "x[:, 0]"
   ]
  },
  {
   "cell_type": "code",
   "execution_count": 32,
   "id": "7ec59a3e-ff78-4621-9804-6b86c5a162d9",
   "metadata": {},
   "outputs": [
    {
     "data": {
      "text/plain": [
       "array([[16, 45],\n",
       "       [ 3, 18],\n",
       "       [69, 16],\n",
       "       [13, 68],\n",
       "       [17, 36],\n",
       "       [64, 49],\n",
       "       [ 9, 44],\n",
       "       [97, 24],\n",
       "       [25, 23],\n",
       "       [81, 30],\n",
       "       [90, 78],\n",
       "       [43, 95],\n",
       "       [38, 35],\n",
       "       [97,  8],\n",
       "       [67, 44],\n",
       "       [92, 40],\n",
       "       [83, 93],\n",
       "       [38, 95],\n",
       "       [51, 29],\n",
       "       [71, 90],\n",
       "       [38, 87],\n",
       "       [43, 33],\n",
       "       [28, 19],\n",
       "       [92, 96],\n",
       "       [64, 36],\n",
       "       [89,  6],\n",
       "       [24, 57],\n",
       "       [95, 48],\n",
       "       [13, 15],\n",
       "       [51, 68],\n",
       "       [69, 25],\n",
       "       [53, 36],\n",
       "       [ 9, 35],\n",
       "       [ 7, 20],\n",
       "       [86, 42],\n",
       "       [83, 89],\n",
       "       [18, 49],\n",
       "       [87,  0],\n",
       "       [23, 49],\n",
       "       [71, 23],\n",
       "       [30, 96],\n",
       "       [78,  9],\n",
       "       [54, 83],\n",
       "       [30, 60],\n",
       "       [73, 73],\n",
       "       [ 5, 84],\n",
       "       [34, 33],\n",
       "       [39, 44],\n",
       "       [30, 64],\n",
       "       [50, 51],\n",
       "       [62, 28],\n",
       "       [29,  7],\n",
       "       [77, 57],\n",
       "       [37, 93],\n",
       "       [62, 97],\n",
       "       [30, 12],\n",
       "       [84,  9],\n",
       "       [51, 25],\n",
       "       [54, 38],\n",
       "       [ 7, 85],\n",
       "       [58, 10],\n",
       "       [62, 36],\n",
       "       [65, 29],\n",
       "       [46, 48],\n",
       "       [31, 54],\n",
       "       [ 9, 94],\n",
       "       [89, 88],\n",
       "       [59, 51],\n",
       "       [91, 52],\n",
       "       [58, 82],\n",
       "       [28, 78],\n",
       "       [69, 60],\n",
       "       [16,  4],\n",
       "       [30, 61],\n",
       "       [31, 95],\n",
       "       [92,  4],\n",
       "       [89, 56],\n",
       "       [73, 67],\n",
       "       [23, 73],\n",
       "       [65, 60],\n",
       "       [71, 27],\n",
       "       [48, 70],\n",
       "       [33, 33],\n",
       "       [68,  7],\n",
       "       [35, 44],\n",
       "       [54, 26],\n",
       "       [98, 82],\n",
       "       [75, 13],\n",
       "       [27, 47],\n",
       "       [96, 14],\n",
       "       [ 4, 77],\n",
       "       [18,  1],\n",
       "       [56, 60],\n",
       "       [67, 59],\n",
       "       [27, 41],\n",
       "       [98,  2],\n",
       "       [63, 87],\n",
       "       [42, 57],\n",
       "       [33, 95],\n",
       "       [78, 74],\n",
       "       [56, 18],\n",
       "       [ 3, 15],\n",
       "       [93, 51],\n",
       "       [16, 70],\n",
       "       [ 2, 48],\n",
       "       [75, 90],\n",
       "       [47, 26],\n",
       "       [99,  6],\n",
       "       [29, 70],\n",
       "       [71, 56],\n",
       "       [77, 41],\n",
       "       [19,  4],\n",
       "       [21, 20],\n",
       "       [70, 22],\n",
       "       [36, 36],\n",
       "       [87,  4],\n",
       "       [ 5, 93],\n",
       "       [38, 52],\n",
       "       [ 5, 56],\n",
       "       [70,  7],\n",
       "       [27, 41],\n",
       "       [19, 82],\n",
       "       [48, 70],\n",
       "       [14, 49],\n",
       "       [85,  1],\n",
       "       [25, 71],\n",
       "       [65, 49],\n",
       "       [56, 45],\n",
       "       [98, 33],\n",
       "       [99, 46],\n",
       "       [60, 93],\n",
       "       [82, 56],\n",
       "       [45, 54],\n",
       "       [37, 22],\n",
       "       [45, 85],\n",
       "       [13, 95],\n",
       "       [29, 37],\n",
       "       [94, 84],\n",
       "       [99,  4],\n",
       "       [ 9, 29],\n",
       "       [61,  1],\n",
       "       [50, 98],\n",
       "       [28, 63],\n",
       "       [90, 52],\n",
       "       [23, 42],\n",
       "       [36, 51],\n",
       "       [30, 90],\n",
       "       [80, 72],\n",
       "       [85,  1],\n",
       "       [82,  7],\n",
       "       [34,  5],\n",
       "       [82,  8],\n",
       "       [51, 42],\n",
       "       [17, 79],\n",
       "       [89, 29],\n",
       "       [12, 78],\n",
       "       [12, 44],\n",
       "       [47, 59],\n",
       "       [68,  1],\n",
       "       [42,  3],\n",
       "       [79, 17],\n",
       "       [48, 56],\n",
       "       [43, 25],\n",
       "       [19, 62],\n",
       "       [87, 51],\n",
       "       [27, 42],\n",
       "       [35, 65],\n",
       "       [94, 69],\n",
       "       [34, 64],\n",
       "       [20,  8],\n",
       "       [28, 36],\n",
       "       [87, 87],\n",
       "       [81, 56],\n",
       "       [77, 17],\n",
       "       [92,  8],\n",
       "       [31, 66],\n",
       "       [31, 28],\n",
       "       [64, 48],\n",
       "       [71, 91],\n",
       "       [41, 95],\n",
       "       [44, 53],\n",
       "       [56, 62],\n",
       "       [87, 82],\n",
       "       [28, 31],\n",
       "       [98, 41],\n",
       "       [14, 77],\n",
       "       [22, 97],\n",
       "       [34, 96],\n",
       "       [87, 84],\n",
       "       [62, 84],\n",
       "       [65, 98],\n",
       "       [70, 98],\n",
       "       [24, 22],\n",
       "       [93, 33],\n",
       "       [45,  1],\n",
       "       [13, 55],\n",
       "       [74, 84],\n",
       "       [43, 97],\n",
       "       [84, 57],\n",
       "       [98, 88]])"
      ]
     },
     "execution_count": 32,
     "metadata": {},
     "output_type": "execute_result"
    }
   ],
   "source": [
    "x"
   ]
  },
  {
   "cell_type": "code",
   "execution_count": 33,
   "id": "7303dd43-def9-4fd7-8a87-eb1ba158381c",
   "metadata": {},
   "outputs": [],
   "source": [
    "import matplotlib.pyplot as plt"
   ]
  },
  {
   "cell_type": "code",
   "execution_count": 34,
   "id": "ab214ac5-4daa-42b2-8b6a-86f13d671c0c",
   "metadata": {},
   "outputs": [
    {
     "data": {
      "text/plain": [
       "<matplotlib.collections.PathCollection at 0x1585d30f560>"
      ]
     },
     "execution_count": 34,
     "metadata": {},
     "output_type": "execute_result"
    },
    {
     "data": {
      "image/png": "[encoded data removed]",
      "text/plain": [
       "<Figure size 640x480 with 1 Axes>"
      ]
     },
     "metadata": {},
     "output_type": "display_data"
    }
   ],
   "source": [
    "plt.scatter(x[:, 0], x[:, 1])"
   ]
  },
  {
   "cell_type": "code",
   "execution_count": null,
   "id": "655641fe-1706-4c54-9a53-0c703e4744f9",
   "metadata": {},
   "outputs": [],
   "source": []
  },
  {
   "cell_type": "code",
   "execution_count": 35,
   "id": "efe8c327-111d-4b1d-9be4-e32ccee21ac1",
   "metadata": {},
   "outputs": [],
   "source": [
    "from sklearn.cluster import KMeans"
   ]
  },
  {
   "cell_type": "code",
   "execution_count": 36,
   "id": "c6f38392-bc81-46a2-8c55-17dd47f3dd7c",
   "metadata": {},
   "outputs": [],
   "source": [
    "wcss = []"
   ]
  },
  {
   "cell_type": "code",
   "execution_count": 37,
   "id": "cdb6a68b-933a-4747-bfe1-efc5744a6f9f",
   "metadata": {},
   "outputs": [],
   "source": [
    "for i in range(1, 11):\n",
    "    obj = KMeans(n_clusters = i)\n",
    "    obj.fit_predict(x)\n",
    "    wcss.append(obj.inertia_)"
   ]
  },
  {
   "cell_type": "code",
   "execution_count": 38,
   "id": "5575a2c6-77fa-4eb9-81d5-656bb0edc713",
   "metadata": {},
   "outputs": [
    {
     "data": {
      "text/plain": [
       "[328509.295,\n",
       " 203399.1689223058,\n",
       " 124829.05755056629,\n",
       " 82465.37905587947,\n",
       " 71460.77983580748,\n",
       " 57117.77096774193,\n",
       " 46537.23565323565,\n",
       " 40773.949757426475,\n",
       " 35745.33105353252,\n",
       " 30189.183931989064]"
      ]
     },
     "execution_count": 38,
     "metadata": {},
     "output_type": "execute_result"
    }
   ],
   "source": [
    "wcss"
   ]
  },
  {
   "cell_type": "code",
   "execution_count": null,
   "id": "fa40aba6-e1dd-4966-90b9-b235968df4e8",
   "metadata": {},
   "outputs": [],
   "source": []
  },
  {
   "cell_type": "code",
   "execution_count": 40,
   "id": "2b3b16c6-8fb5-4238-9995-564039e3083c",
   "metadata": {},
   "outputs": [
    {
     "data": {
      "text/plain": [
       "[<matplotlib.lines.Line2D at 0x15874526c00>]"
      ]
     },
     "execution_count": 40,
     "metadata": {},
     "output_type": "execute_result"
    },
    {
     "data": {
      "image/png": "[encoded data removed]",
      "text/plain": [
       "<Figure size 640x480 with 1 Axes>"
      ]
     },
     "metadata": {},
     "output_type": "display_data"
    }
   ],
   "source": [
    "plt.scatter(range(1, 11), wcss)\n",
    "plt.plot(range(1, 11), wcss)"
   ]
  },
  {
   "cell_type": "code",
   "execution_count": null,
   "id": "66939f50-feb5-435c-a6d7-74d0e6de948f",
   "metadata": {},
   "outputs": [],
   "source": []
  },
  {
   "cell_type": "code",
   "execution_count": 48,
   "id": "e7c4056b-81ea-43b1-a7f2-63108849f42e",
   "metadata": {},
   "outputs": [],
   "source": [
    "objectt = KMeans(n_clusters = 4, init = \"k-means++\")"
   ]
  },
  {
   "cell_type": "code",
   "execution_count": 50,
   "id": "ecc4e270-f8cc-4424-a723-5707df03afb6",
   "metadata": {},
   "outputs": [],
   "source": [
    "y_pred = objectt.fit_predict(x)"
   ]
  },
  {
   "cell_type": "code",
   "execution_count": 51,
   "id": "4fb0b43e-cd86-4d00-bf8b-d5829532d306",
   "metadata": {},
   "outputs": [
    {
     "data": {
      "text/plain": [
       "(200, 2)"
      ]
     },
     "execution_count": 51,
     "metadata": {},
     "output_type": "execute_result"
    }
   ],
   "source": [
    "x.shape"
   ]
  },
  {
   "cell_type": "code",
   "execution_count": 52,
   "id": "a562cc67-f971-4c75-963d-e4e009a5457c",
   "metadata": {},
   "outputs": [
    {
     "data": {
      "text/plain": [
       "(200,)"
      ]
     },
     "execution_count": 52,
     "metadata": {},
     "output_type": "execute_result"
    }
   ],
   "source": [
    "objectt.fit_predict(x).shape"
   ]
  },
  {
   "cell_type": "code",
   "execution_count": null,
   "id": "378bbe1e-9535-407b-adbb-6425bdad0da4",
   "metadata": {},
   "outputs": [],
   "source": []
  },
  {
   "cell_type": "code",
   "execution_count": 53,
   "id": "c4a12d79-0197-48f6-899b-a7283e50cd8a",
   "metadata": {},
   "outputs": [
    {
     "data": {
      "text/plain": [
       "array([[13, 68],\n",
       "       [43, 95],\n",
       "       [38, 95],\n",
       "       [38, 87],\n",
       "       [24, 57],\n",
       "       [30, 96],\n",
       "       [30, 60],\n",
       "       [ 5, 84],\n",
       "       [30, 64],\n",
       "       [37, 93],\n",
       "       [ 7, 85],\n",
       "       [ 9, 94],\n",
       "       [28, 78],\n",
       "       [30, 61],\n",
       "       [31, 95],\n",
       "       [23, 73],\n",
       "       [48, 70],\n",
       "       [ 4, 77],\n",
       "       [42, 57],\n",
       "       [33, 95],\n",
       "       [16, 70],\n",
       "       [29, 70],\n",
       "       [ 5, 93],\n",
       "       [ 5, 56],\n",
       "       [19, 82],\n",
       "       [48, 70],\n",
       "       [25, 71],\n",
       "       [45, 85],\n",
       "       [13, 95],\n",
       "       [50, 98],\n",
       "       [28, 63],\n",
       "       [30, 90],\n",
       "       [17, 79],\n",
       "       [12, 78],\n",
       "       [47, 59],\n",
       "       [19, 62],\n",
       "       [35, 65],\n",
       "       [34, 64],\n",
       "       [31, 66],\n",
       "       [41, 95],\n",
       "       [14, 77],\n",
       "       [22, 97],\n",
       "       [34, 96],\n",
       "       [13, 55],\n",
       "       [43, 97]])"
      ]
     },
     "execution_count": 53,
     "metadata": {},
     "output_type": "execute_result"
    }
   ],
   "source": [
    "x[y_pred == 0]"
   ]
  },
  {
   "cell_type": "code",
   "execution_count": null,
   "id": "be8b0538-825d-4908-830d-f7c034232f44",
   "metadata": {},
   "outputs": [],
   "source": []
  },
  {
   "cell_type": "code",
   "execution_count": 55,
   "id": "eb48bea0-8ab4-4376-a5ac-b319b135cf1e",
   "metadata": {},
   "outputs": [
    {
     "data": {
      "text/plain": [
       "<matplotlib.collections.PathCollection at 0x15875e4da90>"
      ]
     },
     "execution_count": 55,
     "metadata": {},
     "output_type": "execute_result"
    },
    {
     "data": {
      "image/png": "[encoded data removed]",
      "text/plain": [
       "<Figure size 640x480 with 1 Axes>"
      ]
     },
     "metadata": {},
     "output_type": "display_data"
    }
   ],
   "source": [
    "plt.scatter(x[y_pred == 0, 0], x[y_pred == 0, 1], color = \"red\")\n",
    "plt.scatter(x[y_pred == 1, 0], x[y_pred == 1, 1], color = \"blue\")\n",
    "plt.scatter(x[y_pred == 2, 0], x[y_pred == 2, 1], color = \"yellow\")\n",
    "plt.scatter(x[y_pred == 3, 0], x[y_pred == 3, 1], color = \"green\")"
   ]
  },
  {
   "cell_type": "code",
   "execution_count": null,
   "id": "f36f51e7-2575-4769-b6e8-0b60df378de9",
   "metadata": {},
   "outputs": [],
   "source": []
  }
 ],
 "metadata": {
  "kernelspec": {
   "display_name": "Python 3 (ipykernel)",
   "language": "python",
   "name": "python3"
  },
  "language_info": {
   "codemirror_mode": {
    "name": "ipython",
    "version": 3
   },
   "file_extension": ".py",
   "mimetype": "text/x-python",
   "name": "python",
   "nbconvert_exporter": "python",
   "pygments_lexer": "ipython3",
   "version": "3.12.2"
  }
 },
 "nbformat": 4,
 "nbformat_minor": 5
}
