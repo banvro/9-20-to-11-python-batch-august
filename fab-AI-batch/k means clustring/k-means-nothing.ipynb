{
 "cells": [
  {
   "cell_type": "code",
   "execution_count": 1,
   "id": "93d1a15f-ec3a-46cd-aad2-3a50db34d39c",
   "metadata": {},
   "outputs": [],
   "source": [
    "# from sklearn.cluster import KMeans"
   ]
  },
  {
   "cell_type": "code",
   "execution_count": null,
   "id": "adadc5c4-98e3-4da6-a2c1-a9c7ee0885bf",
   "metadata": {},
   "outputs": [],
   "source": [
    "Steps:\n",
    "    1) Decide N-Cluster\n",
    "    2) Init Centroid\n",
    "\n",
    "    3) Assign Cluster\n",
    "    4) Move Centriod\n",
    "    5) Finish"
   ]
  },
  {
   "cell_type": "code",
   "execution_count": null,
   "id": "481844ca-415d-48dc-93d3-062cecf20735",
   "metadata": {},
   "outputs": [],
   "source": []
  },
  {
   "cell_type": "code",
   "execution_count": 2,
   "id": "4e13024e-1ed4-4dd5-aa9e-a93a25cab4da",
   "metadata": {},
   "outputs": [],
   "source": [
    "import numpy as np"
   ]
  },
  {
   "cell_type": "code",
   "execution_count": 10,
   "id": "34f7f7c9-28f5-4d32-a4ec-aedccd9150db",
   "metadata": {},
   "outputs": [],
   "source": [
    "a = np.array([5, 4, 1])\n",
    "b = np.array([10, 8, 3])"
   ]
  },
  {
   "cell_type": "code",
   "execution_count": null,
   "id": "81e3bf93-45fc-4229-a6d6-6cb133bfbdbb",
   "metadata": {},
   "outputs": [],
   "source": [
    "25\n",
    "\n",
    "16\n",
    "\n",
    "41"
   ]
  },
  {
   "cell_type": "code",
   "execution_count": 11,
   "id": "c318d936-637b-41b3-82be-0bb8b5fc4f25",
   "metadata": {},
   "outputs": [
    {
     "data": {
      "text/plain": [
       "6.708203932499369"
      ]
     },
     "execution_count": 11,
     "metadata": {},
     "output_type": "execute_result"
    }
   ],
   "source": [
    "np.sqrt(np.dot(b-a, b-a))"
   ]
  },
  {
   "cell_type": "code",
   "execution_count": null,
   "id": "85b99a3f-5bed-4181-8347-774cf5a621d4",
   "metadata": {},
   "outputs": [],
   "source": []
  }
 ],
 "metadata": {
  "kernelspec": {
   "display_name": "Python 3 (ipykernel)",
   "language": "python",
   "name": "python3"
  },
  "language_info": {
   "codemirror_mode": {
    "name": "ipython",
    "version": 3
   },
   "file_extension": ".py",
   "mimetype": "text/x-python",
   "name": "python",
   "nbconvert_exporter": "python",
   "pygments_lexer": "ipython3",
   "version": "3.12.2"
  }
 },
 "nbformat": 4,
 "nbformat_minor": 5
}
