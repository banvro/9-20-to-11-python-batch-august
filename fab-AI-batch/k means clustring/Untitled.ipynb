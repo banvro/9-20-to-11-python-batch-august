{
 "cells": [
  {
   "cell_type": "code",
   "execution_count": 1,
   "id": "48debed2-ee0b-4210-9da2-dc0c9efb48ba",
   "metadata": {},
   "outputs": [],
   "source": [
    "import numpy as np"
   ]
  },
  {
   "cell_type": "code",
   "execution_count": 4,
   "id": "c08a01de-6e0d-437b-a6b6-8e172e5c1298",
   "metadata": {},
   "outputs": [],
   "source": [
    "x = np.array([[23, 45], [56, 34], [34, 23], [56, 78], [56, 34]])"
   ]
  },
  {
   "cell_type": "code",
   "execution_count": 5,
   "id": "33b96272-321c-4da2-b2fc-2406aabcaac5",
   "metadata": {},
   "outputs": [
    {
     "data": {
      "text/plain": [
       "array([[23, 45],\n",
       "       [56, 34],\n",
       "       [34, 23],\n",
       "       [56, 78],\n",
       "       [56, 34]])"
      ]
     },
     "execution_count": 5,
     "metadata": {},
     "output_type": "execute_result"
    }
   ],
   "source": [
    "x"
   ]
  },
  {
   "cell_type": "code",
   "execution_count": 7,
   "id": "e59fefb2-6d98-45c6-a146-94e51e80e971",
   "metadata": {},
   "outputs": [],
   "source": [
    "y = np.array([0, 1, 0, 0, 1])"
   ]
  },
  {
   "cell_type": "code",
   "execution_count": 8,
   "id": "24640d87-f5a7-4fa2-b412-f54811b46768",
   "metadata": {},
   "outputs": [
    {
     "data": {
      "text/plain": [
       "array([0, 1, 0, 0, 1])"
      ]
     },
     "execution_count": 8,
     "metadata": {},
     "output_type": "execute_result"
    }
   ],
   "source": [
    "y"
   ]
  },
  {
   "cell_type": "code",
   "execution_count": 11,
   "id": "b56790bf-ba0a-4f98-bdf7-dc1637599322",
   "metadata": {},
   "outputs": [
    {
     "data": {
      "text/plain": [
       "array([[23, 45],\n",
       "       [34, 23],\n",
       "       [56, 78]])"
      ]
     },
     "execution_count": 11,
     "metadata": {},
     "output_type": "execute_result"
    }
   ],
   "source": [
    "x[y == 0]"
   ]
  },
  {
   "cell_type": "code",
   "execution_count": 12,
   "id": "ad8fc3f7-3000-48d4-a73b-4f87de4ef830",
   "metadata": {},
   "outputs": [],
   "source": [
    "# mean()"
   ]
  },
  {
   "cell_type": "code",
   "execution_count": 15,
   "id": "84917f22-6969-4e8e-b7bf-4ca9690f30a0",
   "metadata": {},
   "outputs": [
    {
     "data": {
      "text/plain": [
       "array([37.66666667, 48.66666667])"
      ]
     },
     "execution_count": 15,
     "metadata": {},
     "output_type": "execute_result"
    }
   ],
   "source": [
    "x[y == 0].mean(axis = 0)"
   ]
  },
  {
   "cell_type": "code",
   "execution_count": null,
   "id": "a83700a9-fc24-45e4-ac45-9c9b2d45b76c",
   "metadata": {},
   "outputs": [],
   "source": []
  },
  {
   "cell_type": "code",
   "execution_count": null,
   "id": "9b1221dc-8dea-4fb9-a65f-a94a4ac38fca",
   "metadata": {},
   "outputs": [],
   "source": []
  },
  {
   "cell_type": "code",
   "execution_count": null,
   "id": "f8101719-d6ca-45bf-b55f-d9a43a18bfb9",
   "metadata": {},
   "outputs": [],
   "source": []
  },
  {
   "cell_type": "code",
   "execution_count": 16,
   "id": "70768653-40c1-404b-9b05-0849dd36e81d",
   "metadata": {},
   "outputs": [],
   "source": [
    "y = np.array([0, 1, 0, 0, 1])"
   ]
  },
  {
   "cell_type": "code",
   "execution_count": 17,
   "id": "37bb94b0-b678-4773-b3f4-876abf1d324e",
   "metadata": {},
   "outputs": [
    {
     "data": {
      "text/plain": [
       "array([0, 1])"
      ]
     },
     "execution_count": 17,
     "metadata": {},
     "output_type": "execute_result"
    }
   ],
   "source": [
    "np.unique(y)"
   ]
  },
  {
   "cell_type": "code",
   "execution_count": null,
   "id": "c1310597-37f1-43ae-bd65-e860d8065513",
   "metadata": {},
   "outputs": [],
   "source": []
  },
  {
   "cell_type": "code",
   "execution_count": null,
   "id": "be104151-0f7d-40ce-a796-8ce2a8c0e47a",
   "metadata": {},
   "outputs": [],
   "source": []
  },
  {
   "cell_type": "code",
   "execution_count": 18,
   "id": "79988822-a37b-4072-86f5-04919899a0b4",
   "metadata": {},
   "outputs": [],
   "source": [
    "zx = np.array([12, 34])\n"
   ]
  },
  {
   "cell_type": "code",
   "execution_count": 27,
   "id": "8c196029-4c92-4d9a-94e0-182a037b4a5e",
   "metadata": {},
   "outputs": [],
   "source": [
    "ab = np.array([12, 10])"
   ]
  },
  {
   "cell_type": "code",
   "execution_count": 28,
   "id": "50610a8e-b4ce-4113-bb35-380c84bda668",
   "metadata": {},
   "outputs": [],
   "source": [
    "if (zx == ab).all():\n",
    "    print(\"they are same\")"
   ]
  },
  {
   "cell_type": "code",
   "execution_count": null,
   "id": "c4f99658-3b30-4dd8-9569-36517e67014c",
   "metadata": {},
   "outputs": [],
   "source": [
    "for i in range(1, 11):\n",
    "    print(i)\n",
    "    if i == 5:\n",
    "        print"
   ]
  }
 ],
 "metadata": {
  "kernelspec": {
   "display_name": "Python 3 (ipykernel)",
   "language": "python",
   "name": "python3"
  },
  "language_info": {
   "codemirror_mode": {
    "name": "ipython",
    "version": 3
   },
   "file_extension": ".py",
   "mimetype": "text/x-python",
   "name": "python",
   "nbconvert_exporter": "python",
   "pygments_lexer": "ipython3",
   "version": "3.12.2"
  }
 },
 "nbformat": 4,
 "nbformat_minor": 5
}
