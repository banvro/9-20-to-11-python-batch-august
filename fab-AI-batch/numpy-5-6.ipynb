{
 "cells": [
  {
   "cell_type": "code",
   "execution_count": 1,
   "id": "482b5f3d-a80c-43f0-82fd-8cd585d49197",
   "metadata": {},
   "outputs": [],
   "source": [
    "import numpy as np"
   ]
  },
  {
   "cell_type": "code",
   "execution_count": 3,
   "id": "5f89bf56-1435-49c9-81b7-1b8e3ce1ddff",
   "metadata": {},
   "outputs": [],
   "source": [
    "zx = np.array([[12, 34, 56, 34, 23, 100], [45, 45, 100, 67, 34, 10]])"
   ]
  },
  {
   "cell_type": "code",
   "execution_count": 4,
   "id": "03c69914-c3b6-4c6d-973d-767d40820b0e",
   "metadata": {},
   "outputs": [
    {
     "data": {
      "text/plain": [
       "2"
      ]
     },
     "execution_count": 4,
     "metadata": {},
     "output_type": "execute_result"
    }
   ],
   "source": [
    "zx.ndim"
   ]
  },
  {
   "cell_type": "code",
   "execution_count": 5,
   "id": "22b6ca70-9d42-40ac-8209-3adaf34b9349",
   "metadata": {},
   "outputs": [
    {
     "data": {
      "text/plain": [
       "array([[ 12,  34,  56,  34,  23, 100],\n",
       "       [ 45,  45, 100,  67,  34,  10]])"
      ]
     },
     "execution_count": 5,
     "metadata": {},
     "output_type": "execute_result"
    }
   ],
   "source": [
    "zx"
   ]
  },
  {
   "cell_type": "code",
   "execution_count": null,
   "id": "168d0411-1f70-46b5-a28d-a4f50b34e992",
   "metadata": {},
   "outputs": [],
   "source": []
  },
  {
   "cell_type": "code",
   "execution_count": null,
   "id": "c3919795-7d29-4bca-994a-d8335e5bc6f6",
   "metadata": {},
   "outputs": [],
   "source": []
  },
  {
   "cell_type": "code",
   "execution_count": 6,
   "id": "89e7fd77-b0d9-4eae-9383-97bf5ec9182d",
   "metadata": {},
   "outputs": [],
   "source": [
    "zx = np.array([12, 34, 56, 34, 23, 100, 45, 45, 100, 67, 34, 10])"
   ]
  },
  {
   "cell_type": "code",
   "execution_count": null,
   "id": "582dbb74-10f3-44ce-aec0-3a165cf648d1",
   "metadata": {},
   "outputs": [],
   "source": []
  },
  {
   "cell_type": "code",
   "execution_count": 7,
   "id": "1cf0e2b7-8b09-4c01-9588-eae25a1c1f86",
   "metadata": {},
   "outputs": [
    {
     "data": {
      "text/plain": [
       "45"
      ]
     },
     "execution_count": 7,
     "metadata": {},
     "output_type": "execute_result"
    }
   ],
   "source": [
    "zx[-5]"
   ]
  },
  {
   "cell_type": "markdown",
   "id": "8aabd6ae-2755-4edd-810b-7160f30a52d3",
   "metadata": {},
   "source": [
    "# fancy indexing in numpy:"
   ]
  },
  {
   "cell_type": "code",
   "execution_count": null,
   "id": "2b35109c-8474-49ae-8099-f1b31eaca46b",
   "metadata": {},
   "outputs": [],
   "source": [
    "boolean indexing."
   ]
  },
  {
   "cell_type": "code",
   "execution_count": 8,
   "id": "8b518a79-dd00-4b33-8f70-6f0804e7af47",
   "metadata": {},
   "outputs": [],
   "source": [
    "zx = np.array([12, 34, 56, 34, 23, 100, 45, 45, 100, 67, 34, 10])"
   ]
  },
  {
   "cell_type": "code",
   "execution_count": 11,
   "id": "54224ee4-8c5a-4c83-884f-b3c579bc99e3",
   "metadata": {},
   "outputs": [],
   "source": [
    "qw = zx < 50"
   ]
  },
  {
   "cell_type": "code",
   "execution_count": 12,
   "id": "099cdc78-fe75-4bda-8806-c31b5cf8cd52",
   "metadata": {},
   "outputs": [
    {
     "data": {
      "text/plain": [
       "array([ True,  True, False,  True,  True, False,  True,  True, False,\n",
       "       False,  True,  True])"
      ]
     },
     "execution_count": 12,
     "metadata": {},
     "output_type": "execute_result"
    }
   ],
   "source": [
    "qw"
   ]
  },
  {
   "cell_type": "code",
   "execution_count": 13,
   "id": "f4ef8b10-2ed3-42f6-851a-78ebf485aafa",
   "metadata": {},
   "outputs": [
    {
     "data": {
      "text/plain": [
       "array([12, 34, 34, 23, 45, 45, 34, 10])"
      ]
     },
     "execution_count": 13,
     "metadata": {},
     "output_type": "execute_result"
    }
   ],
   "source": [
    "zx[qw]"
   ]
  },
  {
   "cell_type": "code",
   "execution_count": null,
   "id": "ff7882c7-b417-4ed8-b149-641db7a5cb72",
   "metadata": {},
   "outputs": [],
   "source": []
  },
  {
   "cell_type": "code",
   "execution_count": null,
   "id": "d3cf9635-7561-4f26-9bf0-9f20340ad4e3",
   "metadata": {},
   "outputs": [],
   "source": []
  },
  {
   "cell_type": "code",
   "execution_count": 14,
   "id": "b27c40f5-e186-48ec-94ea-55238e6cfc6e",
   "metadata": {},
   "outputs": [],
   "source": [
    "my2d = np.array([[12, 34, 56, 34, 23, 100], [45, 45, 100, 67, 34, 10]])"
   ]
  },
  {
   "cell_type": "code",
   "execution_count": 17,
   "id": "83e4a50d-e0c0-484e-8242-4805b1d60b3c",
   "metadata": {},
   "outputs": [],
   "source": [
    "k = my2d >= 40"
   ]
  },
  {
   "cell_type": "code",
   "execution_count": 18,
   "id": "f9ca11e0-334e-4d16-96db-8155fbba1d9c",
   "metadata": {},
   "outputs": [
    {
     "data": {
      "text/plain": [
       "array([ 56, 100,  45,  45, 100,  67])"
      ]
     },
     "execution_count": 18,
     "metadata": {},
     "output_type": "execute_result"
    }
   ],
   "source": [
    "my2d[k]"
   ]
  },
  {
   "cell_type": "code",
   "execution_count": null,
   "id": "8c76fd42-1170-4093-907b-fd090f8985fd",
   "metadata": {},
   "outputs": [],
   "source": []
  },
  {
   "cell_type": "code",
   "execution_count": 19,
   "id": "1587e7e8-b336-4a7a-aa98-c8ea51f62987",
   "metadata": {},
   "outputs": [],
   "source": [
    "# zeros()"
   ]
  },
  {
   "cell_type": "code",
   "execution_count": 21,
   "id": "f0f67918-e0cd-47e0-bbc0-c677606c61d1",
   "metadata": {},
   "outputs": [],
   "source": [
    "xyz = np.zeros((3, 3))"
   ]
  },
  {
   "cell_type": "code",
   "execution_count": 23,
   "id": "a66ebb49-46c5-451e-9791-58046b308364",
   "metadata": {},
   "outputs": [
    {
     "data": {
      "text/plain": [
       "array([[0., 0., 0.],\n",
       "       [0., 0., 0.],\n",
       "       [0., 0., 0.]])"
      ]
     },
     "execution_count": 23,
     "metadata": {},
     "output_type": "execute_result"
    }
   ],
   "source": [
    "xyz"
   ]
  },
  {
   "cell_type": "code",
   "execution_count": null,
   "id": "bbf6582f-ceda-4b47-9fd6-1f9e8c2e42ef",
   "metadata": {},
   "outputs": [],
   "source": []
  },
  {
   "cell_type": "code",
   "execution_count": 28,
   "id": "9bdd335b-d42c-44f9-b256-92a504b34fbd",
   "metadata": {},
   "outputs": [],
   "source": [
    "yu = np.ones((5, 3))"
   ]
  },
  {
   "cell_type": "code",
   "execution_count": 29,
   "id": "65f0d8c2-b268-41a8-b9bd-bd5c05bc6a6f",
   "metadata": {},
   "outputs": [
    {
     "data": {
      "text/plain": [
       "array([[1., 1., 1.],\n",
       "       [1., 1., 1.],\n",
       "       [1., 1., 1.],\n",
       "       [1., 1., 1.],\n",
       "       [1., 1., 1.]])"
      ]
     },
     "execution_count": 29,
     "metadata": {},
     "output_type": "execute_result"
    }
   ],
   "source": [
    "yu"
   ]
  },
  {
   "cell_type": "code",
   "execution_count": null,
   "id": "1bb40763-4400-4a46-9b6f-2befb266b9bf",
   "metadata": {},
   "outputs": [],
   "source": []
  },
  {
   "cell_type": "code",
   "execution_count": 30,
   "id": "d0225131-9a6a-4fa5-9840-238420efc253",
   "metadata": {},
   "outputs": [],
   "source": [
    "# eye()"
   ]
  },
  {
   "cell_type": "code",
   "execution_count": 32,
   "id": "2a2971fe-7076-46f0-9404-a600c3f81bec",
   "metadata": {},
   "outputs": [
    {
     "data": {
      "text/plain": [
       "array([[1., 0., 0., 0., 0., 0.],\n",
       "       [0., 1., 0., 0., 0., 0.],\n",
       "       [0., 0., 1., 0., 0., 0.],\n",
       "       [0., 0., 0., 1., 0., 0.],\n",
       "       [0., 0., 0., 0., 1., 0.],\n",
       "       [0., 0., 0., 0., 0., 1.]])"
      ]
     },
     "execution_count": 32,
     "metadata": {},
     "output_type": "execute_result"
    }
   ],
   "source": [
    "np.eye(6)"
   ]
  },
  {
   "cell_type": "code",
   "execution_count": null,
   "id": "c6fe968a-a4c6-409e-900e-a3627fbba32f",
   "metadata": {},
   "outputs": [],
   "source": []
  },
  {
   "cell_type": "code",
   "execution_count": null,
   "id": "b074c948-7569-40c6-b2fd-bac55353de63",
   "metadata": {},
   "outputs": [],
   "source": []
  },
  {
   "cell_type": "code",
   "execution_count": 34,
   "id": "3bb63f61-73c7-4959-9aa4-e15f4711a576",
   "metadata": {},
   "outputs": [],
   "source": [
    "my2d = np.array([[12, 34, 56, 34, 23, 100], [45, 45, 100, 67, 34, 10]])"
   ]
  },
  {
   "cell_type": "code",
   "execution_count": 35,
   "id": "7e1368c2-3ea8-49f2-bb97-bdfacc6ee897",
   "metadata": {},
   "outputs": [
    {
     "data": {
      "text/plain": [
       "array([[ 12,  34,  56,  34,  23, 100],\n",
       "       [ 45,  45, 100,  67,  34,  10]])"
      ]
     },
     "execution_count": 35,
     "metadata": {},
     "output_type": "execute_result"
    }
   ],
   "source": [
    "my2d"
   ]
  },
  {
   "cell_type": "code",
   "execution_count": null,
   "id": "0a1d62ab-5503-4b44-82a3-17e9c3f8ebb8",
   "metadata": {},
   "outputs": [],
   "source": []
  },
  {
   "cell_type": "code",
   "execution_count": 36,
   "id": "bc00b780-3b91-4212-abc3-8d5bc859afd1",
   "metadata": {},
   "outputs": [],
   "source": [
    "trans = np.transpose(my2d)"
   ]
  },
  {
   "cell_type": "code",
   "execution_count": 37,
   "id": "59f93f71-85bc-42b1-a731-c94213c385c2",
   "metadata": {},
   "outputs": [
    {
     "data": {
      "text/plain": [
       "array([[ 12,  45],\n",
       "       [ 34,  45],\n",
       "       [ 56, 100],\n",
       "       [ 34,  67],\n",
       "       [ 23,  34],\n",
       "       [100,  10]])"
      ]
     },
     "execution_count": 37,
     "metadata": {},
     "output_type": "execute_result"
    }
   ],
   "source": [
    "trans"
   ]
  },
  {
   "cell_type": "code",
   "execution_count": null,
   "id": "6c63768d-bdb4-470f-a75e-113484bb78f1",
   "metadata": {},
   "outputs": [],
   "source": []
  },
  {
   "cell_type": "code",
   "execution_count": 38,
   "id": "1efac4d1-fd4b-4622-b1da-48a1368b123c",
   "metadata": {},
   "outputs": [],
   "source": [
    "# linspace()"
   ]
  },
  {
   "cell_type": "code",
   "execution_count": 41,
   "id": "bd2e0bde-2264-4084-85af-d080763db051",
   "metadata": {},
   "outputs": [],
   "source": [
    "er = np.linspace(0, 3, 7)"
   ]
  },
  {
   "cell_type": "code",
   "execution_count": 42,
   "id": "f5f97533-28b9-430d-af8e-60927c0be794",
   "metadata": {},
   "outputs": [
    {
     "data": {
      "text/plain": [
       "array([0. , 0.5, 1. , 1.5, 2. , 2.5, 3. ])"
      ]
     },
     "execution_count": 42,
     "metadata": {},
     "output_type": "execute_result"
    }
   ],
   "source": [
    "er"
   ]
  },
  {
   "cell_type": "code",
   "execution_count": null,
   "id": "8f8f932f-efe3-4d46-9d16-abe92e0d5a2e",
   "metadata": {},
   "outputs": [],
   "source": []
  },
  {
   "cell_type": "code",
   "execution_count": null,
   "id": "0cce30dc-a360-4a5b-be23-9da33e53c322",
   "metadata": {},
   "outputs": [],
   "source": []
  },
  {
   "cell_type": "code",
   "execution_count": 43,
   "id": "e9d7d6bc-0bfb-4613-b974-8ed5b586ae00",
   "metadata": {},
   "outputs": [],
   "source": [
    "# Data Types:\n",
    "#     string ---> U1\n",
    "#     integer -----> int1\n",
    "#                     int 2\n",
    "#                     int4 ( -238 to 238 )\n",
    "#     float -----> _float"
   ]
  },
  {
   "cell_type": "code",
   "execution_count": 44,
   "id": "f311e9ff-96bf-4ada-b73c-f120a013f1f9",
   "metadata": {},
   "outputs": [],
   "source": [
    "# type()\n",
    "\n"
   ]
  },
  {
   "cell_type": "code",
   "execution_count": 45,
   "id": "3cc3189b-e2b0-4d13-b907-a6f3c2fa7405",
   "metadata": {},
   "outputs": [],
   "source": [
    "zx = np.array([12, 34, 2, 45])"
   ]
  },
  {
   "cell_type": "code",
   "execution_count": 46,
   "id": "3d713722-1d85-4e45-8a4d-5f8f67485a58",
   "metadata": {},
   "outputs": [
    {
     "data": {
      "text/plain": [
       "array([12, 34,  2, 45])"
      ]
     },
     "execution_count": 46,
     "metadata": {},
     "output_type": "execute_result"
    }
   ],
   "source": [
    "zx"
   ]
  },
  {
   "cell_type": "code",
   "execution_count": 47,
   "id": "426cf0a3-52f0-49b9-983e-a78d9b55ddf0",
   "metadata": {},
   "outputs": [
    {
     "data": {
      "text/plain": [
       "numpy.ndarray"
      ]
     },
     "execution_count": 47,
     "metadata": {},
     "output_type": "execute_result"
    }
   ],
   "source": [
    "type(zx)"
   ]
  },
  {
   "cell_type": "code",
   "execution_count": 48,
   "id": "289b0117-bc9b-4862-89ff-a4fa8a6a1253",
   "metadata": {},
   "outputs": [],
   "source": [
    "# dtype()"
   ]
  },
  {
   "cell_type": "code",
   "execution_count": 50,
   "id": "aee2f479-1b6d-41c4-a307-cf70e5afb9d3",
   "metadata": {},
   "outputs": [
    {
     "data": {
      "text/plain": [
       "dtype('int32')"
      ]
     },
     "execution_count": 50,
     "metadata": {},
     "output_type": "execute_result"
    }
   ],
   "source": [
    "zx.dtype"
   ]
  },
  {
   "cell_type": "code",
   "execution_count": null,
   "id": "e1f7940b-4e9c-40da-92f9-d9fcdbcca052",
   "metadata": {},
   "outputs": [],
   "source": []
  },
  {
   "cell_type": "code",
   "execution_count": 72,
   "id": "e9ea76f5-1413-4f1f-a6d2-6bbaff2aa27d",
   "metadata": {},
   "outputs": [],
   "source": [
    "zx = np.array([\"car\", \"bus\", \"train\", \"plain\", \"hey\", \"helo\", \"ooooo\", \"gooo\"])"
   ]
  },
  {
   "cell_type": "code",
   "execution_count": 73,
   "id": "f8c40d55-aff7-4723-a250-99e42ce10491",
   "metadata": {},
   "outputs": [
    {
     "data": {
      "text/plain": [
       "array(['car', 'bus', 'train', 'plain', 'hey', 'helo', 'ooooo', 'gooo'],\n",
       "      dtype='<U5')"
      ]
     },
     "execution_count": 73,
     "metadata": {},
     "output_type": "execute_result"
    }
   ],
   "source": [
    "zx"
   ]
  },
  {
   "cell_type": "code",
   "execution_count": 74,
   "id": "08a9cac6-6bfc-4aec-994c-6645fe739bf4",
   "metadata": {},
   "outputs": [
    {
     "data": {
      "text/plain": [
       "dtype('<U5')"
      ]
     },
     "execution_count": 74,
     "metadata": {},
     "output_type": "execute_result"
    }
   ],
   "source": [
    "zx.dtype"
   ]
  },
  {
   "cell_type": "code",
   "execution_count": 54,
   "id": "445ac672-c874-4674-967a-f71797ca18a4",
   "metadata": {},
   "outputs": [],
   "source": [
    "zx = np.array([\"car\", \"bus\", 56, \"train\", \"plain\", 56, 100])"
   ]
  },
  {
   "cell_type": "code",
   "execution_count": 75,
   "id": "a64cd762-0225-469d-a79e-e5e6eb360df7",
   "metadata": {},
   "outputs": [
    {
     "data": {
      "text/plain": [
       "array(['car', 'bus', 'train', 'plain', 'hey', 'helo', 'ooooo', 'gooo'],\n",
       "      dtype='<U5')"
      ]
     },
     "execution_count": 75,
     "metadata": {},
     "output_type": "execute_result"
    }
   ],
   "source": [
    "zx"
   ]
  },
  {
   "cell_type": "code",
   "execution_count": 76,
   "id": "083295b8-2853-4e68-9cfd-1a7e308068cd",
   "metadata": {},
   "outputs": [
    {
     "data": {
      "text/plain": [
       "dtype('<U5')"
      ]
     },
     "execution_count": 76,
     "metadata": {},
     "output_type": "execute_result"
    }
   ],
   "source": [
    "zx.dtype"
   ]
  },
  {
   "cell_type": "code",
   "execution_count": null,
   "id": "3d191de3-1220-4a7f-b0fa-88a667ca4d35",
   "metadata": {},
   "outputs": [],
   "source": []
  },
  {
   "cell_type": "code",
   "execution_count": 77,
   "id": "30fb43e4-b420-4228-a614-4a9274b5e590",
   "metadata": {},
   "outputs": [
    {
     "name": "stdout",
     "output_type": "stream",
     "text": [
      "Help on _ArrayFunctionDispatcher in module numpy:\n",
      "\n",
      "array_split(ary, indices_or_sections, axis=0)\n",
      "    Split an array into multiple sub-arrays.\n",
      "\n",
      "    Please refer to the ``split`` documentation.  The only difference\n",
      "    between these functions is that ``array_split`` allows\n",
      "    `indices_or_sections` to be an integer that does *not* equally\n",
      "    divide the axis. For an array of length l that should be split\n",
      "    into n sections, it returns l % n sub-arrays of size l//n + 1\n",
      "    and the rest of size l//n.\n",
      "\n",
      "    See Also\n",
      "    --------\n",
      "    split : Split array into multiple sub-arrays of equal size.\n",
      "\n",
      "    Examples\n",
      "    --------\n",
      "    >>> x = np.arange(8.0)\n",
      "    >>> np.array_split(x, 3)\n",
      "    [array([0.,  1.,  2.]), array([3.,  4.,  5.]), array([6.,  7.])]\n",
      "\n",
      "    >>> x = np.arange(9)\n",
      "    >>> np.array_split(x, 4)\n",
      "    [array([0, 1, 2]), array([3, 4]), array([5, 6]), array([7, 8])]\n",
      "\n"
     ]
    }
   ],
   "source": [
    "help(np.array_split)"
   ]
  },
  {
   "cell_type": "code",
   "execution_count": null,
   "id": "4764eba9-62b3-48a5-a711-9fcf00f39b4d",
   "metadata": {},
   "outputs": [],
   "source": []
  },
  {
   "cell_type": "code",
   "execution_count": null,
   "id": "e3d8d227-fc96-4a52-861e-84559088dc55",
   "metadata": {},
   "outputs": [],
   "source": []
  },
  {
   "cell_type": "code",
   "execution_count": 78,
   "id": "07ec90f6-8463-4b7d-a3fd-cadc53be0450",
   "metadata": {},
   "outputs": [],
   "source": [
    "zx = np.array([\"car\", \"bus\", 56, \"train\", \"plain\", 56, 100])"
   ]
  },
  {
   "cell_type": "code",
   "execution_count": 79,
   "id": "5b8cbafa-98f9-4f3e-ab18-53abece4cb40",
   "metadata": {},
   "outputs": [
    {
     "data": {
      "text/plain": [
       "[array(['car', 'bus', '56'], dtype='<U11'),\n",
       " array(['train', 'plain'], dtype='<U11'),\n",
       " array(['56', '100'], dtype='<U11')]"
      ]
     },
     "execution_count": 79,
     "metadata": {},
     "output_type": "execute_result"
    }
   ],
   "source": [
    "np.array_split(zx, 3)"
   ]
  },
  {
   "cell_type": "code",
   "execution_count": null,
   "id": "b3af6090-c054-439c-b89a-7281e0b6445a",
   "metadata": {},
   "outputs": [],
   "source": []
  },
  {
   "cell_type": "code",
   "execution_count": null,
   "id": "fe8e35bb-2712-4b14-b77d-f4c21fb8fd9e",
   "metadata": {},
   "outputs": [],
   "source": []
  }
 ],
 "metadata": {
  "kernelspec": {
   "display_name": "Python 3 (ipykernel)",
   "language": "python",
   "name": "python3"
  },
  "language_info": {
   "codemirror_mode": {
    "name": "ipython",
    "version": 3
   },
   "file_extension": ".py",
   "mimetype": "text/x-python",
   "name": "python",
   "nbconvert_exporter": "python",
   "pygments_lexer": "ipython3",
   "version": "3.12.0"
  }
 },
 "nbformat": 4,
 "nbformat_minor": 5
}
