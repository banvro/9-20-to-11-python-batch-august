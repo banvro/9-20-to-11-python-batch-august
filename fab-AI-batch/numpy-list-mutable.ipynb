{
 "cells": [
  {
   "cell_type": "code",
   "execution_count": 1,
   "id": "69e77c63-273e-4db2-8bb3-3f1ed6eac6c7",
   "metadata": {},
   "outputs": [],
   "source": [
    "# Numpy:\n"
   ]
  },
  {
   "cell_type": "markdown",
   "id": "c06c14db-7616-4089-bdbf-aab6132962ff",
   "metadata": {},
   "source": [
    "## joining two numpy ndarrays"
   ]
  },
  {
   "cell_type": "code",
   "execution_count": 2,
   "id": "456e1d42-0605-43a2-8d48-125f26b09560",
   "metadata": {},
   "outputs": [],
   "source": [
    "import numpy as np"
   ]
  },
  {
   "cell_type": "code",
   "execution_count": 3,
   "id": "1f8b98ac-400c-494c-b3b2-e3b069048ed9",
   "metadata": {},
   "outputs": [],
   "source": [
    "x = np.array([12, 45, 34, 10])"
   ]
  },
  {
   "cell_type": "code",
   "execution_count": 4,
   "id": "2ac64c59-387f-4e94-908e-bd3593e76db5",
   "metadata": {},
   "outputs": [],
   "source": [
    "y = np.array([45, 34, 23, 12])"
   ]
  },
  {
   "cell_type": "code",
   "execution_count": 5,
   "id": "a7328a03-f297-4824-8462-3a645994a3e2",
   "metadata": {},
   "outputs": [],
   "source": [
    "z = x + y"
   ]
  },
  {
   "cell_type": "code",
   "execution_count": 6,
   "id": "c84a09e1-6194-403c-b269-07f00a1fb3ee",
   "metadata": {},
   "outputs": [
    {
     "data": {
      "text/plain": [
       "array([57, 79, 57, 22])"
      ]
     },
     "execution_count": 6,
     "metadata": {},
     "output_type": "execute_result"
    }
   ],
   "source": [
    "z"
   ]
  },
  {
   "cell_type": "code",
   "execution_count": null,
   "id": "e8748a7c-42ba-49a1-8e9d-899560236f91",
   "metadata": {},
   "outputs": [],
   "source": []
  },
  {
   "cell_type": "code",
   "execution_count": 7,
   "id": "6ded2eff-86f5-4fce-b15c-34bb7cbc414c",
   "metadata": {},
   "outputs": [
    {
     "name": "stdout",
     "output_type": "stream",
     "text": [
      "xyzabc\n"
     ]
    }
   ],
   "source": [
    "print(\"xyz\" + \"abc\")"
   ]
  },
  {
   "cell_type": "code",
   "execution_count": null,
   "id": "b0cc9d20-2dc9-433c-a2cd-d0ab04899c76",
   "metadata": {},
   "outputs": [],
   "source": []
  },
  {
   "cell_type": "code",
   "execution_count": null,
   "id": "e2ed4f43-5dc9-48f4-b400-f69854a985d8",
   "metadata": {},
   "outputs": [],
   "source": [
    "# concatenation, vstack, hstack"
   ]
  },
  {
   "cell_type": "code",
   "execution_count": 9,
   "id": "e99b38d6-e458-4f48-8ebb-3ddf8cd0b07a",
   "metadata": {},
   "outputs": [],
   "source": [
    "zx = np.concatenate((x, y))"
   ]
  },
  {
   "cell_type": "code",
   "execution_count": 10,
   "id": "27ca7ced-b97b-44b8-953c-ca394c3068a4",
   "metadata": {},
   "outputs": [
    {
     "data": {
      "text/plain": [
       "array([12, 45, 34, 10, 45, 34, 23, 12])"
      ]
     },
     "execution_count": 10,
     "metadata": {},
     "output_type": "execute_result"
    }
   ],
   "source": [
    "zx"
   ]
  },
  {
   "cell_type": "code",
   "execution_count": null,
   "id": "2ddee7e4-0c48-477b-a051-524126fce31c",
   "metadata": {},
   "outputs": [],
   "source": []
  },
  {
   "cell_type": "code",
   "execution_count": 11,
   "id": "062139ee-3d7a-4f1c-8f34-05811cc35c80",
   "metadata": {},
   "outputs": [],
   "source": [
    "# vstack:"
   ]
  },
  {
   "cell_type": "code",
   "execution_count": 22,
   "id": "e8bd160d-0764-44bf-926e-63538b1c20a3",
   "metadata": {},
   "outputs": [],
   "source": [
    "qw = np.vstack((x, y))"
   ]
  },
  {
   "cell_type": "code",
   "execution_count": 23,
   "id": "2133f4f8-1a4b-4970-8b8a-96988a1410fe",
   "metadata": {},
   "outputs": [
    {
     "data": {
      "text/plain": [
       "array([[12, 45, 34, 10],\n",
       "       [45, 34, 23, 12]])"
      ]
     },
     "execution_count": 23,
     "metadata": {},
     "output_type": "execute_result"
    }
   ],
   "source": [
    "qw"
   ]
  },
  {
   "cell_type": "code",
   "execution_count": null,
   "id": "12c82244-c9b7-4d11-8096-4ca1910f2d48",
   "metadata": {},
   "outputs": [],
   "source": []
  },
  {
   "cell_type": "code",
   "execution_count": null,
   "id": "b7c9c448-c819-432f-a267-a19cd3a471e4",
   "metadata": {},
   "outputs": [],
   "source": []
  },
  {
   "cell_type": "code",
   "execution_count": 24,
   "id": "d63935d0-3786-40cb-9d3e-3a1e95b02f09",
   "metadata": {},
   "outputs": [],
   "source": [
    "# list : mutable"
   ]
  },
  {
   "cell_type": "code",
   "execution_count": 25,
   "id": "bafbb4b4-8f9f-4d9a-9acc-636867fe5a7f",
   "metadata": {},
   "outputs": [],
   "source": [
    "arr = np.array([12, 45, 34, 23, 67, 45, 34, 100, 101, 67, 100])"
   ]
  },
  {
   "cell_type": "code",
   "execution_count": 26,
   "id": "652d5bd9-8597-4386-908c-bd811064d404",
   "metadata": {},
   "outputs": [
    {
     "data": {
      "text/plain": [
       "1"
      ]
     },
     "execution_count": 26,
     "metadata": {},
     "output_type": "execute_result"
    }
   ],
   "source": [
    "arr.ndim"
   ]
  },
  {
   "cell_type": "code",
   "execution_count": 27,
   "id": "dafc3d87-bb95-4c7d-b707-318de7f77257",
   "metadata": {},
   "outputs": [],
   "source": [
    "arr[4] = 87"
   ]
  },
  {
   "cell_type": "code",
   "execution_count": 28,
   "id": "a132a6c6-e576-4949-86a0-4fe4c74ccbea",
   "metadata": {},
   "outputs": [
    {
     "data": {
      "text/plain": [
       "array([ 12,  45,  34,  23,  87,  45,  34, 100, 101,  67, 100])"
      ]
     },
     "execution_count": 28,
     "metadata": {},
     "output_type": "execute_result"
    }
   ],
   "source": [
    "arr"
   ]
  },
  {
   "cell_type": "code",
   "execution_count": null,
   "id": "849e6e96-1926-4c2b-a52f-0b0d57fd27f9",
   "metadata": {},
   "outputs": [],
   "source": []
  },
  {
   "cell_type": "code",
   "execution_count": 29,
   "id": "d23f0247-e7f9-4a35-a586-358e1d3ab4b3",
   "metadata": {},
   "outputs": [],
   "source": [
    "arr[-2] = 87"
   ]
  },
  {
   "cell_type": "code",
   "execution_count": 30,
   "id": "6244eed6-44ed-492c-9a4d-e51f9a23bdac",
   "metadata": {},
   "outputs": [
    {
     "data": {
      "text/plain": [
       "array([ 12,  45,  34,  23,  87,  45,  34, 100, 101,  87, 100])"
      ]
     },
     "execution_count": 30,
     "metadata": {},
     "output_type": "execute_result"
    }
   ],
   "source": [
    "arr"
   ]
  },
  {
   "cell_type": "code",
   "execution_count": null,
   "id": "46f5a3ca-6a8b-42b6-b4d3-5b4e6f2a41ac",
   "metadata": {},
   "outputs": [],
   "source": []
  },
  {
   "cell_type": "code",
   "execution_count": 31,
   "id": "42ce39a4-9003-4d28-b390-6f799c83eaff",
   "metadata": {},
   "outputs": [],
   "source": [
    "# append()"
   ]
  },
  {
   "cell_type": "code",
   "execution_count": 32,
   "id": "3e7eef7f-240b-497c-9d29-195e3a20486a",
   "metadata": {},
   "outputs": [
    {
     "data": {
      "text/plain": [
       "array([ 12,  45,  34,  23,  87,  45,  34, 100, 101,  87, 100])"
      ]
     },
     "execution_count": 32,
     "metadata": {},
     "output_type": "execute_result"
    }
   ],
   "source": [
    "arr"
   ]
  },
  {
   "cell_type": "code",
   "execution_count": 33,
   "id": "5ab040fe-d69d-4ef6-8873-10d93abc5c83",
   "metadata": {},
   "outputs": [],
   "source": [
    "xyz = np.append(arr, 1000)"
   ]
  },
  {
   "cell_type": "code",
   "execution_count": 34,
   "id": "faeb82bb-6d51-4b1f-b377-44e57ac7396d",
   "metadata": {},
   "outputs": [
    {
     "data": {
      "text/plain": [
       "array([  12,   45,   34,   23,   87,   45,   34,  100,  101,   87,  100,\n",
       "       1000])"
      ]
     },
     "execution_count": 34,
     "metadata": {},
     "output_type": "execute_result"
    }
   ],
   "source": [
    "xyz"
   ]
  },
  {
   "cell_type": "code",
   "execution_count": null,
   "id": "757a6a08-d952-46a4-92fe-f2510e0f224e",
   "metadata": {},
   "outputs": [],
   "source": []
  },
  {
   "cell_type": "markdown",
   "id": "e50b3a14-437b-451b-a83c-f71c7afc1eb3",
   "metadata": {},
   "source": [
    "### insert()"
   ]
  },
  {
   "cell_type": "code",
   "execution_count": 35,
   "id": "97e3d283-e311-44a7-bebb-47a7e07e08a3",
   "metadata": {},
   "outputs": [],
   "source": [
    "xy = np.array([12, 34, 23, 56, 78, 345])"
   ]
  },
  {
   "cell_type": "code",
   "execution_count": 36,
   "id": "af6eec5f-8650-472a-bd05-a3ada97462e4",
   "metadata": {},
   "outputs": [],
   "source": [
    "qw = np.insert(xy, 2, 130)"
   ]
  },
  {
   "cell_type": "code",
   "execution_count": 37,
   "id": "bc56f3e0-f866-489b-8182-b365f5e62c9f",
   "metadata": {},
   "outputs": [
    {
     "data": {
      "text/plain": [
       "array([ 12,  34, 130,  23,  56,  78, 345])"
      ]
     },
     "execution_count": 37,
     "metadata": {},
     "output_type": "execute_result"
    }
   ],
   "source": [
    "qw"
   ]
  },
  {
   "cell_type": "code",
   "execution_count": null,
   "id": "2ef96484-4866-4831-8649-8c90f8fd7f6e",
   "metadata": {},
   "outputs": [],
   "source": []
  },
  {
   "cell_type": "code",
   "execution_count": 38,
   "id": "c2e4c6c9-b7e3-4eca-8241-b260332501e0",
   "metadata": {},
   "outputs": [],
   "source": [
    "xy = np.array([12, 34, 23, 56, 78, 345])"
   ]
  },
  {
   "cell_type": "code",
   "execution_count": 39,
   "id": "3f8d7af1-de84-446a-bd59-527ccd31c514",
   "metadata": {},
   "outputs": [
    {
     "data": {
      "text/plain": [
       "array([ 12,  34,  23,  56,  78, 345])"
      ]
     },
     "execution_count": 39,
     "metadata": {},
     "output_type": "execute_result"
    }
   ],
   "source": [
    "xy"
   ]
  },
  {
   "cell_type": "code",
   "execution_count": 40,
   "id": "a1f63422-f990-4302-8cdc-0f42342303c4",
   "metadata": {},
   "outputs": [],
   "source": [
    "tk = np.insert(xy, [1, 3, 5], [100, 400, 600])"
   ]
  },
  {
   "cell_type": "code",
   "execution_count": 41,
   "id": "03aed66f-e8b8-4eb1-8d94-5e5650d1690c",
   "metadata": {},
   "outputs": [
    {
     "data": {
      "text/plain": [
       "array([ 12, 100,  34,  23, 400,  56,  78, 600, 345])"
      ]
     },
     "execution_count": 41,
     "metadata": {},
     "output_type": "execute_result"
    }
   ],
   "source": [
    "tk"
   ]
  },
  {
   "cell_type": "code",
   "execution_count": null,
   "id": "6b2540db-02f9-4286-9b8d-d817613594ed",
   "metadata": {},
   "outputs": [],
   "source": []
  },
  {
   "cell_type": "code",
   "execution_count": 42,
   "id": "9aaf4cb8-4901-4e09-aafb-c7741d4d5498",
   "metadata": {},
   "outputs": [],
   "source": [
    "# delete"
   ]
  },
  {
   "cell_type": "code",
   "execution_count": 43,
   "id": "c06068a9-1722-427e-8dd6-aaf3ef47549d",
   "metadata": {},
   "outputs": [],
   "source": [
    "xy = np.array([12, 34, 23, 56, 78, 345])"
   ]
  },
  {
   "cell_type": "code",
   "execution_count": 47,
   "id": "0f27af3a-4fbc-418a-a3ff-65767262e826",
   "metadata": {},
   "outputs": [
    {
     "data": {
      "text/plain": [
       "array([12, 34, 23, 78])"
      ]
     },
     "execution_count": 47,
     "metadata": {},
     "output_type": "execute_result"
    }
   ],
   "source": [
    "np.delete(xy, [3, 5])"
   ]
  },
  {
   "cell_type": "code",
   "execution_count": null,
   "id": "84d39e86-bf02-447a-add0-0a0c1d7ce8ae",
   "metadata": {},
   "outputs": [],
   "source": []
  },
  {
   "cell_type": "code",
   "execution_count": 49,
   "id": "313f4328-8530-4928-a5b3-40c7f588e86f",
   "metadata": {},
   "outputs": [],
   "source": [
    "xy = np.array([12, 34, 23, 56, 78, 345])\n",
    "zx = np.array([45, 67, 45, 34, 23, 12])"
   ]
  },
  {
   "cell_type": "code",
   "execution_count": 53,
   "id": "e26af6c2-730b-4025-a0e7-447077876d1d",
   "metadata": {},
   "outputs": [
    {
     "data": {
      "text/plain": [
       "array([[ 12,  45],\n",
       "       [ 34,  67],\n",
       "       [ 23,  45],\n",
       "       [ 56,  34],\n",
       "       [ 78,  23],\n",
       "       [345,  12]])"
      ]
     },
     "execution_count": 53,
     "metadata": {},
     "output_type": "execute_result"
    }
   ],
   "source": [
    "np.stack((xy, zx), axis = 1)"
   ]
  },
  {
   "cell_type": "code",
   "execution_count": null,
   "id": "8ad99861-b42f-4fd9-a5b9-4c4b9ab87016",
   "metadata": {},
   "outputs": [],
   "source": []
  },
  {
   "cell_type": "markdown",
   "id": "313999a7-e71c-49cb-9e8e-5c9c9e324336",
   "metadata": {},
   "source": [
    "## reshape()"
   ]
  },
  {
   "cell_type": "code",
   "execution_count": null,
   "id": "4cc5d0ae-04d7-4c49-89d6-fc4d28d0b524",
   "metadata": {},
   "outputs": [],
   "source": []
  },
  {
   "cell_type": "markdown",
   "id": "a02be4d6-9306-4adf-bdc8-5ca021ed2b89",
   "metadata": {},
   "source": [
    "## 1d to 2d"
   ]
  },
  {
   "cell_type": "code",
   "execution_count": 62,
   "id": "a1ebcec7-2447-4f01-af91-260e0a32738f",
   "metadata": {},
   "outputs": [],
   "source": [
    "zx = np.array([12, 34, 45, 34, 56, 3, 78, 100, 45])"
   ]
  },
  {
   "cell_type": "code",
   "execution_count": 63,
   "id": "55663b99-4e8a-4d3f-92c7-a9099df45b0c",
   "metadata": {},
   "outputs": [
    {
     "data": {
      "text/plain": [
       "9"
      ]
     },
     "execution_count": 63,
     "metadata": {},
     "output_type": "execute_result"
    }
   ],
   "source": [
    "len(zx)"
   ]
  },
  {
   "cell_type": "code",
   "execution_count": 64,
   "id": "7d1348ab-9f8f-44f9-b007-b4a8c95ca62b",
   "metadata": {},
   "outputs": [
    {
     "data": {
      "text/plain": [
       "1"
      ]
     },
     "execution_count": 64,
     "metadata": {},
     "output_type": "execute_result"
    }
   ],
   "source": [
    "zx.ndim"
   ]
  },
  {
   "cell_type": "code",
   "execution_count": 66,
   "id": "f0ef854d-e314-4386-a690-2649f2f856a1",
   "metadata": {},
   "outputs": [],
   "source": [
    "yu = zx.reshape(3, 3)"
   ]
  },
  {
   "cell_type": "code",
   "execution_count": 67,
   "id": "12040bce-3cdf-4bee-9f1a-dbaebf303640",
   "metadata": {},
   "outputs": [
    {
     "data": {
      "text/plain": [
       "array([[ 12,  34,  45],\n",
       "       [ 34,  56,   3],\n",
       "       [ 78, 100,  45]])"
      ]
     },
     "execution_count": 67,
     "metadata": {},
     "output_type": "execute_result"
    }
   ],
   "source": [
    "yu"
   ]
  },
  {
   "cell_type": "code",
   "execution_count": 68,
   "id": "eabdaa08-0170-412d-a5e4-f22b2758ba9d",
   "metadata": {},
   "outputs": [
    {
     "data": {
      "text/plain": [
       "2"
      ]
     },
     "execution_count": 68,
     "metadata": {},
     "output_type": "execute_result"
    }
   ],
   "source": [
    "yu.ndim"
   ]
  },
  {
   "cell_type": "code",
   "execution_count": null,
   "id": "0599e882-db94-4343-848e-f51927a8263a",
   "metadata": {},
   "outputs": [],
   "source": []
  },
  {
   "cell_type": "code",
   "execution_count": 69,
   "id": "2dd22d8c-add9-459f-8537-ea3b1dc68bd0",
   "metadata": {},
   "outputs": [],
   "source": [
    "# -1"
   ]
  },
  {
   "cell_type": "code",
   "execution_count": null,
   "id": "a0831e3b-2bed-4a3d-b42f-f9856c7a4a69",
   "metadata": {},
   "outputs": [],
   "source": []
  },
  {
   "cell_type": "code",
   "execution_count": 70,
   "id": "503e5aa9-af2d-4dd8-88c8-e5a6221e340a",
   "metadata": {},
   "outputs": [],
   "source": [
    "zx = np.array([12, 34, 45, 34, 56, 3, 78, 100, 45])"
   ]
  },
  {
   "cell_type": "code",
   "execution_count": 71,
   "id": "6a7e56ac-2f44-4f86-b417-d81454108087",
   "metadata": {},
   "outputs": [
    {
     "data": {
      "text/plain": [
       "array([ 12,  34,  45,  34,  56,   3,  78, 100,  45])"
      ]
     },
     "execution_count": 71,
     "metadata": {},
     "output_type": "execute_result"
    }
   ],
   "source": [
    "zx"
   ]
  },
  {
   "cell_type": "code",
   "execution_count": 72,
   "id": "cd2b01a3-de25-4ec7-af3e-fe8ee25bf005",
   "metadata": {},
   "outputs": [
    {
     "data": {
      "text/plain": [
       "array([[ 12,  34,  45],\n",
       "       [ 34,  56,   3],\n",
       "       [ 78, 100,  45]])"
      ]
     },
     "execution_count": 72,
     "metadata": {},
     "output_type": "execute_result"
    }
   ],
   "source": [
    "zx.reshape(3, -1)"
   ]
  },
  {
   "cell_type": "code",
   "execution_count": null,
   "id": "eb8e0081-622e-4fbc-b73b-3f4626cde9c5",
   "metadata": {},
   "outputs": [],
   "source": []
  },
  {
   "cell_type": "code",
   "execution_count": 73,
   "id": "f19818f4-4373-4776-a3e2-0cffa1dde6c2",
   "metadata": {},
   "outputs": [],
   "source": [
    "zx = np.array([12, 34, 45, 34, 56, 3, 78, 100])"
   ]
  },
  {
   "cell_type": "code",
   "execution_count": 75,
   "id": "85c5bdd5-6a4e-412d-8e63-f576fa8f9ed3",
   "metadata": {},
   "outputs": [
    {
     "data": {
      "text/plain": [
       "array([[ 12,  34],\n",
       "       [ 45,  34],\n",
       "       [ 56,   3],\n",
       "       [ 78, 100]])"
      ]
     },
     "execution_count": 75,
     "metadata": {},
     "output_type": "execute_result"
    }
   ],
   "source": [
    "zx.reshape(4, -1)"
   ]
  },
  {
   "cell_type": "code",
   "execution_count": null,
   "id": "e0610f12-e338-4c09-8bcb-a06d7ff578bd",
   "metadata": {},
   "outputs": [],
   "source": []
  },
  {
   "cell_type": "code",
   "execution_count": null,
   "id": "2327d80c-5478-4512-b1e4-7525a344b708",
   "metadata": {},
   "outputs": [],
   "source": []
  },
  {
   "cell_type": "code",
   "execution_count": 76,
   "id": "7dee9a14-cf76-4525-9006-490ce97db2ad",
   "metadata": {},
   "outputs": [],
   "source": [
    "zx = np.array([12, 34, 45, 34, 56, 3, 78, 100])"
   ]
  },
  {
   "cell_type": "code",
   "execution_count": 79,
   "id": "85169ce2-c83b-4fb6-bed6-12062ffedb0f",
   "metadata": {},
   "outputs": [
    {
     "data": {
      "text/plain": [
       "array([[ 12,  34],\n",
       "       [ 45,  34],\n",
       "       [ 56,   3],\n",
       "       [ 78, 100]])"
      ]
     },
     "execution_count": 79,
     "metadata": {},
     "output_type": "execute_result"
    }
   ],
   "source": [
    "zx.reshape(-1, 2)"
   ]
  },
  {
   "cell_type": "code",
   "execution_count": null,
   "id": "01c207ec-45ce-4a07-9ee7-d8ce258f1631",
   "metadata": {},
   "outputs": [],
   "source": []
  },
  {
   "cell_type": "code",
   "execution_count": null,
   "id": "684951b9-e3c0-428b-b6b1-8566d3e463fd",
   "metadata": {},
   "outputs": [],
   "source": []
  },
  {
   "cell_type": "code",
   "execution_count": 80,
   "id": "75900087-177e-496b-9725-036d2a43ed72",
   "metadata": {},
   "outputs": [],
   "source": [
    "# 2d -----> 1d"
   ]
  },
  {
   "cell_type": "code",
   "execution_count": 81,
   "id": "63835d8b-c510-4255-838f-e5f48cc09513",
   "metadata": {},
   "outputs": [],
   "source": [
    "zx = np.array([[23, 45, 34, 23, 100], [56, 7, 34, 23, 12]])"
   ]
  },
  {
   "cell_type": "code",
   "execution_count": 82,
   "id": "b8f51148-e701-455e-9d90-f482ed51b3c6",
   "metadata": {},
   "outputs": [
    {
     "data": {
      "text/plain": [
       "array([[ 23,  45,  34,  23, 100],\n",
       "       [ 56,   7,  34,  23,  12]])"
      ]
     },
     "execution_count": 82,
     "metadata": {},
     "output_type": "execute_result"
    }
   ],
   "source": [
    "zx"
   ]
  },
  {
   "cell_type": "code",
   "execution_count": 83,
   "id": "fd118194-1ecc-44d7-bcdb-c4c8bffae024",
   "metadata": {},
   "outputs": [
    {
     "data": {
      "text/plain": [
       "2"
      ]
     },
     "execution_count": 83,
     "metadata": {},
     "output_type": "execute_result"
    }
   ],
   "source": [
    "zx.ndim"
   ]
  },
  {
   "cell_type": "code",
   "execution_count": 85,
   "id": "d63758fa-7a40-4ac2-9ed1-85610fb08277",
   "metadata": {},
   "outputs": [
    {
     "data": {
      "text/plain": [
       "array([ 23,  45,  34,  23, 100,  56,   7,  34,  23,  12])"
      ]
     },
     "execution_count": 85,
     "metadata": {},
     "output_type": "execute_result"
    }
   ],
   "source": [
    "zx.reshape(10)"
   ]
  },
  {
   "cell_type": "code",
   "execution_count": null,
   "id": "5e60cd64-eb8b-4919-be62-f8be7c01fef6",
   "metadata": {},
   "outputs": [],
   "source": []
  },
  {
   "cell_type": "code",
   "execution_count": 86,
   "id": "c61123eb-2b82-4285-a7ff-5b15b7944e8b",
   "metadata": {},
   "outputs": [],
   "source": [
    "zx = np.array([[23, 45, 34, 23, 100], [56, 7, 34, 23, 12]])"
   ]
  },
  {
   "cell_type": "code",
   "execution_count": 87,
   "id": "4730cbc5-d739-43d8-a6b6-63317f4e7819",
   "metadata": {},
   "outputs": [
    {
     "data": {
      "text/plain": [
       "array([ 23,  45,  34,  23, 100,  56,   7,  34,  23,  12])"
      ]
     },
     "execution_count": 87,
     "metadata": {},
     "output_type": "execute_result"
    }
   ],
   "source": [
    "zx.reshape(-1)"
   ]
  },
  {
   "cell_type": "code",
   "execution_count": null,
   "id": "57608c54-2dcb-454f-a79e-a687b8275bef",
   "metadata": {},
   "outputs": [],
   "source": []
  },
  {
   "cell_type": "code",
   "execution_count": null,
   "id": "777c584d-e31f-4c1d-9a0e-c9e7622471bb",
   "metadata": {},
   "outputs": [],
   "source": []
  },
  {
   "cell_type": "code",
   "execution_count": 88,
   "id": "74388360-c2ac-4811-953e-45932bea5164",
   "metadata": {},
   "outputs": [],
   "source": [
    "# 1d =------> 3d"
   ]
  },
  {
   "cell_type": "code",
   "execution_count": 89,
   "id": "e4e5504e-850d-4622-bff4-cb8cd6feadcf",
   "metadata": {},
   "outputs": [],
   "source": [
    "qw = np.array([12, 34, 45, 34, 56, 3, 78, 100, 56, 34, 23, 100])"
   ]
  },
  {
   "cell_type": "code",
   "execution_count": 90,
   "id": "09fab8f9-7ced-4e71-bba0-2be8d850107c",
   "metadata": {},
   "outputs": [
    {
     "data": {
      "text/plain": [
       "12"
      ]
     },
     "execution_count": 90,
     "metadata": {},
     "output_type": "execute_result"
    }
   ],
   "source": [
    "len(qw)"
   ]
  },
  {
   "cell_type": "code",
   "execution_count": 95,
   "id": "63c0cb39-eb58-45a1-9769-6b44295571da",
   "metadata": {},
   "outputs": [
    {
     "data": {
      "text/plain": [
       "array([[[ 12,  34],\n",
       "        [ 45,  34]],\n",
       "\n",
       "       [[ 56,   3],\n",
       "        [ 78, 100]],\n",
       "\n",
       "       [[ 56,  34],\n",
       "        [ 23, 100]]])"
      ]
     },
     "execution_count": 95,
     "metadata": {},
     "output_type": "execute_result"
    }
   ],
   "source": [
    "qw.reshape(3, 2, -1)"
   ]
  },
  {
   "cell_type": "code",
   "execution_count": null,
   "id": "1b3e308e-9139-47ba-a876-7966eb90beb3",
   "metadata": {},
   "outputs": [],
   "source": []
  },
  {
   "cell_type": "code",
   "execution_count": null,
   "id": "a8db80b2-a987-4555-8bee-04a010f6ff8f",
   "metadata": {},
   "outputs": [],
   "source": []
  },
  {
   "cell_type": "code",
   "execution_count": null,
   "id": "e9bee112-8232-4b2b-8f77-f658febead48",
   "metadata": {},
   "outputs": [],
   "source": []
  },
  {
   "cell_type": "code",
   "execution_count": 96,
   "id": "0e37ae91-0e84-407b-a60e-9aea5671d659",
   "metadata": {},
   "outputs": [],
   "source": [
    "#3d to 1d"
   ]
  },
  {
   "cell_type": "code",
   "execution_count": 98,
   "id": "51b51218-bfb2-4029-bb6f-7168b10d423c",
   "metadata": {},
   "outputs": [],
   "source": [
    "x = np.array([[[ 12,  34],\n",
    "        [ 45,  34]],\n",
    "\n",
    "       [[ 56,   3],\n",
    "        [ 78, 100]],\n",
    "\n",
    "       [[ 56,  34],\n",
    "        [ 23, 100]]])"
   ]
  },
  {
   "cell_type": "code",
   "execution_count": 99,
   "id": "9f8ed1c9-5fd6-434c-b040-184a902179da",
   "metadata": {},
   "outputs": [
    {
     "data": {
      "text/plain": [
       "3"
      ]
     },
     "execution_count": 99,
     "metadata": {},
     "output_type": "execute_result"
    }
   ],
   "source": [
    "x.ndim"
   ]
  },
  {
   "cell_type": "code",
   "execution_count": 100,
   "id": "06087f20-edac-4e61-9772-855e80bd01c8",
   "metadata": {},
   "outputs": [
    {
     "data": {
      "text/plain": [
       "array([ 12,  34,  45,  34,  56,   3,  78, 100,  56,  34,  23, 100])"
      ]
     },
     "execution_count": 100,
     "metadata": {},
     "output_type": "execute_result"
    }
   ],
   "source": [
    "x.reshape(-1)"
   ]
  },
  {
   "cell_type": "code",
   "execution_count": null,
   "id": "aaccb1dc-75c6-4c4c-8ce3-36fa55bac928",
   "metadata": {},
   "outputs": [],
   "source": []
  },
  {
   "cell_type": "code",
   "execution_count": null,
   "id": "0531b2c3-9d19-4546-85c5-a7ac9f7b84b7",
   "metadata": {},
   "outputs": [],
   "source": [
    "[\"2 x 1 = 2\", \"2 x 2 = 4\", \"2 x 3 = 6\" , >>...>....>>>>>, \"2 x 10 = 20\"]"
   ]
  },
  {
   "cell_type": "code",
   "execution_count": null,
   "id": "a0317da4-12ab-4590-923d-5de719466cfa",
   "metadata": {},
   "outputs": [],
   "source": []
  },
  {
   "cell_type": "code",
   "execution_count": null,
   "id": "10a80e79-cd50-4eb6-a55a-a6ceb07fbdc9",
   "metadata": {},
   "outputs": [],
   "source": [
    "# zx = np.array([10, 56, 4, 100, 78, 0, 2, 3, 4, 0, 34, 0])"
   ]
  },
  {
   "cell_type": "code",
   "execution_count": null,
   "id": "09763070-f23d-41c3-8206-4784c79aa920",
   "metadata": {},
   "outputs": [],
   "source": [
    "[0, 00, 000, 0000, 00000, 0000, 000, 00, 0]"
   ]
  },
  {
   "cell_type": "code",
   "execution_count": null,
   "id": "6cd7a07e-51e1-4e78-bd32-601072d19677",
   "metadata": {},
   "outputs": [],
   "source": []
  },
  {
   "cell_type": "code",
   "execution_count": 111,
   "id": "562032fc-9c72-4624-8cb3-48f861d674e6",
   "metadata": {},
   "outputs": [],
   "source": [
    "zx = np.array([[23, 45, 2, 56], [34, 56, 340, 23]])"
   ]
  },
  {
   "cell_type": "code",
   "execution_count": 114,
   "id": "302c60fe-cdcc-41fd-83a7-b46add6dd558",
   "metadata": {},
   "outputs": [
    {
     "data": {
      "text/plain": [
       "array([[ 23,  45,   2,  56],\n",
       "       [ 34,  56, 340,  23]])"
      ]
     },
     "execution_count": 114,
     "metadata": {},
     "output_type": "execute_result"
    }
   ],
   "source": [
    "zx"
   ]
  },
  {
   "cell_type": "code",
   "execution_count": 112,
   "id": "f809099f-5759-4085-89d2-a06c5b2d7d0f",
   "metadata": {},
   "outputs": [
    {
     "data": {
      "text/plain": [
       "340"
      ]
     },
     "execution_count": 112,
     "metadata": {},
     "output_type": "execute_result"
    }
   ],
   "source": [
    "np.max(zx)"
   ]
  },
  {
   "cell_type": "code",
   "execution_count": 113,
   "id": "378f6472-9184-419a-8f32-e34be6661c98",
   "metadata": {},
   "outputs": [
    {
     "data": {
      "text/plain": [
       "6"
      ]
     },
     "execution_count": 113,
     "metadata": {},
     "output_type": "execute_result"
    }
   ],
   "source": [
    "np.argmax(zx)"
   ]
  },
  {
   "cell_type": "code",
   "execution_count": 110,
   "id": "13a17e1a-21b2-4d39-81a6-cca202983d24",
   "metadata": {},
   "outputs": [
    {
     "name": "stdout",
     "output_type": "stream",
     "text": [
      "Help on _ArrayFunctionDispatcher in module numpy:\n",
      "\n",
      "argmax(a, axis=None, out=None, *, keepdims=<no value>)\n",
      "    Returns the indices of the maximum values along an axis.\n",
      "\n",
      "    Parameters\n",
      "    ----------\n",
      "    a : array_like\n",
      "        Input array.\n",
      "    axis : int, optional\n",
      "        By default, the index is into the flattened array, otherwise\n",
      "        along the specified axis.\n",
      "    out : array, optional\n",
      "        If provided, the result will be inserted into this array. It should\n",
      "        be of the appropriate shape and dtype.\n",
      "    keepdims : bool, optional\n",
      "        If this is set to True, the axes which are reduced are left\n",
      "        in the result as dimensions with size one. With this option,\n",
      "        the result will broadcast correctly against the array.\n",
      "\n",
      "        .. versionadded:: 1.22.0\n",
      "\n",
      "    Returns\n",
      "    -------\n",
      "    index_array : ndarray of ints\n",
      "        Array of indices into the array. It has the same shape as `a.shape`\n",
      "        with the dimension along `axis` removed. If `keepdims` is set to True,\n",
      "        then the size of `axis` will be 1 with the resulting array having same\n",
      "        shape as `a.shape`.\n",
      "\n",
      "    See Also\n",
      "    --------\n",
      "    ndarray.argmax, argmin\n",
      "    amax : The maximum value along a given axis.\n",
      "    unravel_index : Convert a flat index into an index tuple.\n",
      "    take_along_axis : Apply ``np.expand_dims(index_array, axis)``\n",
      "                      from argmax to an array as if by calling max.\n",
      "\n",
      "    Notes\n",
      "    -----\n",
      "    In case of multiple occurrences of the maximum values, the indices\n",
      "    corresponding to the first occurrence are returned.\n",
      "\n",
      "    Examples\n",
      "    --------\n",
      "    >>> a = np.arange(6).reshape(2,3) + 10\n",
      "    >>> a\n",
      "    array([[10, 11, 12],\n",
      "           [13, 14, 15]])\n",
      "    >>> np.argmax(a)\n",
      "    5\n",
      "    >>> np.argmax(a, axis=0)\n",
      "    array([1, 1, 1])\n",
      "    >>> np.argmax(a, axis=1)\n",
      "    array([2, 2])\n",
      "\n",
      "    Indexes of the maximal elements of a N-dimensional array:\n",
      "\n",
      "    >>> ind = np.unravel_index(np.argmax(a, axis=None), a.shape)\n",
      "    >>> ind\n",
      "    (1, 2)\n",
      "    >>> a[ind]\n",
      "    15\n",
      "\n",
      "    >>> b = np.arange(6)\n",
      "    >>> b[1] = 5\n",
      "    >>> b\n",
      "    array([0, 5, 2, 3, 4, 5])\n",
      "    >>> np.argmax(b)  # Only the first occurrence is returned.\n",
      "    1\n",
      "\n",
      "    >>> x = np.array([[4,2,3], [1,0,3]])\n",
      "    >>> index_array = np.argmax(x, axis=-1)\n",
      "    >>> # Same as np.amax(x, axis=-1, keepdims=True)\n",
      "    >>> np.take_along_axis(x, np.expand_dims(index_array, axis=-1), axis=-1)\n",
      "    array([[4],\n",
      "           [3]])\n",
      "    >>> # Same as np.amax(x, axis=-1)\n",
      "    >>> np.take_along_axis(x, np.expand_dims(index_array, axis=-1), axis=-1).squeeze(axis=-1)\n",
      "    array([4, 3])\n",
      "\n",
      "    Setting `keepdims` to `True`,\n",
      "\n",
      "    >>> x = np.arange(24).reshape((2, 3, 4))\n",
      "    >>> res = np.argmax(x, axis=1, keepdims=True)\n",
      "    >>> res.shape\n",
      "    (2, 1, 4)\n",
      "\n"
     ]
    }
   ],
   "source": [
    "help(np.argmax)"
   ]
  },
  {
   "cell_type": "code",
   "execution_count": null,
   "id": "be4a469a-5ff9-44c2-b1ad-57d48cdab721",
   "metadata": {},
   "outputs": [],
   "source": []
  }
 ],
 "metadata": {
  "kernelspec": {
   "display_name": "Python 3 (ipykernel)",
   "language": "python",
   "name": "python3"
  },
  "language_info": {
   "codemirror_mode": {
    "name": "ipython",
    "version": 3
   },
   "file_extension": ".py",
   "mimetype": "text/x-python",
   "name": "python",
   "nbconvert_exporter": "python",
   "pygments_lexer": "ipython3",
   "version": "3.12.0"
  }
 },
 "nbformat": 4,
 "nbformat_minor": 5
}
