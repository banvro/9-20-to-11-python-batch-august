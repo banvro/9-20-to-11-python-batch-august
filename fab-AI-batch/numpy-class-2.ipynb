{
 "cells": [
  {
   "cell_type": "code",
   "execution_count": 2,
   "id": "3ba78870-2542-420e-b11b-fcaeb2cd9b4d",
   "metadata": {},
   "outputs": [],
   "source": [
    "# Numpy :"
   ]
  },
  {
   "cell_type": "code",
   "execution_count": 3,
   "id": "3b02300d-737a-458a-8bd5-a779ce336e80",
   "metadata": {},
   "outputs": [],
   "source": [
    "# ndarray : "
   ]
  },
  {
   "cell_type": "code",
   "execution_count": null,
   "id": "b4491d20-2af0-4d0d-9fce-a245a8a6cb81",
   "metadata": {},
   "outputs": [],
   "source": []
  },
  {
   "cell_type": "code",
   "execution_count": 4,
   "id": "262a4088-2880-4d37-bb55-31db51f2307c",
   "metadata": {},
   "outputs": [],
   "source": [
    "import numpy as np"
   ]
  },
  {
   "cell_type": "code",
   "execution_count": 5,
   "id": "6755c7f0-0938-4c91-9f50-80c7769403e2",
   "metadata": {},
   "outputs": [],
   "source": [
    "arr = np.array([[12, 10, 50, 100], [45, 34, 67, 34]])"
   ]
  },
  {
   "cell_type": "code",
   "execution_count": 6,
   "id": "92bb80cb-3a88-43c7-97f0-ecbf7d7c3edc",
   "metadata": {},
   "outputs": [
    {
     "data": {
      "text/plain": [
       "array([[ 12,  10,  50, 100],\n",
       "       [ 45,  34,  67,  34]])"
      ]
     },
     "execution_count": 6,
     "metadata": {},
     "output_type": "execute_result"
    }
   ],
   "source": [
    "arr"
   ]
  },
  {
   "cell_type": "code",
   "execution_count": 7,
   "id": "78076acc-3cb8-489b-9f3b-caf6f9bb8dac",
   "metadata": {},
   "outputs": [
    {
     "data": {
      "text/plain": [
       "2"
      ]
     },
     "execution_count": 7,
     "metadata": {},
     "output_type": "execute_result"
    }
   ],
   "source": [
    "arr.ndim"
   ]
  },
  {
   "cell_type": "code",
   "execution_count": 8,
   "id": "92c5e121-38be-428f-9bf6-06f75a1ffbe0",
   "metadata": {},
   "outputs": [
    {
     "data": {
      "text/plain": [
       "(2, 4)"
      ]
     },
     "execution_count": 8,
     "metadata": {},
     "output_type": "execute_result"
    }
   ],
   "source": [
    "arr.shape"
   ]
  },
  {
   "cell_type": "code",
   "execution_count": null,
   "id": "b0ac6818-d78b-433a-84b3-2e0fab42d474",
   "metadata": {},
   "outputs": [],
   "source": []
  },
  {
   "cell_type": "markdown",
   "id": "2c11c5e3-553a-4fa5-b76f-ecc18c8f0fba",
   "metadata": {},
   "source": [
    "## list => indexing, slicing"
   ]
  },
  {
   "cell_type": "code",
   "execution_count": 9,
   "id": "e9df269a-66a7-41fb-90e7-dda338e09c24",
   "metadata": {},
   "outputs": [],
   "source": [
    "arr1 = np.array([12, 20, 34, 23, 45, 56, 34, 23, 100])"
   ]
  },
  {
   "cell_type": "code",
   "execution_count": 10,
   "id": "2526dd6a-d247-4ff5-a073-3871edc6cef0",
   "metadata": {},
   "outputs": [
    {
     "data": {
      "text/plain": [
       "array([ 12,  20,  34,  23,  45,  56,  34,  23, 100])"
      ]
     },
     "execution_count": 10,
     "metadata": {},
     "output_type": "execute_result"
    }
   ],
   "source": [
    "arr1"
   ]
  },
  {
   "cell_type": "code",
   "execution_count": 11,
   "id": "cd5591a5-0836-41ac-b02b-f0f2a2d33212",
   "metadata": {},
   "outputs": [
    {
     "data": {
      "text/plain": [
       "1"
      ]
     },
     "execution_count": 11,
     "metadata": {},
     "output_type": "execute_result"
    }
   ],
   "source": [
    "arr1.ndim"
   ]
  },
  {
   "cell_type": "code",
   "execution_count": 13,
   "id": "d29cbbaf-e039-4074-afb8-2741b52001df",
   "metadata": {},
   "outputs": [
    {
     "data": {
      "text/plain": [
       "45"
      ]
     },
     "execution_count": 13,
     "metadata": {},
     "output_type": "execute_result"
    }
   ],
   "source": [
    "arr1[4]"
   ]
  },
  {
   "cell_type": "code",
   "execution_count": null,
   "id": "ef2591bb-b6cb-4bd2-8d20-6efe808c08f0",
   "metadata": {},
   "outputs": [],
   "source": [
    "# slcing:, =>    objname[start : end : increment]\n",
    "\n",
    "# defaut values:\n",
    "#     start => 0\n",
    "#     end = n - 1\n",
    "#     increment = 1"
   ]
  },
  {
   "cell_type": "code",
   "execution_count": 14,
   "id": "ed8fd02f-f050-4534-8709-c6c5d865fd41",
   "metadata": {},
   "outputs": [],
   "source": [
    "arr1 = np.array([12, 20, 34, 23, 45, 56, 34, 23, 100])"
   ]
  },
  {
   "cell_type": "code",
   "execution_count": 17,
   "id": "6aeb9d1f-f8ab-43a1-9c3d-15e152048468",
   "metadata": {},
   "outputs": [
    {
     "data": {
      "text/plain": [
       "array([34, 23, 45, 56, 34])"
      ]
     },
     "execution_count": 17,
     "metadata": {},
     "output_type": "execute_result"
    }
   ],
   "source": [
    "arr1[2 : 7 : 1]"
   ]
  },
  {
   "cell_type": "code",
   "execution_count": null,
   "id": "4b928df0-b0c0-4a39-bbc1-5897d6b36aa7",
   "metadata": {},
   "outputs": [],
   "source": []
  },
  {
   "cell_type": "code",
   "execution_count": 18,
   "id": "3169e4d2-a5b4-4f2d-baa8-d08c81744e10",
   "metadata": {},
   "outputs": [
    {
     "data": {
      "text/plain": [
       "array([ 23,  45,  56,  34,  23, 100])"
      ]
     },
     "execution_count": 18,
     "metadata": {},
     "output_type": "execute_result"
    }
   ],
   "source": [
    "arr1[3 : ]"
   ]
  },
  {
   "cell_type": "code",
   "execution_count": 19,
   "id": "bfb10903-0782-439f-a299-f29567d03063",
   "metadata": {},
   "outputs": [
    {
     "data": {
      "text/plain": [
       "array([12, 20, 34, 23, 45])"
      ]
     },
     "execution_count": 19,
     "metadata": {},
     "output_type": "execute_result"
    }
   ],
   "source": [
    "arr1[ : 5]"
   ]
  },
  {
   "cell_type": "code",
   "execution_count": 20,
   "id": "2b6793bc-2091-4951-a32e-69ccf470da33",
   "metadata": {},
   "outputs": [
    {
     "data": {
      "text/plain": [
       "array([100,  23,  34,  56,  45,  23,  34,  20,  12])"
      ]
     },
     "execution_count": 20,
     "metadata": {},
     "output_type": "execute_result"
    }
   ],
   "source": [
    "arr1[: : -1]"
   ]
  },
  {
   "cell_type": "code",
   "execution_count": null,
   "id": "4e3c565a-fb7e-4e17-a4df-d3f5230e135c",
   "metadata": {},
   "outputs": [],
   "source": []
  },
  {
   "cell_type": "code",
   "execution_count": 21,
   "id": "3436cec1-0d99-4b9d-9be8-3883bc664980",
   "metadata": {},
   "outputs": [],
   "source": [
    "arr1 = np.array([12, 20, 34, 23, 45, 56, 34, 23, 100])"
   ]
  },
  {
   "cell_type": "code",
   "execution_count": 24,
   "id": "548d0666-8be7-4ba5-958d-77d26ab1ca0d",
   "metadata": {},
   "outputs": [
    {
     "data": {
      "text/plain": [
       "array([ 12,  34,  45,  34, 100])"
      ]
     },
     "execution_count": 24,
     "metadata": {},
     "output_type": "execute_result"
    }
   ],
   "source": [
    "arr1[ : : 2]"
   ]
  },
  {
   "cell_type": "code",
   "execution_count": null,
   "id": "e05710e0-0475-4fd0-9796-70f1e26f437b",
   "metadata": {},
   "outputs": [],
   "source": []
  },
  {
   "cell_type": "code",
   "execution_count": null,
   "id": "6f535d81-abe0-43a8-bf79-354a9767f930",
   "metadata": {},
   "outputs": [],
   "source": []
  },
  {
   "cell_type": "markdown",
   "id": "7cf2e192-0e84-4341-9aaa-df58a04bfe43",
   "metadata": {},
   "source": [
    "## with 2d"
   ]
  },
  {
   "cell_type": "code",
   "execution_count": 26,
   "id": "eb25fe74-b65c-4482-bfe7-5b9e4bfac188",
   "metadata": {},
   "outputs": [],
   "source": [
    "arr = np.array([[12, 10, 50, 100], [45, 34, 67, 34]])"
   ]
  },
  {
   "cell_type": "code",
   "execution_count": 27,
   "id": "bccaf927-6e20-449d-96d5-29e5f50fa6bf",
   "metadata": {},
   "outputs": [
    {
     "data": {
      "text/plain": [
       "array([[ 12,  10,  50, 100],\n",
       "       [ 45,  34,  67,  34]])"
      ]
     },
     "execution_count": 27,
     "metadata": {},
     "output_type": "execute_result"
    }
   ],
   "source": [
    "arr"
   ]
  },
  {
   "cell_type": "code",
   "execution_count": 29,
   "id": "90b21131-2247-4ec5-b6e8-55bb13328fd5",
   "metadata": {},
   "outputs": [
    {
     "data": {
      "text/plain": [
       "67"
      ]
     },
     "execution_count": 29,
     "metadata": {},
     "output_type": "execute_result"
    }
   ],
   "source": [
    "arr[1][2]"
   ]
  },
  {
   "cell_type": "code",
   "execution_count": 30,
   "id": "68f813f9-7a32-4d03-ba59-a900ee52d7ca",
   "metadata": {},
   "outputs": [
    {
     "data": {
      "text/plain": [
       "50"
      ]
     },
     "execution_count": 30,
     "metadata": {},
     "output_type": "execute_result"
    }
   ],
   "source": [
    "arr[0][2]"
   ]
  },
  {
   "cell_type": "code",
   "execution_count": 32,
   "id": "ca221a76-7570-4aa1-b048-c24dd3a8b84d",
   "metadata": {},
   "outputs": [
    {
     "data": {
      "text/plain": [
       "array([34, 67, 34])"
      ]
     },
     "execution_count": 32,
     "metadata": {},
     "output_type": "execute_result"
    }
   ],
   "source": [
    "arr[1][1 : ]"
   ]
  },
  {
   "cell_type": "code",
   "execution_count": null,
   "id": "45754a6a-89ae-48e4-a03b-1ad52637afc7",
   "metadata": {},
   "outputs": [],
   "source": []
  },
  {
   "cell_type": "code",
   "execution_count": 33,
   "id": "53ba0e3d-9135-4713-a128-531f2d299bbe",
   "metadata": {},
   "outputs": [],
   "source": [
    "xyz = np.array([[12, 34, 23, 45, 23, 12], [45, 67, 45, 34, 45, 2], [78, 56, 45, 23, 45, 23]])"
   ]
  },
  {
   "cell_type": "code",
   "execution_count": 34,
   "id": "09c6bcad-44b9-43ff-b46f-fd90e300c080",
   "metadata": {},
   "outputs": [
    {
     "data": {
      "text/plain": [
       "2"
      ]
     },
     "execution_count": 34,
     "metadata": {},
     "output_type": "execute_result"
    }
   ],
   "source": [
    "xyz.ndim"
   ]
  },
  {
   "cell_type": "code",
   "execution_count": 35,
   "id": "79c810f5-d963-4a02-ac8f-b1eae7862ee7",
   "metadata": {},
   "outputs": [
    {
     "data": {
      "text/plain": [
       "array([56, 45, 23, 45])"
      ]
     },
     "execution_count": 35,
     "metadata": {},
     "output_type": "execute_result"
    }
   ],
   "source": [
    "xyz[2][1 : 5]"
   ]
  },
  {
   "cell_type": "code",
   "execution_count": null,
   "id": "5e121529-0c09-4728-ad60-c331cec3d953",
   "metadata": {},
   "outputs": [],
   "source": []
  },
  {
   "cell_type": "code",
   "execution_count": null,
   "id": "efd7009a-1f93-46df-ab5b-0695a6b6918f",
   "metadata": {},
   "outputs": [],
   "source": []
  },
  {
   "cell_type": "markdown",
   "id": "277a9fee-df75-40e8-b95e-fc71dff00180",
   "metadata": {},
   "source": [
    "## with 3d"
   ]
  },
  {
   "cell_type": "code",
   "execution_count": 36,
   "id": "83ebfbb2-bff2-4728-8969-55446cf445e0",
   "metadata": {},
   "outputs": [],
   "source": [
    "arr = np.array([[[12, 10, 50, 100], [45, 34, 67, 34]], [[56, 45, 34, 44], [67, 45, 34, 23]]])"
   ]
  },
  {
   "cell_type": "code",
   "execution_count": 37,
   "id": "bc1d4d89-452c-4493-a5aa-6c1c27845148",
   "metadata": {},
   "outputs": [
    {
     "data": {
      "text/plain": [
       "3"
      ]
     },
     "execution_count": 37,
     "metadata": {},
     "output_type": "execute_result"
    }
   ],
   "source": [
    "arr.ndim"
   ]
  },
  {
   "cell_type": "code",
   "execution_count": 38,
   "id": "12816427-54c0-4960-b95c-5386eefe5653",
   "metadata": {},
   "outputs": [
    {
     "data": {
      "text/plain": [
       "array([[[ 12,  10,  50, 100],\n",
       "        [ 45,  34,  67,  34]],\n",
       "\n",
       "       [[ 56,  45,  34,  44],\n",
       "        [ 67,  45,  34,  23]]])"
      ]
     },
     "execution_count": 38,
     "metadata": {},
     "output_type": "execute_result"
    }
   ],
   "source": [
    "arr"
   ]
  },
  {
   "cell_type": "code",
   "execution_count": 39,
   "id": "c2cc52cc-330e-41c7-98e2-6b00d8fc6151",
   "metadata": {},
   "outputs": [
    {
     "ename": "IndexError",
     "evalue": "index 2 is out of bounds for axis 0 with size 2",
     "output_type": "error",
     "traceback": [
      "\u001b[1;31m---------------------------------------------------------------------------\u001b[0m",
      "\u001b[1;31mIndexError\u001b[0m                                Traceback (most recent call last)",
      "Cell \u001b[1;32mIn[39], line 1\u001b[0m\n\u001b[1;32m----> 1\u001b[0m \u001b[43marr\u001b[49m\u001b[43m[\u001b[49m\u001b[38;5;241;43m2\u001b[39;49m\u001b[43m]\u001b[49m[\u001b[38;5;241m2\u001b[39m]\n",
      "\u001b[1;31mIndexError\u001b[0m: index 2 is out of bounds for axis 0 with size 2"
     ]
    }
   ],
   "source": [
    "arr[2][2]"
   ]
  },
  {
   "cell_type": "code",
   "execution_count": 40,
   "id": "ee2bee79-817d-4399-b0f1-c2963bbb3dda",
   "metadata": {},
   "outputs": [
    {
     "data": {
      "text/plain": [
       "44"
      ]
     },
     "execution_count": 40,
     "metadata": {},
     "output_type": "execute_result"
    }
   ],
   "source": [
    "arr[1][0][3]"
   ]
  },
  {
   "cell_type": "code",
   "execution_count": 41,
   "id": "3410bcdf-b644-491c-9e16-d2d21bc047be",
   "metadata": {},
   "outputs": [
    {
     "data": {
      "text/plain": [
       "array([67, 45, 34, 23])"
      ]
     },
     "execution_count": 41,
     "metadata": {},
     "output_type": "execute_result"
    }
   ],
   "source": [
    "arr[1][1]"
   ]
  },
  {
   "cell_type": "code",
   "execution_count": 42,
   "id": "39fa224a-49d3-4447-bfcf-ebc81f7be43e",
   "metadata": {},
   "outputs": [
    {
     "ename": "IndexError",
     "evalue": "index 7 is out of bounds for axis 0 with size 2",
     "output_type": "error",
     "traceback": [
      "\u001b[1;31m---------------------------------------------------------------------------\u001b[0m",
      "\u001b[1;31mIndexError\u001b[0m                                Traceback (most recent call last)",
      "Cell \u001b[1;32mIn[42], line 1\u001b[0m\n\u001b[1;32m----> 1\u001b[0m \u001b[43marr\u001b[49m\u001b[43m[\u001b[49m\u001b[38;5;241;43m0\u001b[39;49m\u001b[43m]\u001b[49m\u001b[43m[\u001b[49m\u001b[38;5;241;43m7\u001b[39;49m\u001b[43m]\u001b[49m\n",
      "\u001b[1;31mIndexError\u001b[0m: index 7 is out of bounds for axis 0 with size 2"
     ]
    }
   ],
   "source": [
    "arr[0][7]"
   ]
  },
  {
   "cell_type": "code",
   "execution_count": 43,
   "id": "1ab38780-369a-448e-abd3-4e80204065d7",
   "metadata": {},
   "outputs": [
    {
     "data": {
      "text/plain": [
       "34"
      ]
     },
     "execution_count": 43,
     "metadata": {},
     "output_type": "execute_result"
    }
   ],
   "source": [
    "arr[0][1][3]"
   ]
  },
  {
   "cell_type": "code",
   "execution_count": null,
   "id": "f4595d60-543f-4175-88b4-6c00e02d74ab",
   "metadata": {},
   "outputs": [],
   "source": []
  },
  {
   "cell_type": "code",
   "execution_count": 44,
   "id": "21641f16-8f0b-4436-ade2-2efc86358808",
   "metadata": {},
   "outputs": [],
   "source": [
    "arr = np.array([[[12, 10, 50, 100], [45, 34, 67, 34]], [[56, 45, 34, 44], [67, 45, 34, 23]]])"
   ]
  },
  {
   "cell_type": "code",
   "execution_count": 47,
   "id": "dd75dddd-8d0a-4aa0-801c-54f107170581",
   "metadata": {},
   "outputs": [
    {
     "data": {
      "text/plain": [
       "45"
      ]
     },
     "execution_count": 47,
     "metadata": {},
     "output_type": "execute_result"
    }
   ],
   "source": [
    "arr[1][0][1]"
   ]
  },
  {
   "cell_type": "code",
   "execution_count": null,
   "id": "8b431477-fb15-4e3a-8d3b-fb07efe7df37",
   "metadata": {},
   "outputs": [],
   "source": []
  },
  {
   "cell_type": "code",
   "execution_count": null,
   "id": "414c22fa-4d6c-4af1-9675-66115fb02287",
   "metadata": {},
   "outputs": [],
   "source": []
  },
  {
   "cell_type": "markdown",
   "id": "1f1ca4db-6978-454a-a9d7-2e786929210c",
   "metadata": {},
   "source": [
    "## where()"
   ]
  },
  {
   "cell_type": "code",
   "execution_count": 50,
   "id": "2a7b3d92-f09c-4fc1-9238-37e74317dae5",
   "metadata": {},
   "outputs": [],
   "source": [
    "xyz = np.array([12, 20, 56, 34, 23, 45, 56, 34, 23, 100, 56])"
   ]
  },
  {
   "cell_type": "code",
   "execution_count": 51,
   "id": "05f5081e-21e2-4996-91ac-36359279e3b9",
   "metadata": {},
   "outputs": [
    {
     "data": {
      "text/plain": [
       "(array([ 2,  6, 10], dtype=int64),)"
      ]
     },
     "execution_count": 51,
     "metadata": {},
     "output_type": "execute_result"
    }
   ],
   "source": [
    "np.where(xyz == 56)"
   ]
  },
  {
   "cell_type": "code",
   "execution_count": null,
   "id": "4a1cca44-0c55-47fd-a7b4-ebe3e5376c54",
   "metadata": {},
   "outputs": [],
   "source": []
  },
  {
   "cell_type": "markdown",
   "id": "a808f98d-1966-41f1-9ed1-48dedc885ceb",
   "metadata": {},
   "source": [
    "## sort()"
   ]
  },
  {
   "cell_type": "code",
   "execution_count": 52,
   "id": "30501afd-5493-4b26-92e9-d38f56fe950e",
   "metadata": {},
   "outputs": [],
   "source": [
    "xyz = np.array([12, 20, 56, 34, 23, 45, 56, 34, 23, 100, 56])"
   ]
  },
  {
   "cell_type": "code",
   "execution_count": 53,
   "id": "02114ff7-9ed5-4a68-97d1-364b84a236bc",
   "metadata": {},
   "outputs": [
    {
     "data": {
      "text/plain": [
       "array([ 12,  20,  23,  23,  34,  34,  45,  56,  56,  56, 100])"
      ]
     },
     "execution_count": 53,
     "metadata": {},
     "output_type": "execute_result"
    }
   ],
   "source": [
    "np.sort(xyz)"
   ]
  },
  {
   "cell_type": "code",
   "execution_count": null,
   "id": "743b4a0b-e571-4ad8-b089-741efc9238a7",
   "metadata": {},
   "outputs": [],
   "source": []
  },
  {
   "cell_type": "code",
   "execution_count": 54,
   "id": "83d9f2da-62a2-482d-93d2-228b4f0e9da1",
   "metadata": {},
   "outputs": [
    {
     "name": "stdout",
     "output_type": "stream",
     "text": [
      "Help on built-in function arange in module numpy:\n",
      "\n",
      "arange(...)\n",
      "    arange([start,] stop[, step,], dtype=None, *, like=None)\n",
      "\n",
      "    Return evenly spaced values within a given interval.\n",
      "\n",
      "    ``arange`` can be called with a varying number of positional arguments:\n",
      "\n",
      "    * ``arange(stop)``: Values are generated within the half-open interval\n",
      "      ``[0, stop)`` (in other words, the interval including `start` but\n",
      "      excluding `stop`).\n",
      "    * ``arange(start, stop)``: Values are generated within the half-open\n",
      "      interval ``[start, stop)``.\n",
      "    * ``arange(start, stop, step)`` Values are generated within the half-open\n",
      "      interval ``[start, stop)``, with spacing between values given by\n",
      "      ``step``.\n",
      "\n",
      "    For integer arguments the function is roughly equivalent to the Python\n",
      "    built-in :py:class:`range`, but returns an ndarray rather than a ``range``\n",
      "    instance.\n",
      "\n",
      "    When using a non-integer step, such as 0.1, it is often better to use\n",
      "    `numpy.linspace`.\n",
      "\n",
      "    See the Warning sections below for more information.\n",
      "\n",
      "    Parameters\n",
      "    ----------\n",
      "    start : integer or real, optional\n",
      "        Start of interval.  The interval includes this value.  The default\n",
      "        start value is 0.\n",
      "    stop : integer or real\n",
      "        End of interval.  The interval does not include this value, except\n",
      "        in some cases where `step` is not an integer and floating point\n",
      "        round-off affects the length of `out`.\n",
      "    step : integer or real, optional\n",
      "        Spacing between values.  For any output `out`, this is the distance\n",
      "        between two adjacent values, ``out[i+1] - out[i]``.  The default\n",
      "        step size is 1.  If `step` is specified as a position argument,\n",
      "        `start` must also be given.\n",
      "    dtype : dtype, optional\n",
      "        The type of the output array.  If `dtype` is not given, infer the data\n",
      "        type from the other input arguments.\n",
      "    like : array_like, optional\n",
      "        Reference object to allow the creation of arrays which are not\n",
      "        NumPy arrays. If an array-like passed in as ``like`` supports\n",
      "        the ``__array_function__`` protocol, the result will be defined\n",
      "        by it. In this case, it ensures the creation of an array object\n",
      "        compatible with that passed in via this argument.\n",
      "\n",
      "        .. versionadded:: 1.20.0\n",
      "\n",
      "    Returns\n",
      "    -------\n",
      "    arange : ndarray\n",
      "        Array of evenly spaced values.\n",
      "\n",
      "        For floating point arguments, the length of the result is\n",
      "        ``ceil((stop - start)/step)``.  Because of floating point overflow,\n",
      "        this rule may result in the last element of `out` being greater\n",
      "        than `stop`.\n",
      "\n",
      "    Warnings\n",
      "    --------\n",
      "    The length of the output might not be numerically stable.\n",
      "\n",
      "    Another stability issue is due to the internal implementation of\n",
      "    `numpy.arange`.\n",
      "    The actual step value used to populate the array is\n",
      "    ``dtype(start + step) - dtype(start)`` and not `step`. Precision loss\n",
      "    can occur here, due to casting or due to using floating points when\n",
      "    `start` is much larger than `step`. This can lead to unexpected\n",
      "    behaviour. For example::\n",
      "\n",
      "      >>> np.arange(0, 5, 0.5, dtype=int)\n",
      "      array([0, 0, 0, 0, 0, 0, 0, 0, 0, 0])\n",
      "      >>> np.arange(-3, 3, 0.5, dtype=int)\n",
      "      array([-3, -2, -1,  0,  1,  2,  3,  4,  5,  6,  7,  8])\n",
      "\n",
      "    In such cases, the use of `numpy.linspace` should be preferred.\n",
      "\n",
      "    The built-in :py:class:`range` generates :std:doc:`Python built-in integers\n",
      "    that have arbitrary size <python:c-api/long>`, while `numpy.arange`\n",
      "    produces `numpy.int32` or `numpy.int64` numbers. This may result in\n",
      "    incorrect results for large integer values::\n",
      "\n",
      "      >>> power = 40\n",
      "      >>> modulo = 10000\n",
      "      >>> x1 = [(n ** power) % modulo for n in range(8)]\n",
      "      >>> x2 = [(n ** power) % modulo for n in np.arange(8)]\n",
      "      >>> print(x1)\n",
      "      [0, 1, 7776, 8801, 6176, 625, 6576, 4001]  # correct\n",
      "      >>> print(x2)\n",
      "      [0, 1, 7776, 7185, 0, 5969, 4816, 3361]  # incorrect\n",
      "\n",
      "    See Also\n",
      "    --------\n",
      "    numpy.linspace : Evenly spaced numbers with careful handling of endpoints.\n",
      "    numpy.ogrid: Arrays of evenly spaced numbers in N-dimensions.\n",
      "    numpy.mgrid: Grid-shaped arrays of evenly spaced numbers in N-dimensions.\n",
      "    :ref:`how-to-partition`\n",
      "\n",
      "    Examples\n",
      "    --------\n",
      "    >>> np.arange(3)\n",
      "    array([0, 1, 2])\n",
      "    >>> np.arange(3.0)\n",
      "    array([ 0.,  1.,  2.])\n",
      "    >>> np.arange(3,7)\n",
      "    array([3, 4, 5, 6])\n",
      "    >>> np.arange(3,7,2)\n",
      "    array([3, 5])\n",
      "\n"
     ]
    }
   ],
   "source": [
    "help(np.arange)"
   ]
  },
  {
   "cell_type": "code",
   "execution_count": null,
   "id": "0b896f10-234c-4e63-8e54-ac1660d1c431",
   "metadata": {},
   "outputs": [],
   "source": []
  }
 ],
 "metadata": {
  "kernelspec": {
   "display_name": "Python 3 (ipykernel)",
   "language": "python",
   "name": "python3"
  },
  "language_info": {
   "codemirror_mode": {
    "name": "ipython",
    "version": 3
   },
   "file_extension": ".py",
   "mimetype": "text/x-python",
   "name": "python",
   "nbconvert_exporter": "python",
   "pygments_lexer": "ipython3",
   "version": "3.12.0"
  }
 },
 "nbformat": 4,
 "nbformat_minor": 5
}
