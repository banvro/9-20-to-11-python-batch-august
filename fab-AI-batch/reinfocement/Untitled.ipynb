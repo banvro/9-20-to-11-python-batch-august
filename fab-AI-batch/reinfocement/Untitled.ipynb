{
 "cells": [
  {
   "cell_type": "code",
   "execution_count": 1,
   "id": "ec6c2c53-2560-434e-84b4-2d8bc15ff61b",
   "metadata": {},
   "outputs": [],
   "source": [
    "import numpy as np\n",
    "import gym"
   ]
  },
  {
   "cell_type": "code",
   "execution_count": null,
   "id": "1276d599-b901-4e79-93b1-71e104791e91",
   "metadata": {},
   "outputs": [],
   "source": []
  },
  {
   "cell_type": "code",
   "execution_count": 2,
   "id": "0ad89274-523f-49d3-8ee9-8ff0be1d6d2a",
   "metadata": {},
   "outputs": [],
   "source": [
    "environment = gym.make(\"FrozenLake-v1\", is_slippery = False, render_mode = \"ansi\")"
   ]
  },
  {
   "cell_type": "code",
   "execution_count": 3,
   "id": "6b952df3-5faf-4fd0-a336-ad7d11643646",
   "metadata": {},
   "outputs": [
    {
     "data": {
      "text/plain": [
       "(0, {'prob': 1})"
      ]
     },
     "execution_count": 3,
     "metadata": {},
     "output_type": "execute_result"
    }
   ],
   "source": [
    "environment.reset()"
   ]
  },
  {
   "cell_type": "code",
   "execution_count": 4,
   "id": "df0624c5-5495-4b4e-9b90-fa5b4fc74187",
   "metadata": {},
   "outputs": [
    {
     "name": "stdout",
     "output_type": "stream",
     "text": [
      "\n",
      "\u001b[41mS\u001b[0mFFF\n",
      "FHFH\n",
      "FFFH\n",
      "HFFG\n",
      "\n"
     ]
    }
   ],
   "source": [
    "print(environment.render())"
   ]
  },
  {
   "cell_type": "code",
   "execution_count": 7,
   "id": "3fab91a0-87b5-414a-9a75-6078a071aae2",
   "metadata": {},
   "outputs": [],
   "source": [
    "environment = gym.make(\"FrozenLake-v1\", is_slippery = False, render_mode = \"human\")"
   ]
  },
  {
   "cell_type": "code",
   "execution_count": 10,
   "id": "0cb1d5ea-2a39-49f5-a61f-de35d02654a9",
   "metadata": {},
   "outputs": [
    {
     "data": {
      "text/plain": [
       "(0, {'prob': 1})"
      ]
     },
     "execution_count": 10,
     "metadata": {},
     "output_type": "execute_result"
    }
   ],
   "source": [
    "environment.reset()"
   ]
  },
  {
   "cell_type": "code",
   "execution_count": 11,
   "id": "66de3e17-a27f-4728-887f-54021a391379",
   "metadata": {},
   "outputs": [],
   "source": [
    "environment.render()"
   ]
  },
  {
   "cell_type": "code",
   "execution_count": null,
   "id": "7d573bde-3a3b-4319-8bbb-d0cdcec28abf",
   "metadata": {},
   "outputs": [],
   "source": []
  },
  {
   "cell_type": "code",
   "execution_count": 5,
   "id": "be718c59-ed07-4d78-a162-dec4a4c4ea19",
   "metadata": {},
   "outputs": [
    {
     "name": "stdout",
     "output_type": "stream",
     "text": [
      "\n",
      "\u001b[41mS\u001b[0mFFF\n",
      "FHFH\n",
      "FFFH\n",
      "HFFG\n",
      "\n"
     ]
    }
   ],
   "source": [
    "print(environment.render())"
   ]
  },
  {
   "cell_type": "code",
   "execution_count": null,
   "id": "d6ca535f-d64d-4593-9e1c-93c8f707be94",
   "metadata": {},
   "outputs": [],
   "source": []
  },
  {
   "cell_type": "code",
   "execution_count": null,
   "id": "995fe349-3861-4b8c-b863-41a1bfade2d7",
   "metadata": {},
   "outputs": [],
   "source": [
    "[\"left\", \"right\", \"top\", \"bottom\"]"
   ]
  },
  {
   "cell_type": "code",
   "execution_count": null,
   "id": "ddd14f20-7e5c-4fc4-b6ae-c7379c2d31e4",
   "metadata": {},
   "outputs": [],
   "source": []
  },
  {
   "cell_type": "code",
   "execution_count": 6,
   "id": "c65f79f5-32e0-4583-806c-96a497be6438",
   "metadata": {},
   "outputs": [],
   "source": [
    "from numpy import random"
   ]
  },
  {
   "cell_type": "code",
   "execution_count": 12,
   "id": "dd6797a0-5362-40c2-a674-c85ca68c045e",
   "metadata": {},
   "outputs": [
    {
     "data": {
      "text/plain": [
       "'top'"
      ]
     },
     "execution_count": 12,
     "metadata": {},
     "output_type": "execute_result"
    }
   ],
   "source": [
    "random.choice([\"left\", \"right\", \"top\", \"bottom\"])"
   ]
  },
  {
   "cell_type": "code",
   "execution_count": null,
   "id": "40ad3cc0-4c49-47b7-aa51-16429369ac6b",
   "metadata": {},
   "outputs": [],
   "source": []
  },
  {
   "cell_type": "code",
   "execution_count": 13,
   "id": "0e5c87a5-3255-464b-8c70-b0ac6a923916",
   "metadata": {},
   "outputs": [
    {
     "data": {
      "text/plain": [
       "Discrete(4)"
      ]
     },
     "execution_count": 13,
     "metadata": {},
     "output_type": "execute_result"
    }
   ],
   "source": [
    "environment.action_space"
   ]
  },
  {
   "cell_type": "code",
   "execution_count": 14,
   "id": "073d721c-88a4-4f87-b903-9dba3965eeee",
   "metadata": {},
   "outputs": [
    {
     "data": {
      "text/plain": [
       "Discrete(16)"
      ]
     },
     "execution_count": 14,
     "metadata": {},
     "output_type": "execute_result"
    }
   ],
   "source": [
    "environment.observation_space"
   ]
  },
  {
   "cell_type": "code",
   "execution_count": 18,
   "id": "335c7318-eb6f-4b0d-9a6f-e4a53e20e915",
   "metadata": {},
   "outputs": [],
   "source": [
    "q_table = np.zeros((environment.observation_space.n, environment.action_space.n))"
   ]
  },
  {
   "cell_type": "code",
   "execution_count": null,
   "id": "a434e837-e41a-43d4-bf0d-05e9cc9ed4ca",
   "metadata": {},
   "outputs": [],
   "source": []
  },
  {
   "cell_type": "code",
   "execution_count": 19,
   "id": "4ad1596a-c157-4e50-ae94-e5b4c92f4ccd",
   "metadata": {},
   "outputs": [
    {
     "data": {
      "text/plain": [
       "array([[0., 0., 0., 0.],\n",
       "       [0., 0., 0., 0.],\n",
       "       [0., 0., 0., 0.],\n",
       "       [0., 0., 0., 0.],\n",
       "       [0., 0., 0., 0.],\n",
       "       [0., 0., 0., 0.],\n",
       "       [0., 0., 0., 0.],\n",
       "       [0., 0., 0., 0.],\n",
       "       [0., 0., 0., 0.],\n",
       "       [0., 0., 0., 0.],\n",
       "       [0., 0., 0., 0.],\n",
       "       [0., 0., 0., 0.],\n",
       "       [0., 0., 0., 0.],\n",
       "       [0., 0., 0., 0.],\n",
       "       [0., 0., 0., 0.],\n",
       "       [0., 0., 0., 0.]])"
      ]
     },
     "execution_count": 19,
     "metadata": {},
     "output_type": "execute_result"
    }
   ],
   "source": [
    "q_table"
   ]
  },
  {
   "cell_type": "code",
   "execution_count": null,
   "id": "964d9b3c-3d05-4eff-9f0d-c8a87b2f4dcf",
   "metadata": {},
   "outputs": [],
   "source": []
  },
  {
   "cell_type": "code",
   "execution_count": 45,
   "id": "0c220001-7fd1-4e1c-b34e-b988a28b3705",
   "metadata": {},
   "outputs": [
    {
     "name": "stdout",
     "output_type": "stream",
     "text": [
      "1\n"
     ]
    }
   ],
   "source": [
    "agent_action = environment.action_space.sample()\n",
    "print(agent_action)"
   ]
  },
  {
   "cell_type": "code",
   "execution_count": 42,
   "id": "e703ec38-29ae-42b7-b2c2-94f378a1640c",
   "metadata": {},
   "outputs": [],
   "source": [
    "# 0: LEFT\n",
    "# 1: DOWN\n",
    "# 2: RIGHT\n",
    "# 3: UP\n"
   ]
  },
  {
   "cell_type": "code",
   "execution_count": null,
   "id": "707221d0-c1b7-4194-a582-4c1b90dc8e45",
   "metadata": {},
   "outputs": [],
   "source": []
  },
  {
   "cell_type": "code",
   "execution_count": 46,
   "id": "1cf50cb8-4101-445a-a30b-01be6ead378a",
   "metadata": {},
   "outputs": [
    {
     "data": {
      "text/plain": [
       "(8, 0.0, False, False, {'prob': 1.0})"
      ]
     },
     "execution_count": 46,
     "metadata": {},
     "output_type": "execute_result"
    }
   ],
   "source": [
    "environment.step(agent_action)"
   ]
  },
  {
   "cell_type": "code",
   "execution_count": null,
   "id": "2bfa0731-88b2-43e7-a903-b1c72e9fadae",
   "metadata": {},
   "outputs": [],
   "source": [
    "new_state\n",
    "reword\n",
    "done\n",
    "\n",
    "info()\n",
    "\n",
    "s = new_state"
   ]
  },
  {
   "cell_type": "code",
   "execution_count": 47,
   "id": "3cfd8d5a-74d9-4047-a218-818d544c1a19",
   "metadata": {},
   "outputs": [
    {
     "name": "stdout",
     "output_type": "stream",
     "text": [
      "  (Down)\n",
      "SFFF\n",
      "FHFH\n",
      "\u001b[41mF\u001b[0mFFH\n",
      "HFFG\n",
      "\n"
     ]
    }
   ],
   "source": [
    "print(environment.render())"
   ]
  },
  {
   "cell_type": "code",
   "execution_count": null,
   "id": "5a521112-bdd8-4df9-94a7-57df1a6b467d",
   "metadata": {},
   "outputs": [],
   "source": []
  },
  {
   "cell_type": "code",
   "execution_count": 48,
   "id": "22ba600c-53a9-45c0-9624-50581fc6a9b4",
   "metadata": {},
   "outputs": [],
   "source": [
    "new_state, reword, is_done, _, info = environment.step(agent_action)"
   ]
  },
  {
   "cell_type": "code",
   "execution_count": 49,
   "id": "72749d38-6423-401d-84ee-1ff12503bcdd",
   "metadata": {},
   "outputs": [
    {
     "data": {
      "text/plain": [
       "12"
      ]
     },
     "execution_count": 49,
     "metadata": {},
     "output_type": "execute_result"
    }
   ],
   "source": [
    "new_state"
   ]
  },
  {
   "cell_type": "code",
   "execution_count": 50,
   "id": "19a25e70-ff9c-480f-a10c-2ba928b77bba",
   "metadata": {},
   "outputs": [
    {
     "data": {
      "text/plain": [
       "0.0"
      ]
     },
     "execution_count": 50,
     "metadata": {},
     "output_type": "execute_result"
    }
   ],
   "source": [
    "reword"
   ]
  },
  {
   "cell_type": "code",
   "execution_count": 51,
   "id": "de408193-4f2e-4ac5-a42f-78f1b7ba9e1d",
   "metadata": {},
   "outputs": [
    {
     "data": {
      "text/plain": [
       "True"
      ]
     },
     "execution_count": 51,
     "metadata": {},
     "output_type": "execute_result"
    }
   ],
   "source": [
    "is_done"
   ]
  },
  {
   "cell_type": "code",
   "execution_count": null,
   "id": "f917146a-afd8-4b0f-995d-c5d31d2352bf",
   "metadata": {},
   "outputs": [],
   "source": []
  }
 ],
 "metadata": {
  "kernelspec": {
   "display_name": "Python 3 (ipykernel)",
   "language": "python",
   "name": "python3"
  },
  "language_info": {
   "codemirror_mode": {
    "name": "ipython",
    "version": 3
   },
   "file_extension": ".py",
   "mimetype": "text/x-python",
   "name": "python",
   "nbconvert_exporter": "python",
   "pygments_lexer": "ipython3",
   "version": "3.12.3"
  }
 },
 "nbformat": 4,
 "nbformat_minor": 5
}
