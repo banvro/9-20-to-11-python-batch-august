{
 "cells": [
  {
   "cell_type": "code",
   "execution_count": null,
   "id": "df1517ec-653f-4b96-87f9-7dc70013dde3",
   "metadata": {},
   "outputs": [],
   "source": [
    "import numpy as np\n",
    "\n",
    "# gym"
   ]
  },
  {
   "cell_type": "code",
   "execution_count": null,
   "id": "f2b6b7d1-0e55-455c-80a8-36fcf5a640bd",
   "metadata": {},
   "outputs": [],
   "source": [
    "# !pip install gym"
   ]
  },
  {
   "cell_type": "code",
   "execution_count": null,
   "id": "9520aedc-d196-4421-82d5-32aa853c8106",
   "metadata": {},
   "outputs": [],
   "source": [
    "import gym"
   ]
  },
  {
   "cell_type": "code",
   "execution_count": null,
   "id": "b289dd25-e337-4de3-9878-1deeea5102f6",
   "metadata": {},
   "outputs": [],
   "source": [
    "env = gym.make(\"FrozenLake-v1\")"
   ]
  },
  {
   "cell_type": "code",
   "execution_count": null,
   "id": "35e49bf4-f5bf-495d-a9c1-ea232f05b0ed",
   "metadata": {},
   "outputs": [],
   "source": [
    "env.observation_space.n"
   ]
  },
  {
   "cell_type": "code",
   "execution_count": null,
   "id": "45f8f9b5-fbfd-4c37-bd38-09a02adb3bd0",
   "metadata": {},
   "outputs": [],
   "source": [
    "env.action_space.n"
   ]
  },
  {
   "cell_type": "code",
   "execution_count": null,
   "id": "431ab7b2-e826-4615-b0ec-8834cb54d73d",
   "metadata": {},
   "outputs": [],
   "source": [
    "Q = np.zeros((env.observation_space.n, env.action_space.n))"
   ]
  },
  {
   "cell_type": "code",
   "execution_count": null,
   "id": "d3fc4005-e8b3-4700-bda8-f09b2a862ba8",
   "metadata": {},
   "outputs": [],
   "source": [
    "Q"
   ]
  },
  {
   "cell_type": "code",
   "execution_count": null,
   "id": "b7ee0fe7-46ce-4403-b18e-c079ed96649a",
   "metadata": {},
   "outputs": [],
   "source": []
  },
  {
   "cell_type": "code",
   "execution_count": null,
   "id": "ca4adcc4-c917-401a-887a-a7750cc4ffe7",
   "metadata": {},
   "outputs": [],
   "source": [
    "learing_rate = 0.8\n",
    "discount_factor = 0.16\n",
    "num_epicodes = 1000"
   ]
  },
  {
   "cell_type": "code",
   "execution_count": null,
   "id": "53658983-8754-4d3c-ba82-527286a7ef1c",
   "metadata": {},
   "outputs": [],
   "source": []
  },
  {
   "cell_type": "code",
   "execution_count": 37,
   "id": "b490ec6f-5119-435b-a49e-5b68238d397b",
   "metadata": {},
   "outputs": [
    {
     "data": {
      "text/plain": [
       "array([0., 0., 0., 0.])"
      ]
     },
     "execution_count": 37,
     "metadata": {},
     "output_type": "execute_result"
    }
   ],
   "source": [
    "Q[env.action_space.n]"
   ]
  },
  {
   "cell_type": "code",
   "execution_count": null,
   "id": "71af38d0-158b-4994-be26-1044769d6185",
   "metadata": {},
   "outputs": [],
   "source": [
    "for epicodes in range(num_epicodes):\n",
    "    initial = env.reset()\n",
    "    done = False\n",
    "\n",
    "    while not done:\n",
    "        action = np.argmax(Q[action, :], np.random.randn())\n",
    "    "
   ]
  },
  {
   "cell_type": "code",
   "execution_count": 25,
   "id": "a4ec832c-cac5-4c3a-a555-b22576681718",
   "metadata": {},
   "outputs": [],
   "source": [
    "desc=[\"SFFF\", \"FHFH\", \"FFFH\", \"HFFG\"]\n"
   ]
  },
  {
   "cell_type": "code",
   "execution_count": 26,
   "id": "0c434816-e53d-4293-b956-04538a35d1cf",
   "metadata": {},
   "outputs": [],
   "source": [
    "x = np.array(desc)"
   ]
  },
  {
   "cell_type": "code",
   "execution_count": 29,
   "id": "bd98e9f4-ab98-46ee-9df0-28a1a8d1beef",
   "metadata": {},
   "outputs": [
    {
     "data": {
      "text/plain": [
       "array([['SFFF'],\n",
       "       ['FHFH'],\n",
       "       ['FFFH'],\n",
       "       ['HFFG']], dtype='<U4')"
      ]
     },
     "execution_count": 29,
     "metadata": {},
     "output_type": "execute_result"
    }
   ],
   "source": [
    "x.reshape(-1, 1)"
   ]
  },
  {
   "cell_type": "code",
   "execution_count": 38,
   "id": "53a5021c-6891-42c3-9cbc-5d6312712925",
   "metadata": {},
   "outputs": [],
   "source": [
    "# x.transpose()"
   ]
  },
  {
   "cell_type": "code",
   "execution_count": null,
   "id": "f17f9baf-ae76-4e3f-b23f-82e0d5ed9ed1",
   "metadata": {},
   "outputs": [],
   "source": []
  },
  {
   "cell_type": "code",
   "execution_count": 30,
   "id": "60ba3a03-7140-4e1e-ae6f-c89b83bf7007",
   "metadata": {},
   "outputs": [],
   "source": [
    "# np.argmax()"
   ]
  },
  {
   "cell_type": "code",
   "execution_count": 31,
   "id": "93ff298a-0ae7-4be5-ab89-b8ecea29bcb4",
   "metadata": {},
   "outputs": [],
   "source": [
    "# x = np.array([34, 45, 57, 45, 67, 34])"
   ]
  },
  {
   "cell_type": "code",
   "execution_count": 39,
   "id": "228bfc05-7c29-492c-a56a-7ce9b68d4a2d",
   "metadata": {},
   "outputs": [],
   "source": [
    "# x.argmax()"
   ]
  },
  {
   "cell_type": "code",
   "execution_count": null,
   "id": "88c976d3-ef17-47cb-a17f-f4e731631a03",
   "metadata": {},
   "outputs": [],
   "source": []
  }
 ],
 "metadata": {
  "kernelspec": {
   "display_name": "Python 3 (ipykernel)",
   "language": "python",
   "name": "python3"
  },
  "language_info": {
   "codemirror_mode": {
    "name": "ipython",
    "version": 3
   },
   "file_extension": ".py",
   "mimetype": "text/x-python",
   "name": "python",
   "nbconvert_exporter": "python",
   "pygments_lexer": "ipython3",
   "version": "3.12.3"
  }
 },
 "nbformat": 4,
 "nbformat_minor": 5
}
