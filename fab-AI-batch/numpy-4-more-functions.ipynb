{
 "cells": [
  {
   "cell_type": "code",
   "execution_count": 1,
   "id": "da3b05f8-38d6-455e-8a18-1ccbe7c28f20",
   "metadata": {},
   "outputs": [],
   "source": [
    "# [0, 00, 000, 00, 0]"
   ]
  },
  {
   "cell_type": "code",
   "execution_count": 16,
   "id": "579f2d5f-94c9-4c9b-8e23-d31f778fb990",
   "metadata": {},
   "outputs": [],
   "source": [
    "lst = []"
   ]
  },
  {
   "cell_type": "code",
   "execution_count": 17,
   "id": "d7c5f659-dbe1-4a39-b203-1b1963ae045a",
   "metadata": {},
   "outputs": [],
   "source": [
    "for i in range(1, 6):\n",
    "    lst.append(i * \"0\")"
   ]
  },
  {
   "cell_type": "code",
   "execution_count": 18,
   "id": "9572b14e-c82b-4360-8181-35907391202b",
   "metadata": {},
   "outputs": [
    {
     "data": {
      "text/plain": [
       "['0', '00', '000', '0000', '00000']"
      ]
     },
     "execution_count": 18,
     "metadata": {},
     "output_type": "execute_result"
    }
   ],
   "source": [
    "lst"
   ]
  },
  {
   "cell_type": "code",
   "execution_count": 19,
   "id": "2a9dbe2b-61b6-4f8e-89d3-4246d9caec5a",
   "metadata": {},
   "outputs": [],
   "source": [
    "zx = lst[ : 4]"
   ]
  },
  {
   "cell_type": "code",
   "execution_count": 20,
   "id": "8a1fbd2c-1e83-465d-9eb6-c644a34fd3af",
   "metadata": {},
   "outputs": [
    {
     "data": {
      "text/plain": [
       "['0', '00', '000', '0000']"
      ]
     },
     "execution_count": 20,
     "metadata": {},
     "output_type": "execute_result"
    }
   ],
   "source": [
    "zx"
   ]
  },
  {
   "cell_type": "code",
   "execution_count": 21,
   "id": "57138baf-6195-4469-aad0-d698b65a08da",
   "metadata": {},
   "outputs": [],
   "source": [
    "pq = zx[: : -1]"
   ]
  },
  {
   "cell_type": "code",
   "execution_count": 22,
   "id": "07de389f-8308-40ba-9ead-244b7522c159",
   "metadata": {},
   "outputs": [
    {
     "data": {
      "text/plain": [
       "['0000', '000', '00', '0']"
      ]
     },
     "execution_count": 22,
     "metadata": {},
     "output_type": "execute_result"
    }
   ],
   "source": [
    "pq"
   ]
  },
  {
   "cell_type": "code",
   "execution_count": 9,
   "id": "bed10cd1-f78e-442c-8ede-30458c42d9b5",
   "metadata": {},
   "outputs": [],
   "source": [
    "# extend()"
   ]
  },
  {
   "cell_type": "code",
   "execution_count": 23,
   "id": "46694316-d3da-445f-a2f8-c30fd1967cae",
   "metadata": {},
   "outputs": [],
   "source": [
    "lst.extend(pq)"
   ]
  },
  {
   "cell_type": "code",
   "execution_count": 24,
   "id": "c315ee79-4c24-4d33-b903-5e7882701fe7",
   "metadata": {},
   "outputs": [
    {
     "data": {
      "text/plain": [
       "['0', '00', '000', '0000', '00000', '0000', '000', '00', '0']"
      ]
     },
     "execution_count": 24,
     "metadata": {},
     "output_type": "execute_result"
    }
   ],
   "source": [
    "lst"
   ]
  },
  {
   "cell_type": "code",
   "execution_count": 14,
   "id": "c3a2aaa1-70a3-4524-b9b8-42f07265f6b7",
   "metadata": {},
   "outputs": [],
   "source": [
    "lst = [12, 34, 23, 45, 10]\n",
    "\n",
    "pp = [23, 45, 23, 100]"
   ]
  },
  {
   "cell_type": "code",
   "execution_count": 15,
   "id": "c4273996-8618-4152-888a-14d905bf6a51",
   "metadata": {},
   "outputs": [
    {
     "data": {
      "text/plain": [
       "[12, 34, 23, 45, 10, 23, 45, 23, 100]"
      ]
     },
     "execution_count": 15,
     "metadata": {},
     "output_type": "execute_result"
    }
   ],
   "source": [
    "lst + pp"
   ]
  },
  {
   "cell_type": "code",
   "execution_count": 12,
   "id": "99c49d9b-4153-4dd2-93c5-c609dd5708ac",
   "metadata": {},
   "outputs": [],
   "source": [
    "lst.extend(pp)"
   ]
  },
  {
   "cell_type": "code",
   "execution_count": 13,
   "id": "3101d591-1985-4ae5-b0f3-3c71ffb28ec7",
   "metadata": {},
   "outputs": [
    {
     "data": {
      "text/plain": [
       "[12, 34, 23, 45, 10, 23, 45, 23, 100]"
      ]
     },
     "execution_count": 13,
     "metadata": {},
     "output_type": "execute_result"
    }
   ],
   "source": [
    "lst"
   ]
  },
  {
   "cell_type": "code",
   "execution_count": null,
   "id": "c6223508-bac5-40d7-aa0f-246ead3b654a",
   "metadata": {},
   "outputs": [],
   "source": []
  },
  {
   "cell_type": "code",
   "execution_count": null,
   "id": "025b3fb1-b842-4e20-b385-9bff9e5c8eec",
   "metadata": {},
   "outputs": [],
   "source": [
    "# trim_zero()"
   ]
  },
  {
   "cell_type": "code",
   "execution_count": 25,
   "id": "9f34868a-097d-42f2-b2e9-85846b2ce0b0",
   "metadata": {},
   "outputs": [],
   "source": [
    "import numpy as np"
   ]
  },
  {
   "cell_type": "code",
   "execution_count": 29,
   "id": "aea1dda0-4932-4c42-bdfb-020c8a929891",
   "metadata": {},
   "outputs": [],
   "source": [
    "zx = np.array([0, 8, 5, 5, 0, 7, 3, 0, 0, 0])"
   ]
  },
  {
   "cell_type": "code",
   "execution_count": 30,
   "id": "12c0f6f1-039f-4ed3-87e4-0df8851bd861",
   "metadata": {},
   "outputs": [
    {
     "data": {
      "text/plain": [
       "array([8, 5, 5, 0, 7, 3])"
      ]
     },
     "execution_count": 30,
     "metadata": {},
     "output_type": "execute_result"
    }
   ],
   "source": [
    "np.trim_zeros(zx)"
   ]
  },
  {
   "cell_type": "code",
   "execution_count": null,
   "id": "e45a336e-4ab3-4072-81ca-8f651788c9b5",
   "metadata": {},
   "outputs": [],
   "source": []
  },
  {
   "cell_type": "code",
   "execution_count": 31,
   "id": "778fd379-4f28-4828-8aa5-585a62af3baa",
   "metadata": {},
   "outputs": [],
   "source": [
    "# unique()"
   ]
  },
  {
   "cell_type": "code",
   "execution_count": null,
   "id": "e6127d75-20b8-45c1-bd2c-d0c8af60ee01",
   "metadata": {},
   "outputs": [],
   "source": []
  },
  {
   "cell_type": "code",
   "execution_count": 32,
   "id": "a52cb187-a5df-441c-b9c9-3dac6343961a",
   "metadata": {},
   "outputs": [],
   "source": [
    "a = np.array([1, 5, 3, 1, 2, 3, 1, 2, 1, 1, 1, 7, 5, 8, 3, 7, 1, 10])"
   ]
  },
  {
   "cell_type": "code",
   "execution_count": 33,
   "id": "778edeb9-e852-4268-ac8b-10afe719bd3b",
   "metadata": {},
   "outputs": [
    {
     "data": {
      "text/plain": [
       "array([ 1,  2,  3,  5,  7,  8, 10])"
      ]
     },
     "execution_count": 33,
     "metadata": {},
     "output_type": "execute_result"
    }
   ],
   "source": [
    "np.unique(a)"
   ]
  },
  {
   "cell_type": "code",
   "execution_count": 34,
   "id": "92b1e478-c96c-4712-8e27-f2d9ae2edea5",
   "metadata": {},
   "outputs": [],
   "source": [
    "# np.arange()"
   ]
  },
  {
   "cell_type": "code",
   "execution_count": null,
   "id": "ee2452a6-0883-4ec4-9bf5-086cbf9ca145",
   "metadata": {},
   "outputs": [],
   "source": []
  },
  {
   "cell_type": "code",
   "execution_count": 35,
   "id": "9c86ff18-91d4-45c4-9cb2-b6fe6b145ebb",
   "metadata": {},
   "outputs": [],
   "source": [
    "# arange(start, end, increment)"
   ]
  },
  {
   "cell_type": "code",
   "execution_count": null,
   "id": "4e03d4a3-aa08-445a-9d22-87ccb3363bde",
   "metadata": {},
   "outputs": [],
   "source": []
  },
  {
   "cell_type": "code",
   "execution_count": 38,
   "id": "1cb30c44-5120-425b-abcb-830c36daee60",
   "metadata": {},
   "outputs": [],
   "source": [
    "zx = np.arange(1, 21, 2)"
   ]
  },
  {
   "cell_type": "code",
   "execution_count": 39,
   "id": "3f09f3c6-64d4-4fef-bc3d-146dfd7890b7",
   "metadata": {},
   "outputs": [
    {
     "data": {
      "text/plain": [
       "array([ 1,  3,  5,  7,  9, 11, 13, 15, 17, 19])"
      ]
     },
     "execution_count": 39,
     "metadata": {},
     "output_type": "execute_result"
    }
   ],
   "source": [
    "zx"
   ]
  },
  {
   "cell_type": "code",
   "execution_count": null,
   "id": "2aba5093-2f19-4662-b70b-a8f8f62ce346",
   "metadata": {},
   "outputs": [],
   "source": []
  },
  {
   "cell_type": "code",
   "execution_count": null,
   "id": "f14a141c-b0e3-4c43-bab5-cfe69e0624de",
   "metadata": {},
   "outputs": [],
   "source": []
  },
  {
   "cell_type": "code",
   "execution_count": 41,
   "id": "1930ba36-85a3-49e3-a7b3-16b8de8169db",
   "metadata": {},
   "outputs": [],
   "source": [
    "# range(1, 20)"
   ]
  },
  {
   "cell_type": "code",
   "execution_count": null,
   "id": "cbc43185-a295-480f-a28b-6718e09ef75b",
   "metadata": {},
   "outputs": [],
   "source": []
  },
  {
   "cell_type": "code",
   "execution_count": 42,
   "id": "941693e2-4c71-4ed5-9ba8-ebd676f41266",
   "metadata": {},
   "outputs": [],
   "source": [
    "# random"
   ]
  },
  {
   "cell_type": "code",
   "execution_count": 44,
   "id": "1952f97b-21bc-4092-ba44-660320a452ac",
   "metadata": {},
   "outputs": [],
   "source": [
    "from numpy import random\n",
    "# import random"
   ]
  },
  {
   "cell_type": "code",
   "execution_count": 54,
   "id": "722220a4-7e5a-436b-bac6-c5c8758be216",
   "metadata": {},
   "outputs": [
    {
     "data": {
      "text/plain": [
       "array([[[33, 32, 98],\n",
       "        [75, 42, 54],\n",
       "        [84, 56, 48],\n",
       "        [69,  3, 52],\n",
       "        [46, 62, 90],\n",
       "        [35, 60, 65]],\n",
       "\n",
       "       [[71,  9, 45],\n",
       "        [59, 60, 90],\n",
       "        [ 7, 41, 55],\n",
       "        [ 4, 85, 30],\n",
       "        [ 9, 38, 57],\n",
       "        [ 7, 19, 30]],\n",
       "\n",
       "       [[20, 44, 57],\n",
       "        [37, 67, 34],\n",
       "        [72, 65, 70],\n",
       "        [18, 54, 24],\n",
       "        [82, 70, 97],\n",
       "        [59, 43, 71]],\n",
       "\n",
       "       [[43, 63, 30],\n",
       "        [81, 54, 54],\n",
       "        [22, 94, 53],\n",
       "        [55, 55, 35],\n",
       "        [36, 30, 70],\n",
       "        [63, 59, 77]],\n",
       "\n",
       "       [[16, 35, 47],\n",
       "        [87, 64, 42],\n",
       "        [54,  5, 69],\n",
       "        [34, 27,  5],\n",
       "        [88, 22, 86],\n",
       "        [ 6, 15, 96]]])"
      ]
     },
     "execution_count": 54,
     "metadata": {},
     "output_type": "execute_result"
    }
   ],
   "source": [
    "arr = random.randint(100, size = (5, 6, 3))\n",
    "arr"
   ]
  },
  {
   "cell_type": "code",
   "execution_count": 55,
   "id": "a649feb4-f741-4cf9-9f05-1cb78fc4bd4b",
   "metadata": {},
   "outputs": [
    {
     "data": {
      "text/plain": [
       "array([[57, 37, 41, 27],\n",
       "       [48, 87, 17, 73],\n",
       "       [ 4, 86, 65, 38],\n",
       "       [58, 60, 78, 42],\n",
       "       [36, 71, 79,  0]])"
      ]
     },
     "execution_count": 55,
     "metadata": {},
     "output_type": "execute_result"
    }
   ],
   "source": [
    "arr = random.randint(100, size = (5, 4))\n",
    "arr"
   ]
  },
  {
   "cell_type": "code",
   "execution_count": null,
   "id": "02915ccc-542c-4608-bd85-151c6bfc8a62",
   "metadata": {},
   "outputs": [],
   "source": []
  },
  {
   "cell_type": "code",
   "execution_count": 56,
   "id": "00d28167-03a2-454e-a076-363cb6764729",
   "metadata": {},
   "outputs": [],
   "source": [
    "# rand()  -> 0 - 1"
   ]
  },
  {
   "cell_type": "code",
   "execution_count": 65,
   "id": "735a00a0-eeb7-4b9a-a1da-b7c105515dd8",
   "metadata": {},
   "outputs": [
    {
     "data": {
      "text/plain": [
       "array([[0.26118469, 0.99530745],\n",
       "       [0.12124327, 0.05221489],\n",
       "       [0.93969336, 0.3302264 ]])"
      ]
     },
     "execution_count": 65,
     "metadata": {},
     "output_type": "execute_result"
    }
   ],
   "source": [
    "xyz = random.rand(3, 2)\n",
    "xyz"
   ]
  },
  {
   "cell_type": "code",
   "execution_count": null,
   "id": "af61b1c2-ddf1-44be-8eaa-9fff6966193a",
   "metadata": {},
   "outputs": [],
   "source": []
  },
  {
   "cell_type": "code",
   "execution_count": 66,
   "id": "59adede1-946e-41b2-b442-5e2a99c7ac90",
   "metadata": {},
   "outputs": [],
   "source": [
    "# choice()"
   ]
  },
  {
   "cell_type": "code",
   "execution_count": 77,
   "id": "a20fef49-a430-4304-b962-f14581adc1df",
   "metadata": {},
   "outputs": [],
   "source": [
    "ch = random.choice([1, 2, 3, 4, 5, 6])"
   ]
  },
  {
   "cell_type": "code",
   "execution_count": 78,
   "id": "9b32d83f-7be3-4ddc-97b0-358b9b066ab3",
   "metadata": {},
   "outputs": [
    {
     "data": {
      "text/plain": [
       "5"
      ]
     },
     "execution_count": 78,
     "metadata": {},
     "output_type": "execute_result"
    }
   ],
   "source": [
    "ch"
   ]
  },
  {
   "cell_type": "code",
   "execution_count": 81,
   "id": "8da66e82-d970-45ef-93b8-e38525ea3294",
   "metadata": {},
   "outputs": [],
   "source": [
    "ch = random.choice([1, 2, 3, 4, 5, 6], size = (5, 3))"
   ]
  },
  {
   "cell_type": "code",
   "execution_count": 82,
   "id": "efd78c6c-bce3-4cda-8745-4ef29157aa17",
   "metadata": {},
   "outputs": [
    {
     "data": {
      "text/plain": [
       "array([[1, 4, 2],\n",
       "       [5, 5, 4],\n",
       "       [6, 2, 1],\n",
       "       [6, 4, 6],\n",
       "       [5, 5, 6]])"
      ]
     },
     "execution_count": 82,
     "metadata": {},
     "output_type": "execute_result"
    }
   ],
   "source": [
    "ch"
   ]
  },
  {
   "cell_type": "code",
   "execution_count": null,
   "id": "e70db10f-3f0e-48fc-9e99-327406cbead6",
   "metadata": {},
   "outputs": [],
   "source": []
  },
  {
   "cell_type": "code",
   "execution_count": 84,
   "id": "d5d63ab4-82b1-456f-a68c-b07d4d6e5f45",
   "metadata": {},
   "outputs": [],
   "source": [
    "# shuffle()"
   ]
  },
  {
   "cell_type": "code",
   "execution_count": 90,
   "id": "a2c2fc88-11aa-4f3d-b139-c4db91e3855d",
   "metadata": {},
   "outputs": [],
   "source": [
    "ca = np.array([1, 2, 3, 4, 5, 6, 10])"
   ]
  },
  {
   "cell_type": "code",
   "execution_count": 91,
   "id": "5b02a156-5d55-41ad-a9ab-f8701d540ace",
   "metadata": {},
   "outputs": [
    {
     "data": {
      "text/plain": [
       "array([ 1,  2,  3,  4,  5,  6, 10])"
      ]
     },
     "execution_count": 91,
     "metadata": {},
     "output_type": "execute_result"
    }
   ],
   "source": [
    "ca"
   ]
  },
  {
   "cell_type": "code",
   "execution_count": 92,
   "id": "d081951a-cb5c-4ba1-84d4-108d98caec45",
   "metadata": {},
   "outputs": [],
   "source": [
    "random.shuffle(ca)"
   ]
  },
  {
   "cell_type": "code",
   "execution_count": 93,
   "id": "91844fef-1913-4cec-a7e6-245048761ad8",
   "metadata": {},
   "outputs": [
    {
     "data": {
      "text/plain": [
       "array([ 6,  5,  4, 10,  3,  2,  1])"
      ]
     },
     "execution_count": 93,
     "metadata": {},
     "output_type": "execute_result"
    }
   ],
   "source": [
    "ca"
   ]
  },
  {
   "cell_type": "code",
   "execution_count": null,
   "id": "93b95390-8e07-4c02-bdbb-e33f60450d9e",
   "metadata": {},
   "outputs": [],
   "source": []
  },
  {
   "cell_type": "code",
   "execution_count": null,
   "id": "6a18c748-a80e-4684-b790-4f2b90a86162",
   "metadata": {},
   "outputs": [],
   "source": [
    "trim_zero()\n",
    "unique()\n",
    "arange()\n",
    "random\n",
    "randint\n",
    "rand\n",
    "choice\n",
    "shuffle"
   ]
  },
  {
   "cell_type": "code",
   "execution_count": null,
   "id": "27ddbc3a-6fb7-4410-afc2-1816476129af",
   "metadata": {},
   "outputs": [],
   "source": []
  },
  {
   "cell_type": "code",
   "execution_count": 96,
   "id": "b79e34e1-c88b-4aa7-acb2-765403a4edd2",
   "metadata": {},
   "outputs": [],
   "source": [
    "zx = np.array([ 1,  2,  3,  4,  5,  6, 1, 1, 2, 5, 2, 10])"
   ]
  },
  {
   "cell_type": "code",
   "execution_count": 97,
   "id": "00ba231a-443c-4ee7-b95c-d70256bdd1f5",
   "metadata": {},
   "outputs": [
    {
     "data": {
      "text/plain": [
       "array([ 1,  2,  3,  4,  5,  6, 10])"
      ]
     },
     "execution_count": 97,
     "metadata": {},
     "output_type": "execute_result"
    }
   ],
   "source": [
    "np.unique(zx)"
   ]
  },
  {
   "cell_type": "code",
   "execution_count": null,
   "id": "af737a36-1973-406a-b8a6-e60b076cb3b7",
   "metadata": {},
   "outputs": [],
   "source": []
  },
  {
   "cell_type": "code",
   "execution_count": 98,
   "id": "2b2f1936-30d9-404f-8754-feeba4ae280c",
   "metadata": {},
   "outputs": [
    {
     "name": "stdout",
     "output_type": "stream",
     "text": [
      "Help on _ArrayFunctionDispatcher in module numpy:\n",
      "\n",
      "copyto(...)\n",
      "    copyto(dst, src, casting='same_kind', where=True)\n",
      "\n",
      "    Copies values from one array to another, broadcasting as necessary.\n",
      "\n",
      "    Raises a TypeError if the `casting` rule is violated, and if\n",
      "    `where` is provided, it selects which elements to copy.\n",
      "\n",
      "    .. versionadded:: 1.7.0\n",
      "\n",
      "    Parameters\n",
      "    ----------\n",
      "    dst : ndarray\n",
      "        The array into which values are copied.\n",
      "    src : array_like\n",
      "        The array from which values are copied.\n",
      "    casting : {'no', 'equiv', 'safe', 'same_kind', 'unsafe'}, optional\n",
      "        Controls what kind of data casting may occur when copying.\n",
      "\n",
      "          * 'no' means the data types should not be cast at all.\n",
      "          * 'equiv' means only byte-order changes are allowed.\n",
      "          * 'safe' means only casts which can preserve values are allowed.\n",
      "          * 'same_kind' means only safe casts or casts within a kind,\n",
      "            like float64 to float32, are allowed.\n",
      "          * 'unsafe' means any data conversions may be done.\n",
      "    where : array_like of bool, optional\n",
      "        A boolean array which is broadcasted to match the dimensions\n",
      "        of `dst`, and selects elements to copy from `src` to `dst`\n",
      "        wherever it contains the value True.\n",
      "\n",
      "    Examples\n",
      "    --------\n",
      "    >>> A = np.array([4, 5, 6])\n",
      "    >>> B = [1, 2, 3]\n",
      "    >>> np.copyto(A, B)\n",
      "    >>> A\n",
      "    array([1, 2, 3])\n",
      "\n",
      "    >>> A = np.array([[1, 2, 3], [4, 5, 6]])\n",
      "    >>> B = [[4, 5, 6], [7, 8, 9]]\n",
      "    >>> np.copyto(A, B)\n",
      "    >>> A\n",
      "    array([[4, 5, 6],\n",
      "           [7, 8, 9]])\n",
      "\n"
     ]
    }
   ],
   "source": [
    "help(np.copyto)"
   ]
  },
  {
   "cell_type": "code",
   "execution_count": null,
   "id": "f79670db-a918-41dd-a92a-a82fb0fc937c",
   "metadata": {},
   "outputs": [],
   "source": []
  }
 ],
 "metadata": {
  "kernelspec": {
   "display_name": "Python 3 (ipykernel)",
   "language": "python",
   "name": "python3"
  },
  "language_info": {
   "codemirror_mode": {
    "name": "ipython",
    "version": 3
   },
   "file_extension": ".py",
   "mimetype": "text/x-python",
   "name": "python",
   "nbconvert_exporter": "python",
   "pygments_lexer": "ipython3",
   "version": "3.12.0"
  }
 },
 "nbformat": 4,
 "nbformat_minor": 5
}
