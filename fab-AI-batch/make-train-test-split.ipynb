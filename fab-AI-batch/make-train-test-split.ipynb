{
 "cells": [
  {
   "cell_type": "code",
   "execution_count": 1,
   "id": "360a3961-4f11-427c-979c-2156f196f55b",
   "metadata": {},
   "outputs": [],
   "source": [
    "import numpy as np"
   ]
  },
  {
   "cell_type": "code",
   "execution_count": null,
   "id": "5a70e7b4-0fcf-4264-8283-b25bf1e52c29",
   "metadata": {},
   "outputs": [],
   "source": []
  },
  {
   "cell_type": "code",
   "execution_count": null,
   "id": "bc8751e6-08f3-4bcd-aa4d-fbc18973203a",
   "metadata": {},
   "outputs": [],
   "source": [
    "# 1 --- 40\n",
    "\n",
    "30"
   ]
  },
  {
   "cell_type": "code",
   "execution_count": 2,
   "id": "8e402872-4db1-4db7-918d-f90ac6418e7f",
   "metadata": {},
   "outputs": [],
   "source": [
    "from numpy import random"
   ]
  },
  {
   "cell_type": "code",
   "execution_count": 4,
   "id": "55664b30-573b-4c94-beb4-2629625c2788",
   "metadata": {},
   "outputs": [],
   "source": [
    "x = random.randint(40, size = (30))"
   ]
  },
  {
   "cell_type": "code",
   "execution_count": 6,
   "id": "ad249157-e7b8-466c-83eb-d876155c7a90",
   "metadata": {},
   "outputs": [],
   "source": [
    "y = random.randint(40, size = (30))"
   ]
  },
  {
   "cell_type": "code",
   "execution_count": 7,
   "id": "0cbb4dd6-6273-42c5-9983-8b549f7499a1",
   "metadata": {},
   "outputs": [
    {
     "data": {
      "text/plain": [
       "array([39, 34, 15,  9, 16, 15, 37, 12,  1, 39, 31, 15, 12, 39, 24, 25,  0,\n",
       "       25, 32, 21,  4,  5, 39, 11,  2,  7, 39, 21, 20, 25])"
      ]
     },
     "execution_count": 7,
     "metadata": {},
     "output_type": "execute_result"
    }
   ],
   "source": [
    "x"
   ]
  },
  {
   "cell_type": "code",
   "execution_count": 8,
   "id": "090c5634-b7c4-4c37-a556-a6b5147db768",
   "metadata": {},
   "outputs": [
    {
     "data": {
      "text/plain": [
       "array([25, 22, 14,  9, 39, 19, 30,  8, 19, 33, 28, 35, 13, 18,  5,  4, 20,\n",
       "       31, 24, 22,  6, 22, 31,  4, 35,  8,  4,  3, 16, 16])"
      ]
     },
     "execution_count": 8,
     "metadata": {},
     "output_type": "execute_result"
    }
   ],
   "source": [
    "y"
   ]
  },
  {
   "cell_type": "code",
   "execution_count": null,
   "id": "ad8c0eba-a0c7-45bd-b920-cd1eee718ef7",
   "metadata": {},
   "outputs": [],
   "source": []
  },
  {
   "cell_type": "code",
   "execution_count": 9,
   "id": "6a752ff3-1292-4ba7-b2de-7356330e3959",
   "metadata": {},
   "outputs": [],
   "source": [
    "import pandas as pd"
   ]
  },
  {
   "cell_type": "code",
   "execution_count": 11,
   "id": "c8a76559-1526-4a66-bdb7-6898aac8f704",
   "metadata": {},
   "outputs": [],
   "source": [
    "# zx = pd.DataFrame(dict(x))"
   ]
  },
  {
   "cell_type": "code",
   "execution_count": 13,
   "id": "40cfc1af-7004-4f43-8cc1-1bd280c0b79b",
   "metadata": {},
   "outputs": [],
   "source": [
    "data = pd.DataFrame({\"x\" : x, \"y\" : y})"
   ]
  },
  {
   "cell_type": "code",
   "execution_count": 14,
   "id": "04dcad73-bd50-436e-9fe9-05c6f5a1d75d",
   "metadata": {},
   "outputs": [
    {
     "data": {
      "text/html": [
       "<div>\n",
       "<style scoped>\n",
       "    .dataframe tbody tr th:only-of-type {\n",
       "        vertical-align: middle;\n",
       "    }\n",
       "\n",
       "    .dataframe tbody tr th {\n",
       "        vertical-align: top;\n",
       "    }\n",
       "\n",
       "    .dataframe thead th {\n",
       "        text-align: right;\n",
       "    }\n",
       "</style>\n",
       "<table border=\"1\" class=\"dataframe\">\n",
       "  <thead>\n",
       "    <tr style=\"text-align: right;\">\n",
       "      <th></th>\n",
       "      <th>x</th>\n",
       "      <th>y</th>\n",
       "    </tr>\n",
       "  </thead>\n",
       "  <tbody>\n",
       "    <tr>\n",
       "      <th>0</th>\n",
       "      <td>39</td>\n",
       "      <td>25</td>\n",
       "    </tr>\n",
       "    <tr>\n",
       "      <th>1</th>\n",
       "      <td>34</td>\n",
       "      <td>22</td>\n",
       "    </tr>\n",
       "    <tr>\n",
       "      <th>2</th>\n",
       "      <td>15</td>\n",
       "      <td>14</td>\n",
       "    </tr>\n",
       "    <tr>\n",
       "      <th>3</th>\n",
       "      <td>9</td>\n",
       "      <td>9</td>\n",
       "    </tr>\n",
       "    <tr>\n",
       "      <th>4</th>\n",
       "      <td>16</td>\n",
       "      <td>39</td>\n",
       "    </tr>\n",
       "    <tr>\n",
       "      <th>5</th>\n",
       "      <td>15</td>\n",
       "      <td>19</td>\n",
       "    </tr>\n",
       "    <tr>\n",
       "      <th>6</th>\n",
       "      <td>37</td>\n",
       "      <td>30</td>\n",
       "    </tr>\n",
       "    <tr>\n",
       "      <th>7</th>\n",
       "      <td>12</td>\n",
       "      <td>8</td>\n",
       "    </tr>\n",
       "    <tr>\n",
       "      <th>8</th>\n",
       "      <td>1</td>\n",
       "      <td>19</td>\n",
       "    </tr>\n",
       "    <tr>\n",
       "      <th>9</th>\n",
       "      <td>39</td>\n",
       "      <td>33</td>\n",
       "    </tr>\n",
       "    <tr>\n",
       "      <th>10</th>\n",
       "      <td>31</td>\n",
       "      <td>28</td>\n",
       "    </tr>\n",
       "    <tr>\n",
       "      <th>11</th>\n",
       "      <td>15</td>\n",
       "      <td>35</td>\n",
       "    </tr>\n",
       "    <tr>\n",
       "      <th>12</th>\n",
       "      <td>12</td>\n",
       "      <td>13</td>\n",
       "    </tr>\n",
       "    <tr>\n",
       "      <th>13</th>\n",
       "      <td>39</td>\n",
       "      <td>18</td>\n",
       "    </tr>\n",
       "    <tr>\n",
       "      <th>14</th>\n",
       "      <td>24</td>\n",
       "      <td>5</td>\n",
       "    </tr>\n",
       "    <tr>\n",
       "      <th>15</th>\n",
       "      <td>25</td>\n",
       "      <td>4</td>\n",
       "    </tr>\n",
       "    <tr>\n",
       "      <th>16</th>\n",
       "      <td>0</td>\n",
       "      <td>20</td>\n",
       "    </tr>\n",
       "    <tr>\n",
       "      <th>17</th>\n",
       "      <td>25</td>\n",
       "      <td>31</td>\n",
       "    </tr>\n",
       "    <tr>\n",
       "      <th>18</th>\n",
       "      <td>32</td>\n",
       "      <td>24</td>\n",
       "    </tr>\n",
       "    <tr>\n",
       "      <th>19</th>\n",
       "      <td>21</td>\n",
       "      <td>22</td>\n",
       "    </tr>\n",
       "    <tr>\n",
       "      <th>20</th>\n",
       "      <td>4</td>\n",
       "      <td>6</td>\n",
       "    </tr>\n",
       "    <tr>\n",
       "      <th>21</th>\n",
       "      <td>5</td>\n",
       "      <td>22</td>\n",
       "    </tr>\n",
       "    <tr>\n",
       "      <th>22</th>\n",
       "      <td>39</td>\n",
       "      <td>31</td>\n",
       "    </tr>\n",
       "    <tr>\n",
       "      <th>23</th>\n",
       "      <td>11</td>\n",
       "      <td>4</td>\n",
       "    </tr>\n",
       "    <tr>\n",
       "      <th>24</th>\n",
       "      <td>2</td>\n",
       "      <td>35</td>\n",
       "    </tr>\n",
       "    <tr>\n",
       "      <th>25</th>\n",
       "      <td>7</td>\n",
       "      <td>8</td>\n",
       "    </tr>\n",
       "    <tr>\n",
       "      <th>26</th>\n",
       "      <td>39</td>\n",
       "      <td>4</td>\n",
       "    </tr>\n",
       "    <tr>\n",
       "      <th>27</th>\n",
       "      <td>21</td>\n",
       "      <td>3</td>\n",
       "    </tr>\n",
       "    <tr>\n",
       "      <th>28</th>\n",
       "      <td>20</td>\n",
       "      <td>16</td>\n",
       "    </tr>\n",
       "    <tr>\n",
       "      <th>29</th>\n",
       "      <td>25</td>\n",
       "      <td>16</td>\n",
       "    </tr>\n",
       "  </tbody>\n",
       "</table>\n",
       "</div>"
      ],
      "text/plain": [
       "     x   y\n",
       "0   39  25\n",
       "1   34  22\n",
       "2   15  14\n",
       "3    9   9\n",
       "4   16  39\n",
       "5   15  19\n",
       "6   37  30\n",
       "7   12   8\n",
       "8    1  19\n",
       "9   39  33\n",
       "10  31  28\n",
       "11  15  35\n",
       "12  12  13\n",
       "13  39  18\n",
       "14  24   5\n",
       "15  25   4\n",
       "16   0  20\n",
       "17  25  31\n",
       "18  32  24\n",
       "19  21  22\n",
       "20   4   6\n",
       "21   5  22\n",
       "22  39  31\n",
       "23  11   4\n",
       "24   2  35\n",
       "25   7   8\n",
       "26  39   4\n",
       "27  21   3\n",
       "28  20  16\n",
       "29  25  16"
      ]
     },
     "execution_count": 14,
     "metadata": {},
     "output_type": "execute_result"
    }
   ],
   "source": [
    "data"
   ]
  },
  {
   "cell_type": "code",
   "execution_count": 57,
   "id": "126d05ad-5f85-4dc0-824e-6cb6ae4bd978",
   "metadata": {},
   "outputs": [],
   "source": [
    "class train_test_and_split_now:\n",
    "    def __init__(self, x, y, test_size):\n",
    "        self.x = x\n",
    "        self.y = y\n",
    "        self.test_size = test_size\n",
    "\n",
    "    def train_test_devider(self):\n",
    "        ind = len(self.x)\n",
    "\n",
    "        index = np.arange(ind)\n",
    "        random.shuffle(index)\n",
    "        # print(index)\n",
    "\n",
    "        index_slice = int(len(xyz) * self.test_size)\n",
    "\n",
    "        train_indexes = index[index_slice : ]\n",
    "        test_indexes = index[ : index_slice]\n",
    "\n",
    "        x_train = x[train_indexes]\n",
    "        x_test = x[test_indexes]\n",
    "\n",
    "        y_train = y[train_indexes]\n",
    "        y_test = y[test_indexes]\n",
    "\n",
    "        return x_train, x_test, y_train, y_test\n",
    "        \n",
    "        \n",
    "        "
   ]
  },
  {
   "cell_type": "code",
   "execution_count": 63,
   "id": "544ab219-825d-4c1e-a847-f8b672ac753a",
   "metadata": {},
   "outputs": [],
   "source": [
    "obj = train_test_and_split_now(x, y, 0.5)"
   ]
  },
  {
   "cell_type": "code",
   "execution_count": 64,
   "id": "c18dc1fb-e175-464d-8359-fd9e4cf3fdd1",
   "metadata": {},
   "outputs": [
    {
     "data": {
      "text/plain": [
       "(22,)"
      ]
     },
     "execution_count": 64,
     "metadata": {},
     "output_type": "execute_result"
    }
   ],
   "source": [
    "x_train, x_test, y_train, y_test = obj.train_test_devider()\n",
    "\n",
    "x_train.shape"
   ]
  },
  {
   "cell_type": "code",
   "execution_count": 65,
   "id": "a070fc63-5d9e-4005-97b3-94a5c592c20b",
   "metadata": {},
   "outputs": [
    {
     "data": {
      "text/plain": [
       "(8,)"
      ]
     },
     "execution_count": 65,
     "metadata": {},
     "output_type": "execute_result"
    }
   ],
   "source": [
    "x_test.shape"
   ]
  },
  {
   "cell_type": "code",
   "execution_count": 18,
   "id": "d49188d4-101a-4b90-b4f8-450b22dba023",
   "metadata": {},
   "outputs": [],
   "source": [
    "xyz = np.array([12, 34, 56, 78, 56, 45, 67, 45, 34, 567, 34, 34, 23, 56, 34, 56])"
   ]
  },
  {
   "cell_type": "code",
   "execution_count": 19,
   "id": "9e50da99-cbae-40df-8663-88bd77478418",
   "metadata": {},
   "outputs": [
    {
     "data": {
      "text/plain": [
       "16"
      ]
     },
     "execution_count": 19,
     "metadata": {},
     "output_type": "execute_result"
    }
   ],
   "source": [
    "len(xyz)"
   ]
  },
  {
   "cell_type": "code",
   "execution_count": 20,
   "id": "1fed80ff-3b95-4a65-bd95-d3fb6e51a871",
   "metadata": {},
   "outputs": [],
   "source": [
    "# 0.5   -> 5 / 10"
   ]
  },
  {
   "cell_type": "code",
   "execution_count": 22,
   "id": "b77dca65-2f8d-4114-acfb-78c828f63e15",
   "metadata": {},
   "outputs": [
    {
     "name": "stdout",
     "output_type": "stream",
     "text": [
      "8.0\n"
     ]
    }
   ],
   "source": [
    "print(len(xyz) * 0.5)"
   ]
  },
  {
   "cell_type": "code",
   "execution_count": 23,
   "id": "4384c502-4abf-46cf-8f16-bc0970153468",
   "metadata": {},
   "outputs": [
    {
     "data": {
      "text/plain": [
       "array([12, 34, 56, 78, 56, 45, 67, 45])"
      ]
     },
     "execution_count": 23,
     "metadata": {},
     "output_type": "execute_result"
    }
   ],
   "source": [
    "xyz[ : 8]"
   ]
  },
  {
   "cell_type": "code",
   "execution_count": 24,
   "id": "5707bf60-82c0-49c7-81fb-345ad84488f3",
   "metadata": {},
   "outputs": [
    {
     "data": {
      "text/plain": [
       "array([ 34, 567,  34,  34,  23,  56,  34,  56])"
      ]
     },
     "execution_count": 24,
     "metadata": {},
     "output_type": "execute_result"
    }
   ],
   "source": [
    "xyz[ 8 : ]"
   ]
  },
  {
   "cell_type": "code",
   "execution_count": null,
   "id": "afee3124-b980-43ba-8001-f43323a5bb33",
   "metadata": {},
   "outputs": [],
   "source": []
  }
 ],
 "metadata": {
  "kernelspec": {
   "display_name": "Python 3 (ipykernel)",
   "language": "python",
   "name": "python3"
  },
  "language_info": {
   "codemirror_mode": {
    "name": "ipython",
    "version": 3
   },
   "file_extension": ".py",
   "mimetype": "text/x-python",
   "name": "python",
   "nbconvert_exporter": "python",
   "pygments_lexer": "ipython3",
   "version": "3.12.0"
  }
 },
 "nbformat": 4,
 "nbformat_minor": 5
}
