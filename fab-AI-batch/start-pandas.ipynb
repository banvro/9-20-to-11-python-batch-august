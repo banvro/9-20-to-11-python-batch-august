{
 "cells": [
  {
   "cell_type": "code",
   "execution_count": 1,
   "id": "aed297d0-43cf-4aa9-bb04-14aaadcd94ac",
   "metadata": {},
   "outputs": [],
   "source": [
    "# Numpy"
   ]
  },
  {
   "cell_type": "markdown",
   "id": "f7290e18-ebd3-40fd-8e86-b218aa35f47e",
   "metadata": {},
   "source": [
    "## Pandas"
   ]
  },
  {
   "cell_type": "code",
   "execution_count": 2,
   "id": "998edece-609d-45c0-96e2-d7693ea602e4",
   "metadata": {},
   "outputs": [],
   "source": [
    "# panel data / python data analytic\n",
    "\n",
    "# wes  2008\n",
    "\n",
    "# pandas -----> numpy\n",
    "\n",
    "# files"
   ]
  },
  {
   "cell_type": "code",
   "execution_count": null,
   "id": "178a4292-a1ea-4cf5-9ce0-eef087395f68",
   "metadata": {},
   "outputs": [],
   "source": [
    "data structures:\n",
    "    1) Series\n",
    "    2) DataFrame"
   ]
  },
  {
   "cell_type": "code",
   "execution_count": null,
   "id": "6e8674e0-1ebf-4cd1-8862-89c150307ef9",
   "metadata": {},
   "outputs": [],
   "source": [
    "# wes mckinney    ------> 2008"
   ]
  },
  {
   "cell_type": "code",
   "execution_count": 3,
   "id": "4b75b033-73ef-4d3e-8f1a-cefaf5b4c670",
   "metadata": {},
   "outputs": [
    {
     "name": "stdout",
     "output_type": "stream",
     "text": [
      "Requirement already satisfied: pandas in c:\\users\\17nru\\appdata\\local\\programs\\python\\python312\\lib\\site-packages (2.1.3)\n",
      "Requirement already satisfied: numpy<2,>=1.26.0 in c:\\users\\17nru\\appdata\\local\\programs\\python\\python312\\lib\\site-packages (from pandas) (1.26.2)\n",
      "Requirement already satisfied: python-dateutil>=2.8.2 in c:\\users\\17nru\\appdata\\local\\programs\\python\\python312\\lib\\site-packages (from pandas) (2.8.2)\n",
      "Requirement already satisfied: pytz>=2020.1 in c:\\users\\17nru\\appdata\\local\\programs\\python\\python312\\lib\\site-packages (from pandas) (2023.3.post1)\n",
      "Requirement already satisfied: tzdata>=2022.1 in c:\\users\\17nru\\appdata\\local\\programs\\python\\python312\\lib\\site-packages (from pandas) (2023.3)\n",
      "Requirement already satisfied: six>=1.5 in c:\\users\\17nru\\appdata\\local\\programs\\python\\python312\\lib\\site-packages (from python-dateutil>=2.8.2->pandas) (1.16.0)\n"
     ]
    },
    {
     "name": "stderr",
     "output_type": "stream",
     "text": [
      "DEPRECATION: textract 1.6.5 has a non-standard dependency specifier extract-msg<=0.29.*. pip 24.1 will enforce this behaviour change. A possible replacement is to upgrade to a newer version of textract or contact the author to suggest that they release a version with a conforming dependency specifiers. Discussion can be found at https://github.com/pypa/pip/issues/12063\n"
     ]
    }
   ],
   "source": [
    "!pip install pandas"
   ]
  },
  {
   "cell_type": "code",
   "execution_count": null,
   "id": "1b50217d-5b73-4a66-b087-6c4ed2ae73e7",
   "metadata": {},
   "outputs": [],
   "source": [
    "use cases:\n",
    "    1) Analyis\n",
    "    2) Exploring Data\n",
    "    3) Cleaning Data\n",
    "    4) Mauplating data.."
   ]
  },
  {
   "cell_type": "code",
   "execution_count": null,
   "id": "0d538964-1fc8-4f1c-8004-e447659950fe",
   "metadata": {},
   "outputs": [],
   "source": []
  },
  {
   "cell_type": "code",
   "execution_count": 4,
   "id": "1e22133f-48df-41fb-835b-6447c24ef555",
   "metadata": {},
   "outputs": [],
   "source": [
    "import pandas as pd"
   ]
  },
  {
   "cell_type": "code",
   "execution_count": null,
   "id": "de49fdb5-2bbb-47e1-a52a-99349a9658b0",
   "metadata": {},
   "outputs": [],
   "source": []
  },
  {
   "cell_type": "code",
   "execution_count": null,
   "id": "b031a9a9-6c0d-419f-9dea-6eb6c6854758",
   "metadata": {},
   "outputs": [],
   "source": [
    "# 1) Series"
   ]
  },
  {
   "cell_type": "code",
   "execution_count": 5,
   "id": "b84b96ab-5513-4dc0-a024-89144884aec4",
   "metadata": {},
   "outputs": [],
   "source": [
    "zx = [23, 45, 3, 12, 12, 10, 67, 10]"
   ]
  },
  {
   "cell_type": "code",
   "execution_count": 6,
   "id": "9efbf55d-7a59-4420-9c3a-67d8828921a7",
   "metadata": {},
   "outputs": [],
   "source": [
    "data = pd.Series(zx)"
   ]
  },
  {
   "cell_type": "code",
   "execution_count": 7,
   "id": "720814a6-badd-41ff-a5a2-6b4eecada73a",
   "metadata": {},
   "outputs": [
    {
     "data": {
      "text/plain": [
       "0    23\n",
       "1    45\n",
       "2     3\n",
       "3    12\n",
       "4    12\n",
       "5    10\n",
       "6    67\n",
       "7    10\n",
       "dtype: int64"
      ]
     },
     "execution_count": 7,
     "metadata": {},
     "output_type": "execute_result"
    }
   ],
   "source": [
    "data"
   ]
  },
  {
   "cell_type": "code",
   "execution_count": null,
   "id": "a2e2ed31-472c-4caa-a157-9684765182cb",
   "metadata": {},
   "outputs": [],
   "source": []
  },
  {
   "cell_type": "code",
   "execution_count": 9,
   "id": "9983b278-2b05-40fc-a400-1a9e0e0380ca",
   "metadata": {},
   "outputs": [],
   "source": [
    "data = pd.Series(zx, index = (\"a\", \"b\", \"c\", \"d\", \"e\", \"f\", \"g\", \"h\"))"
   ]
  },
  {
   "cell_type": "code",
   "execution_count": 10,
   "id": "b05f21ec-a938-407e-a917-42383f39ed35",
   "metadata": {},
   "outputs": [
    {
     "data": {
      "text/plain": [
       "a    23\n",
       "b    45\n",
       "c     3\n",
       "d    12\n",
       "e    12\n",
       "f    10\n",
       "g    67\n",
       "h    10\n",
       "dtype: int64"
      ]
     },
     "execution_count": 10,
     "metadata": {},
     "output_type": "execute_result"
    }
   ],
   "source": [
    "data"
   ]
  },
  {
   "cell_type": "code",
   "execution_count": 12,
   "id": "5148b912-71bc-4b04-9a08-3d7ee2ab6b42",
   "metadata": {},
   "outputs": [
    {
     "data": {
      "text/plain": [
       "55"
      ]
     },
     "execution_count": 12,
     "metadata": {},
     "output_type": "execute_result"
    }
   ],
   "source": [
    "data[\"f\"] + data[\"b\"]"
   ]
  },
  {
   "cell_type": "code",
   "execution_count": null,
   "id": "8f53475e-48b4-404c-b38e-7eff32658326",
   "metadata": {},
   "outputs": [],
   "source": []
  },
  {
   "cell_type": "code",
   "execution_count": 13,
   "id": "43e53cbd-a57a-4cd9-ae91-b51381e249a6",
   "metadata": {},
   "outputs": [],
   "source": [
    "# DataFrame :    ----> dictionry"
   ]
  },
  {
   "cell_type": "code",
   "execution_count": null,
   "id": "674a3ee0-2863-4fa9-8165-1aae2dcd5bb3",
   "metadata": {},
   "outputs": [],
   "source": []
  },
  {
   "cell_type": "code",
   "execution_count": 16,
   "id": "2debce75-1933-4ab0-9078-eb3ae984f4bb",
   "metadata": {},
   "outputs": [],
   "source": [
    "mydata = pd.DataFrame({\n",
    "    \"Stu_Name\" : [\"hlo\", \"moris\", \"kriss\", \"mohan\", \"jone\"],\n",
    "    \"Marks\" : [78, 67, 45, 100, 78]\n",
    "}, index = (10, 20, 30, 40, 50))"
   ]
  },
  {
   "cell_type": "code",
   "execution_count": 17,
   "id": "3f71d96c-e772-4cc9-8a63-56cb7d7a6891",
   "metadata": {},
   "outputs": [
    {
     "data": {
      "text/html": [
       "<div>\n",
       "<style scoped>\n",
       "    .dataframe tbody tr th:only-of-type {\n",
       "        vertical-align: middle;\n",
       "    }\n",
       "\n",
       "    .dataframe tbody tr th {\n",
       "        vertical-align: top;\n",
       "    }\n",
       "\n",
       "    .dataframe thead th {\n",
       "        text-align: right;\n",
       "    }\n",
       "</style>\n",
       "<table border=\"1\" class=\"dataframe\">\n",
       "  <thead>\n",
       "    <tr style=\"text-align: right;\">\n",
       "      <th></th>\n",
       "      <th>Stu_Name</th>\n",
       "      <th>Marks</th>\n",
       "    </tr>\n",
       "  </thead>\n",
       "  <tbody>\n",
       "    <tr>\n",
       "      <th>10</th>\n",
       "      <td>hlo</td>\n",
       "      <td>78</td>\n",
       "    </tr>\n",
       "    <tr>\n",
       "      <th>20</th>\n",
       "      <td>moris</td>\n",
       "      <td>67</td>\n",
       "    </tr>\n",
       "    <tr>\n",
       "      <th>30</th>\n",
       "      <td>kriss</td>\n",
       "      <td>45</td>\n",
       "    </tr>\n",
       "    <tr>\n",
       "      <th>40</th>\n",
       "      <td>mohan</td>\n",
       "      <td>100</td>\n",
       "    </tr>\n",
       "    <tr>\n",
       "      <th>50</th>\n",
       "      <td>jone</td>\n",
       "      <td>78</td>\n",
       "    </tr>\n",
       "  </tbody>\n",
       "</table>\n",
       "</div>"
      ],
      "text/plain": [
       "   Stu_Name  Marks\n",
       "10      hlo     78\n",
       "20    moris     67\n",
       "30    kriss     45\n",
       "40    mohan    100\n",
       "50     jone     78"
      ]
     },
     "execution_count": 17,
     "metadata": {},
     "output_type": "execute_result"
    }
   ],
   "source": [
    "mydata"
   ]
  },
  {
   "cell_type": "code",
   "execution_count": null,
   "id": "20b1093f-c081-4e37-b50b-641d161e2435",
   "metadata": {},
   "outputs": [],
   "source": []
  },
  {
   "cell_type": "code",
   "execution_count": 21,
   "id": "cfa23c48-60e6-42a8-90eb-50c57c4d6ec7",
   "metadata": {},
   "outputs": [
    {
     "data": {
      "text/plain": [
       "'kriss'"
      ]
     },
     "execution_count": 21,
     "metadata": {},
     "output_type": "execute_result"
    }
   ],
   "source": [
    "mydata[\"Stu_Name\"][30]"
   ]
  },
  {
   "cell_type": "code",
   "execution_count": null,
   "id": "76937235-1abf-43d4-9f37-942c98d72627",
   "metadata": {},
   "outputs": [],
   "source": [
    "# loc, iloc"
   ]
  },
  {
   "cell_type": "code",
   "execution_count": 25,
   "id": "2e49d8a8-f016-42c5-85a1-1e937f7864f7",
   "metadata": {},
   "outputs": [],
   "source": [
    "# mydata[10]"
   ]
  },
  {
   "cell_type": "code",
   "execution_count": 28,
   "id": "b5113caa-c5b2-4826-989f-cbd16236f30c",
   "metadata": {},
   "outputs": [
    {
     "data": {
      "text/plain": [
       "Stu_Name    kriss\n",
       "Marks          45\n",
       "Name: 30, dtype: object"
      ]
     },
     "execution_count": 28,
     "metadata": {},
     "output_type": "execute_result"
    }
   ],
   "source": [
    "mydata.loc[30]"
   ]
  },
  {
   "cell_type": "code",
   "execution_count": null,
   "id": "ac21e518-10b4-4ef4-ad42-1cfca6510f77",
   "metadata": {},
   "outputs": [],
   "source": []
  },
  {
   "cell_type": "code",
   "execution_count": null,
   "id": "9ca3d445-b7ab-473c-806c-b62597303d52",
   "metadata": {},
   "outputs": [],
   "source": []
  },
  {
   "cell_type": "code",
   "execution_count": 29,
   "id": "0321c34a-7f9d-4943-b073-761d7a4e6a6c",
   "metadata": {},
   "outputs": [],
   "source": [
    "# how to load data in pandas"
   ]
  },
  {
   "cell_type": "code",
   "execution_count": 30,
   "id": "a114947f-a597-4c0e-92c5-9b7c677ea37f",
   "metadata": {},
   "outputs": [],
   "source": [
    "data = pd.read_csv(\"my_placment_data.csv\")"
   ]
  },
  {
   "cell_type": "code",
   "execution_count": null,
   "id": "52ec3242-7940-4227-9b6e-f761d21a1e9e",
   "metadata": {},
   "outputs": [],
   "source": []
  },
  {
   "cell_type": "code",
   "execution_count": 31,
   "id": "1dd61be6-ae57-4e96-9482-e73f66235ef3",
   "metadata": {},
   "outputs": [
    {
     "data": {
      "text/html": [
       "<div>\n",
       "<style scoped>\n",
       "    .dataframe tbody tr th:only-of-type {\n",
       "        vertical-align: middle;\n",
       "    }\n",
       "\n",
       "    .dataframe tbody tr th {\n",
       "        vertical-align: top;\n",
       "    }\n",
       "\n",
       "    .dataframe thead th {\n",
       "        text-align: right;\n",
       "    }\n",
       "</style>\n",
       "<table border=\"1\" class=\"dataframe\">\n",
       "  <thead>\n",
       "    <tr style=\"text-align: right;\">\n",
       "      <th></th>\n",
       "      <th>cgpa</th>\n",
       "      <th>package</th>\n",
       "    </tr>\n",
       "  </thead>\n",
       "  <tbody>\n",
       "    <tr>\n",
       "      <th>0</th>\n",
       "      <td>6.89</td>\n",
       "      <td>3.26</td>\n",
       "    </tr>\n",
       "    <tr>\n",
       "      <th>1</th>\n",
       "      <td>5.12</td>\n",
       "      <td>1.98</td>\n",
       "    </tr>\n",
       "    <tr>\n",
       "      <th>2</th>\n",
       "      <td>7.82</td>\n",
       "      <td>3.25</td>\n",
       "    </tr>\n",
       "    <tr>\n",
       "      <th>3</th>\n",
       "      <td>7.42</td>\n",
       "      <td>3.67</td>\n",
       "    </tr>\n",
       "    <tr>\n",
       "      <th>4</th>\n",
       "      <td>6.94</td>\n",
       "      <td>3.57</td>\n",
       "    </tr>\n",
       "    <tr>\n",
       "      <th>...</th>\n",
       "      <td>...</td>\n",
       "      <td>...</td>\n",
       "    </tr>\n",
       "    <tr>\n",
       "      <th>195</th>\n",
       "      <td>6.93</td>\n",
       "      <td>2.46</td>\n",
       "    </tr>\n",
       "    <tr>\n",
       "      <th>196</th>\n",
       "      <td>5.89</td>\n",
       "      <td>2.57</td>\n",
       "    </tr>\n",
       "    <tr>\n",
       "      <th>197</th>\n",
       "      <td>7.21</td>\n",
       "      <td>3.24</td>\n",
       "    </tr>\n",
       "    <tr>\n",
       "      <th>198</th>\n",
       "      <td>7.63</td>\n",
       "      <td>3.96</td>\n",
       "    </tr>\n",
       "    <tr>\n",
       "      <th>199</th>\n",
       "      <td>6.22</td>\n",
       "      <td>2.33</td>\n",
       "    </tr>\n",
       "  </tbody>\n",
       "</table>\n",
       "<p>200 rows × 2 columns</p>\n",
       "</div>"
      ],
      "text/plain": [
       "     cgpa  package\n",
       "0    6.89     3.26\n",
       "1    5.12     1.98\n",
       "2    7.82     3.25\n",
       "3    7.42     3.67\n",
       "4    6.94     3.57\n",
       "..    ...      ...\n",
       "195  6.93     2.46\n",
       "196  5.89     2.57\n",
       "197  7.21     3.24\n",
       "198  7.63     3.96\n",
       "199  6.22     2.33\n",
       "\n",
       "[200 rows x 2 columns]"
      ]
     },
     "execution_count": 31,
     "metadata": {},
     "output_type": "execute_result"
    }
   ],
   "source": [
    "data"
   ]
  },
  {
   "cell_type": "code",
   "execution_count": 32,
   "id": "8e5ee472-74d3-4bc5-9048-a39f548948ce",
   "metadata": {},
   "outputs": [
    {
     "data": {
      "text/plain": [
       "'     cgpa  package\\n0    6.89     3.26\\n1    5.12     1.98\\n2    7.82     3.25\\n3    7.42     3.67\\n4    6.94     3.57\\n5    7.89     2.99\\n6    6.73     2.60\\n7    6.75     2.48\\n8    6.09     2.31\\n9    8.31     3.51\\n10   5.32     1.86\\n11   6.61     2.60\\n12   8.94     3.65\\n13   6.93     2.89\\n14   7.73     3.42\\n15   7.25     3.23\\n16   6.84     2.35\\n17   5.38     2.09\\n18   6.94     2.98\\n19   7.48     2.83\\n20   7.28     3.16\\n21   6.85     2.93\\n22   6.14     2.30\\n23   6.19     2.48\\n24   6.53     2.71\\n25   7.28     3.65\\n26   8.31     3.42\\n27   5.42     2.16\\n28   5.94     2.24\\n29   7.15     3.49\\n30   7.36     3.26\\n31   8.10     3.89\\n32   6.96     3.08\\n33   6.35     2.73\\n34   7.34     3.42\\n35   6.87     2.87\\n36   5.99     2.84\\n37   5.90     2.43\\n38   8.62     4.36\\n39   7.43     3.33\\n40   9.38     4.02\\n41   6.89     2.70\\n42   5.95     2.54\\n43   7.66     2.76\\n44   5.09     1.86\\n45   7.87     3.58\\n46   6.07     2.26\\n47   5.84     3.26\\n48   8.63     4.09\\n49   8.87     4.62\\n50   9.58     4.43\\n51   9.26     3.79\\n52   8.37     4.11\\n53   6.47     2.61\\n54   6.86     3.09\\n55   8.20     3.39\\n56   5.84     2.74\\n57   6.60     1.94\\n58   6.92     3.09\\n59   7.56     3.31\\n60   5.61     2.19\\n61   5.48     1.61\\n62   6.34     2.09\\n63   9.16     4.25\\n64   7.36     2.92\\n65   7.60     3.81\\n66   5.11     1.63\\n67   6.51     2.89\\n68   7.56     2.99\\n69   7.30     2.94\\n70   5.79     2.35\\n71   7.47     3.34\\n72   7.78     3.62\\n73   8.44     4.03\\n74   6.85     3.44\\n75   6.97     3.28\\n76   6.94     3.15\\n77   8.99     4.60\\n78   6.59     2.21\\n79   7.18     3.00\\n80   7.63     3.44\\n81   6.10     2.20\\n82   5.58     2.17\\n83   8.44     3.49\\n84   4.26     1.53\\n85   4.79     1.48\\n86   7.61     2.77\\n87   8.09     3.55\\n88   4.73     1.48\\n89   6.42     2.72\\n90   7.11     2.66\\n91   6.22     2.14\\n92   7.90     4.00\\n93   6.79     3.08\\n94   5.83     2.42\\n95   6.63     2.79\\n96   7.11     2.61\\n97   5.98     2.84\\n98   7.69     3.83\\n99   6.61     3.24\\n100  7.95     4.14\\n101  6.71     3.52\\n102  5.13     1.37\\n103  7.05     3.00\\n104  7.62     3.74\\n105  6.66     2.82\\n106  6.13     2.19\\n107  6.33     2.59\\n108  7.76     3.54\\n109  7.77     4.06\\n110  8.18     3.76\\n111  5.42     2.25\\n112  8.58     4.10\\n113  6.94     2.37\\n114  5.84     1.87\\n115  8.35     4.21\\n116  9.04     3.33\\n117  7.12     2.99\\n118  7.40     2.88\\n119  7.39     2.65\\n120  5.23     1.73\\n121  6.50     3.02\\n122  5.12     2.01\\n123  5.10     2.30\\n124  6.06     2.31\\n125  7.33     3.16\\n126  5.91     2.60\\n127  6.78     3.11\\n128  7.93     3.34\\n129  7.29     3.12\\n130  6.68     2.49\\n131  6.37     2.01\\n132  5.84     2.48\\n133  6.05     2.58\\n134  7.20     2.83\\n135  6.10     2.60\\n136  5.64     2.10\\n137  7.14     3.13\\n138  7.91     3.89\\n139  7.19     2.40\\n140  7.91     3.15\\n141  6.76     3.18\\n142  6.93     3.04\\n143  4.85     1.54\\n144  6.17     2.42\\n145  5.84     2.18\\n146  6.07     2.46\\n147  5.66     2.21\\n148  7.57     3.40\\n149  8.28     3.67\\n150  6.30     2.73\\n151  6.12     2.76\\n152  7.37     3.08\\n153  7.94     3.99\\n154  7.08     2.85\\n155  6.98     3.09\\n156  7.38     3.13\\n157  6.47     2.70\\n158  5.95     3.04\\n159  8.71     4.08\\n160  7.13     2.93\\n161  7.30     3.33\\n162  5.53     2.55\\n163  8.93     3.91\\n164  9.06     3.82\\n165  8.21     4.08\\n166  8.60     3.98\\n167  8.13     3.60\\n168  8.65     3.52\\n169  9.31     4.37\\n170  6.22     2.87\\n171  8.01     3.76\\n172  6.93     2.51\\n173  6.75     2.56\\n174  7.32     2.99\\n175  7.04     3.50\\n176  6.29     3.23\\n177  7.09     3.64\\n178  8.15     3.63\\n179  7.14     3.03\\n180  6.19     2.72\\n181  8.22     3.89\\n182  5.88     2.08\\n183  7.28     2.72\\n184  7.88     3.14\\n185  6.31     3.18\\n186  7.84     3.47\\n187  6.26     2.44\\n188  7.35     3.08\\n189  8.11     4.06\\n190  6.19     2.69\\n191  7.28     3.48\\n192  8.25     3.75\\n193  4.57     1.94\\n194  7.89     3.67\\n195  6.93     2.46\\n196  5.89     2.57\\n197  7.21     3.24\\n198  7.63     3.96\\n199  6.22     2.33'"
      ]
     },
     "execution_count": 32,
     "metadata": {},
     "output_type": "execute_result"
    }
   ],
   "source": [
    "data.to_string()"
   ]
  },
  {
   "cell_type": "code",
   "execution_count": null,
   "id": "6b3f12ff-70e0-4ce3-a2f9-18c1b5e6148b",
   "metadata": {},
   "outputs": [],
   "source": []
  },
  {
   "cell_type": "code",
   "execution_count": null,
   "id": "67eabbc3-dd3b-453c-b83b-4aee97259811",
   "metadata": {},
   "outputs": [],
   "source": []
  },
  {
   "cell_type": "code",
   "execution_count": null,
   "id": "f5783c0b-e02b-4303-8ec0-edfa9900ce33",
   "metadata": {},
   "outputs": [],
   "source": []
  },
  {
   "cell_type": "code",
   "execution_count": 35,
   "id": "ca2681d1-6ac2-4a3a-ac09-ac58f519065a",
   "metadata": {},
   "outputs": [
    {
     "data": {
      "text/html": [
       "<div>\n",
       "<style scoped>\n",
       "    .dataframe tbody tr th:only-of-type {\n",
       "        vertical-align: middle;\n",
       "    }\n",
       "\n",
       "    .dataframe tbody tr th {\n",
       "        vertical-align: top;\n",
       "    }\n",
       "\n",
       "    .dataframe thead th {\n",
       "        text-align: right;\n",
       "    }\n",
       "</style>\n",
       "<table border=\"1\" class=\"dataframe\">\n",
       "  <thead>\n",
       "    <tr style=\"text-align: right;\">\n",
       "      <th></th>\n",
       "      <th>cgpa</th>\n",
       "      <th>package</th>\n",
       "    </tr>\n",
       "  </thead>\n",
       "  <tbody>\n",
       "    <tr>\n",
       "      <th>0</th>\n",
       "      <td>6.89</td>\n",
       "      <td>3.26</td>\n",
       "    </tr>\n",
       "    <tr>\n",
       "      <th>1</th>\n",
       "      <td>5.12</td>\n",
       "      <td>1.98</td>\n",
       "    </tr>\n",
       "    <tr>\n",
       "      <th>2</th>\n",
       "      <td>7.82</td>\n",
       "      <td>3.25</td>\n",
       "    </tr>\n",
       "    <tr>\n",
       "      <th>3</th>\n",
       "      <td>7.42</td>\n",
       "      <td>3.67</td>\n",
       "    </tr>\n",
       "    <tr>\n",
       "      <th>4</th>\n",
       "      <td>6.94</td>\n",
       "      <td>3.57</td>\n",
       "    </tr>\n",
       "    <tr>\n",
       "      <th>5</th>\n",
       "      <td>7.89</td>\n",
       "      <td>2.99</td>\n",
       "    </tr>\n",
       "    <tr>\n",
       "      <th>6</th>\n",
       "      <td>6.73</td>\n",
       "      <td>2.60</td>\n",
       "    </tr>\n",
       "    <tr>\n",
       "      <th>7</th>\n",
       "      <td>6.75</td>\n",
       "      <td>2.48</td>\n",
       "    </tr>\n",
       "    <tr>\n",
       "      <th>8</th>\n",
       "      <td>6.09</td>\n",
       "      <td>2.31</td>\n",
       "    </tr>\n",
       "    <tr>\n",
       "      <th>9</th>\n",
       "      <td>8.31</td>\n",
       "      <td>3.51</td>\n",
       "    </tr>\n",
       "  </tbody>\n",
       "</table>\n",
       "</div>"
      ],
      "text/plain": [
       "   cgpa  package\n",
       "0  6.89     3.26\n",
       "1  5.12     1.98\n",
       "2  7.82     3.25\n",
       "3  7.42     3.67\n",
       "4  6.94     3.57\n",
       "5  7.89     2.99\n",
       "6  6.73     2.60\n",
       "7  6.75     2.48\n",
       "8  6.09     2.31\n",
       "9  8.31     3.51"
      ]
     },
     "execution_count": 35,
     "metadata": {},
     "output_type": "execute_result"
    }
   ],
   "source": [
    "data.head(10)"
   ]
  },
  {
   "cell_type": "code",
   "execution_count": null,
   "id": "7533e509-55e5-4527-80c4-660c58bcf696",
   "metadata": {},
   "outputs": [],
   "source": []
  },
  {
   "cell_type": "code",
   "execution_count": 36,
   "id": "a97045d1-1f97-481a-b8b7-3fc2f2952cc3",
   "metadata": {},
   "outputs": [
    {
     "data": {
      "text/html": [
       "<div>\n",
       "<style scoped>\n",
       "    .dataframe tbody tr th:only-of-type {\n",
       "        vertical-align: middle;\n",
       "    }\n",
       "\n",
       "    .dataframe tbody tr th {\n",
       "        vertical-align: top;\n",
       "    }\n",
       "\n",
       "    .dataframe thead th {\n",
       "        text-align: right;\n",
       "    }\n",
       "</style>\n",
       "<table border=\"1\" class=\"dataframe\">\n",
       "  <thead>\n",
       "    <tr style=\"text-align: right;\">\n",
       "      <th></th>\n",
       "      <th>cgpa</th>\n",
       "      <th>package</th>\n",
       "    </tr>\n",
       "  </thead>\n",
       "  <tbody>\n",
       "    <tr>\n",
       "      <th>195</th>\n",
       "      <td>6.93</td>\n",
       "      <td>2.46</td>\n",
       "    </tr>\n",
       "    <tr>\n",
       "      <th>196</th>\n",
       "      <td>5.89</td>\n",
       "      <td>2.57</td>\n",
       "    </tr>\n",
       "    <tr>\n",
       "      <th>197</th>\n",
       "      <td>7.21</td>\n",
       "      <td>3.24</td>\n",
       "    </tr>\n",
       "    <tr>\n",
       "      <th>198</th>\n",
       "      <td>7.63</td>\n",
       "      <td>3.96</td>\n",
       "    </tr>\n",
       "    <tr>\n",
       "      <th>199</th>\n",
       "      <td>6.22</td>\n",
       "      <td>2.33</td>\n",
       "    </tr>\n",
       "  </tbody>\n",
       "</table>\n",
       "</div>"
      ],
      "text/plain": [
       "     cgpa  package\n",
       "195  6.93     2.46\n",
       "196  5.89     2.57\n",
       "197  7.21     3.24\n",
       "198  7.63     3.96\n",
       "199  6.22     2.33"
      ]
     },
     "execution_count": 36,
     "metadata": {},
     "output_type": "execute_result"
    }
   ],
   "source": [
    "data.tail()"
   ]
  },
  {
   "cell_type": "code",
   "execution_count": null,
   "id": "225d2eb0-c629-445d-9ec2-748d43e1657c",
   "metadata": {},
   "outputs": [],
   "source": []
  }
 ],
 "metadata": {
  "kernelspec": {
   "display_name": "Python 3 (ipykernel)",
   "language": "python",
   "name": "python3"
  },
  "language_info": {
   "codemirror_mode": {
    "name": "ipython",
    "version": 3
   },
   "file_extension": ".py",
   "mimetype": "text/x-python",
   "name": "python",
   "nbconvert_exporter": "python",
   "pygments_lexer": "ipython3",
   "version": "3.12.0"
  }
 },
 "nbformat": 4,
 "nbformat_minor": 5
}
