{
 "cells": [
  {
   "cell_type": "code",
   "execution_count": 1,
   "id": "9d56bce8-1bdc-43c5-b163-c15003a43a30",
   "metadata": {},
   "outputs": [
    {
     "name": "stdout",
     "output_type": "stream",
     "text": [
      "hello world\n"
     ]
    }
   ],
   "source": [
    "print(\"hello world\")"
   ]
  },
  {
   "cell_type": "code",
   "execution_count": 2,
   "id": "016bf394-360e-49fa-913b-fb0f2d4bb7d0",
   "metadata": {},
   "outputs": [
    {
     "name": "stdout",
     "output_type": "stream",
     "text": [
      "gooo\n"
     ]
    }
   ],
   "source": [
    "print(\"gooo\")"
   ]
  },
  {
   "cell_type": "code",
   "execution_count": null,
   "id": "92cf0da4-02c8-4ba0-b80e-264039e101dd",
   "metadata": {},
   "outputs": [],
   "source": []
  },
  {
   "cell_type": "markdown",
   "id": "6c591f2b-fff3-4334-ab8b-557c6327b52f",
   "metadata": {},
   "source": [
    "# Start Numpy"
   ]
  },
  {
   "cell_type": "code",
   "execution_count": null,
   "id": "ff3e196e-a40d-4fab-9f9a-7ad9ff633b97",
   "metadata": {},
   "outputs": [],
   "source": [
    "# Numpy : numarical Python"
   ]
  },
  {
   "cell_type": "code",
   "execution_count": null,
   "id": "223aadbc-5617-4266-a9d6-5577b4d60682",
   "metadata": {},
   "outputs": [],
   "source": [
    "# list\n",
    "# tuple\n",
    "# set\n",
    "# dictiorny"
   ]
  },
  {
   "cell_type": "code",
   "execution_count": null,
   "id": "b451b2a9-0c58-4663-af2e-ffd99d894234",
   "metadata": {},
   "outputs": [],
   "source": [
    "# array = ====>   list"
   ]
  },
  {
   "cell_type": "code",
   "execution_count": null,
   "id": "e01235f8-2be1-4980-92a0-f79cfebe20b6",
   "metadata": {},
   "outputs": [],
   "source": [
    "list => hitrogenious:\n",
    "\n",
    "# lst = [12, \"hlo\", \"car\", 100, True]"
   ]
  },
  {
   "cell_type": "code",
   "execution_count": null,
   "id": "81a144f3-ef2b-4c39-8a84-5d40f10f4086",
   "metadata": {},
   "outputs": [],
   "source": []
  },
  {
   "cell_type": "code",
   "execution_count": null,
   "id": "6e8edd2a-88f7-4407-be7a-f16be4b423f1",
   "metadata": {},
   "outputs": [],
   "source": [
    "numpy ==> 2005 \n",
    "trevious oliphent"
   ]
  },
  {
   "cell_type": "code",
   "execution_count": null,
   "id": "361d26ca-fa0e-4264-a33f-dfc3f87e4a33",
   "metadata": {},
   "outputs": [],
   "source": [
    "Numpy   ====> 50x\n",
    "[10, 10, 34, 10, 1000, 34, 45]\n",
    "\n",
    "python 70%\n",
    "c/c#   30%\n",
    "\n",
    "List"
   ]
  },
  {
   "cell_type": "code",
   "execution_count": null,
   "id": "7e2d9fd0-f0af-4158-892a-b52bb2962f9e",
   "metadata": {},
   "outputs": [],
   "source": []
  },
  {
   "cell_type": "code",
   "execution_count": null,
   "id": "576da207-3b0b-435d-a77d-6a4d57370263",
   "metadata": {},
   "outputs": [],
   "source": [
    "# numpy"
   ]
  },
  {
   "cell_type": "code",
   "execution_count": 3,
   "id": "6068d3c8-8c72-4be8-90a5-4f9a473f91f3",
   "metadata": {},
   "outputs": [
    {
     "name": "stdout",
     "output_type": "stream",
     "text": [
      "Requirement already satisfied: numpy in c:\\users\\17nru\\appdata\\local\\programs\\python\\python312\\lib\\site-packages (1.26.2)\n"
     ]
    },
    {
     "name": "stderr",
     "output_type": "stream",
     "text": [
      "DEPRECATION: textract 1.6.5 has a non-standard dependency specifier extract-msg<=0.29.*. pip 24.1 will enforce this behaviour change. A possible replacement is to upgrade to a newer version of textract or contact the author to suggest that they release a version with a conforming dependency specifiers. Discussion can be found at https://github.com/pypa/pip/issues/12063\n"
     ]
    }
   ],
   "source": [
    "!pip install numpy"
   ]
  },
  {
   "cell_type": "code",
   "execution_count": null,
   "id": "46b104b7-8635-4fc6-89d7-9dbdc6a1f70b",
   "metadata": {},
   "outputs": [],
   "source": []
  },
  {
   "cell_type": "code",
   "execution_count": 6,
   "id": "035490a8-c841-4b28-9ba4-c2784695aa9a",
   "metadata": {},
   "outputs": [],
   "source": [
    "import numpy as np"
   ]
  },
  {
   "cell_type": "code",
   "execution_count": null,
   "id": "52ae8bdd-83ce-43f7-be9d-43367bed3ceb",
   "metadata": {},
   "outputs": [],
   "source": []
  },
  {
   "cell_type": "markdown",
   "id": "cb345206-1697-4d9d-804f-deb6006c914b",
   "metadata": {},
   "source": [
    "### ndarray : when we create an object with the help of array method. that object is called ndarray."
   ]
  },
  {
   "cell_type": "code",
   "execution_count": null,
   "id": "85aa54e7-e9b1-4520-bac6-9a82516055db",
   "metadata": {},
   "outputs": [],
   "source": []
  },
  {
   "cell_type": "code",
   "execution_count": 10,
   "id": "011e589c-d3ac-44f5-89e4-896b2f903281",
   "metadata": {},
   "outputs": [],
   "source": [
    "ar = np.array(120)"
   ]
  },
  {
   "cell_type": "code",
   "execution_count": 11,
   "id": "396aac7f-a5b2-4098-9d90-3b8fbc0ded9a",
   "metadata": {},
   "outputs": [
    {
     "data": {
      "text/plain": [
       "int"
      ]
     },
     "execution_count": 11,
     "metadata": {},
     "output_type": "execute_result"
    }
   ],
   "source": [
    "a = 10\n",
    "type(a)"
   ]
  },
  {
   "cell_type": "code",
   "execution_count": 12,
   "id": "65495441-c66d-4431-bc6b-13ee8c4bee88",
   "metadata": {},
   "outputs": [
    {
     "data": {
      "text/plain": [
       "numpy.ndarray"
      ]
     },
     "execution_count": 12,
     "metadata": {},
     "output_type": "execute_result"
    }
   ],
   "source": [
    "type(ar)"
   ]
  },
  {
   "cell_type": "code",
   "execution_count": null,
   "id": "ec6d72e5-2e64-4012-9ed7-5377f58cf28e",
   "metadata": {},
   "outputs": [],
   "source": []
  },
  {
   "cell_type": "markdown",
   "id": "4b9e8c9c-2970-4561-af92-c1768de3f6f2",
   "metadata": {},
   "source": [
    "### ndim attribute"
   ]
  },
  {
   "cell_type": "code",
   "execution_count": null,
   "id": "8f8102ff-58bc-4f32-ab09-ad6228bf43b2",
   "metadata": {},
   "outputs": [],
   "source": [
    "help to check the demesion of an ndarray --- array"
   ]
  },
  {
   "cell_type": "code",
   "execution_count": 13,
   "id": "f0199620-01e3-494d-b95b-5b189d8654a7",
   "metadata": {},
   "outputs": [
    {
     "data": {
      "text/plain": [
       "0"
      ]
     },
     "execution_count": 13,
     "metadata": {},
     "output_type": "execute_result"
    }
   ],
   "source": [
    "ar.ndim"
   ]
  },
  {
   "cell_type": "code",
   "execution_count": null,
   "id": "5e73889e-27eb-4b26-b062-040f85e1d7b1",
   "metadata": {},
   "outputs": [],
   "source": []
  },
  {
   "cell_type": "code",
   "execution_count": 14,
   "id": "f2a1ba60-7ca9-4c1c-907e-dbd04acf2bab",
   "metadata": {},
   "outputs": [],
   "source": [
    "xyz = np.array([12, 10, 43, 23, 100])"
   ]
  },
  {
   "cell_type": "code",
   "execution_count": 15,
   "id": "df874afc-acc2-4b58-9847-80134b43d4f3",
   "metadata": {},
   "outputs": [
    {
     "data": {
      "text/plain": [
       "array([ 12,  10,  43,  23, 100])"
      ]
     },
     "execution_count": 15,
     "metadata": {},
     "output_type": "execute_result"
    }
   ],
   "source": [
    "xyz"
   ]
  },
  {
   "cell_type": "code",
   "execution_count": 16,
   "id": "179a41ad-857a-4bf3-862f-3fda24b8fd22",
   "metadata": {},
   "outputs": [
    {
     "data": {
      "text/plain": [
       "1"
      ]
     },
     "execution_count": 16,
     "metadata": {},
     "output_type": "execute_result"
    }
   ],
   "source": [
    "xyz.ndim"
   ]
  },
  {
   "cell_type": "code",
   "execution_count": 20,
   "id": "a5585b28-b3d5-4225-ac80-d0ad63e7ed71",
   "metadata": {},
   "outputs": [],
   "source": [
    "arr = np.array([[12, 34, 23, 56, 12, 100], [45, 234, 12, 34, 23, 1,]])"
   ]
  },
  {
   "cell_type": "code",
   "execution_count": 21,
   "id": "cf468074-3925-41b0-a04b-56cb968a94c3",
   "metadata": {},
   "outputs": [
    {
     "data": {
      "text/plain": [
       "array([[ 12,  34,  23,  56,  12, 100],\n",
       "       [ 45, 234,  12,  34,  23,   1]])"
      ]
     },
     "execution_count": 21,
     "metadata": {},
     "output_type": "execute_result"
    }
   ],
   "source": [
    "arr"
   ]
  },
  {
   "cell_type": "code",
   "execution_count": 22,
   "id": "3dabb7e4-a0bf-423e-a3df-b7b5af5754ba",
   "metadata": {},
   "outputs": [
    {
     "data": {
      "text/plain": [
       "2"
      ]
     },
     "execution_count": 22,
     "metadata": {},
     "output_type": "execute_result"
    }
   ],
   "source": [
    "arr.ndim"
   ]
  },
  {
   "cell_type": "code",
   "execution_count": 25,
   "id": "b0ad92cc-734d-4bc1-8925-53806a3ebd7e",
   "metadata": {},
   "outputs": [],
   "source": [
    "x = np.array([[12, 345, 23, 1], [45, 67, 34, 23], [56, 34, 23, 45]])"
   ]
  },
  {
   "cell_type": "code",
   "execution_count": 26,
   "id": "2b498fc5-644b-4646-9aff-fd09ff656774",
   "metadata": {},
   "outputs": [
    {
     "data": {
      "text/plain": [
       "array([[ 12, 345,  23,   1],\n",
       "       [ 45,  67,  34,  23],\n",
       "       [ 56,  34,  23,  45]])"
      ]
     },
     "execution_count": 26,
     "metadata": {},
     "output_type": "execute_result"
    }
   ],
   "source": [
    "x"
   ]
  },
  {
   "cell_type": "code",
   "execution_count": 27,
   "id": "624f000b-9460-4fc9-a749-965fb43127d5",
   "metadata": {},
   "outputs": [
    {
     "data": {
      "text/plain": [
       "2"
      ]
     },
     "execution_count": 27,
     "metadata": {},
     "output_type": "execute_result"
    }
   ],
   "source": [
    "x.ndim"
   ]
  },
  {
   "cell_type": "code",
   "execution_count": null,
   "id": "77d7e227-f484-4492-ae45-a905c093af1e",
   "metadata": {},
   "outputs": [],
   "source": []
  },
  {
   "cell_type": "code",
   "execution_count": 35,
   "id": "8d29cf29-8465-4477-bdc4-f213c513496a",
   "metadata": {},
   "outputs": [],
   "source": [
    "zx = np.array([[[12, 45, 3, 10], [45, 34, 56, 3]], [[45, 34, 23, 12], [45, 23, 12, 100]]])"
   ]
  },
  {
   "cell_type": "code",
   "execution_count": 36,
   "id": "e993be02-e6c8-4c4f-b9fa-9772a02c3b72",
   "metadata": {},
   "outputs": [
    {
     "data": {
      "text/plain": [
       "array([[[ 12,  45,   3,  10],\n",
       "        [ 45,  34,  56,   3]],\n",
       "\n",
       "       [[ 45,  34,  23,  12],\n",
       "        [ 45,  23,  12, 100]]])"
      ]
     },
     "execution_count": 36,
     "metadata": {},
     "output_type": "execute_result"
    }
   ],
   "source": [
    "zx"
   ]
  },
  {
   "cell_type": "code",
   "execution_count": 37,
   "id": "d10657ef-9492-4bc8-ab64-8c44ac844c25",
   "metadata": {},
   "outputs": [
    {
     "data": {
      "text/plain": [
       "3"
      ]
     },
     "execution_count": 37,
     "metadata": {},
     "output_type": "execute_result"
    }
   ],
   "source": [
    "zx.ndim"
   ]
  },
  {
   "cell_type": "code",
   "execution_count": 38,
   "id": "83ab625c-e1d7-49d8-afa4-5a594b927999",
   "metadata": {},
   "outputs": [],
   "source": [
    "# ndarrays : "
   ]
  },
  {
   "cell_type": "code",
   "execution_count": 44,
   "id": "4e82f8be-e6b5-4cea-9581-6e151ab41471",
   "metadata": {},
   "outputs": [],
   "source": [
    "x = np.array([[12, 5, 10], [34, 5, 12]])"
   ]
  },
  {
   "cell_type": "code",
   "execution_count": 45,
   "id": "12739208-df9a-40b6-8dbf-17ca8f867c9b",
   "metadata": {},
   "outputs": [
    {
     "data": {
      "text/plain": [
       "2"
      ]
     },
     "execution_count": 45,
     "metadata": {},
     "output_type": "execute_result"
    }
   ],
   "source": [
    "x.ndim"
   ]
  },
  {
   "cell_type": "code",
   "execution_count": null,
   "id": "2cb961be-566d-4b93-9d4d-a1a61200b79d",
   "metadata": {},
   "outputs": [],
   "source": []
  },
  {
   "cell_type": "markdown",
   "id": "93b6fb6d-59bb-42c9-b263-e9cb3fd95120",
   "metadata": {},
   "source": [
    "### shape : return # number of rows and columns in an ndarray."
   ]
  },
  {
   "cell_type": "code",
   "execution_count": 46,
   "id": "19ec4d46-9754-463d-abf9-0d3358faec6e",
   "metadata": {},
   "outputs": [],
   "source": [
    "x = np.array([[12, 5, 10], [34, 5, 12]])"
   ]
  },
  {
   "cell_type": "code",
   "execution_count": 47,
   "id": "ff39e2a2-ed46-4b80-9fac-8918213d96cd",
   "metadata": {},
   "outputs": [
    {
     "data": {
      "text/plain": [
       "array([[12,  5, 10],\n",
       "       [34,  5, 12]])"
      ]
     },
     "execution_count": 47,
     "metadata": {},
     "output_type": "execute_result"
    }
   ],
   "source": [
    "x"
   ]
  },
  {
   "cell_type": "code",
   "execution_count": 48,
   "id": "85f91e1e-e77a-4214-981f-573a2cbb178b",
   "metadata": {},
   "outputs": [
    {
     "data": {
      "text/plain": [
       "2"
      ]
     },
     "execution_count": 48,
     "metadata": {},
     "output_type": "execute_result"
    }
   ],
   "source": [
    "x.ndim"
   ]
  },
  {
   "cell_type": "code",
   "execution_count": 49,
   "id": "213ff7b1-849a-4526-b635-51f22a657888",
   "metadata": {},
   "outputs": [
    {
     "data": {
      "text/plain": [
       "(2, 3)"
      ]
     },
     "execution_count": 49,
     "metadata": {},
     "output_type": "execute_result"
    }
   ],
   "source": [
    "x.shape"
   ]
  },
  {
   "cell_type": "code",
   "execution_count": 50,
   "id": "e54cb50d-377a-404f-b352-6e4a6c6b27d4",
   "metadata": {},
   "outputs": [],
   "source": [
    "xyz = np.array([12, 10, 43, 23, 100])"
   ]
  },
  {
   "cell_type": "code",
   "execution_count": 53,
   "id": "57632c19-9524-4c12-ba40-053e1659e48f",
   "metadata": {},
   "outputs": [
    {
     "data": {
      "text/plain": [
       "(5,)"
      ]
     },
     "execution_count": 53,
     "metadata": {},
     "output_type": "execute_result"
    }
   ],
   "source": [
    "xyz.shape"
   ]
  },
  {
   "cell_type": "code",
   "execution_count": null,
   "id": "10efde42-1182-4948-8a9a-82e8071d9f7f",
   "metadata": {},
   "outputs": [],
   "source": []
  },
  {
   "cell_type": "code",
   "execution_count": 54,
   "id": "a5d0fc32-f11c-4626-9392-e398bce7321e",
   "metadata": {},
   "outputs": [],
   "source": [
    "zx = np.array([[[12, 45, 3, 10], [45, 34, 56, 3]], [[45, 34, 23, 12], [45, 23, 12, 100]]])"
   ]
  },
  {
   "cell_type": "code",
   "execution_count": 55,
   "id": "c4c39f3c-fac5-4c9e-9d64-84c97646edbf",
   "metadata": {},
   "outputs": [
    {
     "data": {
      "text/plain": [
       "array([[[ 12,  45,   3,  10],\n",
       "        [ 45,  34,  56,   3]],\n",
       "\n",
       "       [[ 45,  34,  23,  12],\n",
       "        [ 45,  23,  12, 100]]])"
      ]
     },
     "execution_count": 55,
     "metadata": {},
     "output_type": "execute_result"
    }
   ],
   "source": [
    "zx"
   ]
  },
  {
   "cell_type": "code",
   "execution_count": 56,
   "id": "e08fb5f3-217e-4806-8cbe-112086b8bf04",
   "metadata": {},
   "outputs": [
    {
     "data": {
      "text/plain": [
       "(2, 2, 4)"
      ]
     },
     "execution_count": 56,
     "metadata": {},
     "output_type": "execute_result"
    }
   ],
   "source": [
    "zx.shape"
   ]
  },
  {
   "cell_type": "code",
   "execution_count": 57,
   "id": "f4822a0d-bff9-4d5f-ade0-03e5942c28b9",
   "metadata": {},
   "outputs": [],
   "source": [
    "d = np.array([[[[[12]]]]])"
   ]
  },
  {
   "cell_type": "code",
   "execution_count": 58,
   "id": "083ffb1e-4f47-44cf-a390-d0de38a2b034",
   "metadata": {},
   "outputs": [
    {
     "data": {
      "text/plain": [
       "array([[[[[12]]]]])"
      ]
     },
     "execution_count": 58,
     "metadata": {},
     "output_type": "execute_result"
    }
   ],
   "source": [
    "d"
   ]
  },
  {
   "cell_type": "code",
   "execution_count": 59,
   "id": "f9764872-6a2e-4ddb-80db-09779a325263",
   "metadata": {},
   "outputs": [
    {
     "data": {
      "text/plain": [
       "5"
      ]
     },
     "execution_count": 59,
     "metadata": {},
     "output_type": "execute_result"
    }
   ],
   "source": [
    "d.ndim"
   ]
  },
  {
   "cell_type": "code",
   "execution_count": null,
   "id": "ce12f85c-6faa-483f-913e-090d8acb9634",
   "metadata": {},
   "outputs": [],
   "source": [
    "# list:\n",
    "\n",
    "# numpy"
   ]
  }
 ],
 "metadata": {
  "kernelspec": {
   "display_name": "Python 3 (ipykernel)",
   "language": "python",
   "name": "python3"
  },
  "language_info": {
   "codemirror_mode": {
    "name": "ipython",
    "version": 3
   },
   "file_extension": ".py",
   "mimetype": "text/x-python",
   "name": "python",
   "nbconvert_exporter": "python",
   "pygments_lexer": "ipython3",
   "version": "3.12.0"
  }
 },
 "nbformat": 4,
 "nbformat_minor": 5
}
