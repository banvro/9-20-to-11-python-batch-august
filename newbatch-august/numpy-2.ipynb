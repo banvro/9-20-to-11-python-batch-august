{
 "cells": [
  {
   "cell_type": "code",
   "execution_count": 1,
   "id": "61a1179a-9ac5-4ba4-a89d-8a22ce70749a",
   "metadata": {},
   "outputs": [],
   "source": [
    "import numpy as np"
   ]
  },
  {
   "cell_type": "code",
   "execution_count": 8,
   "id": "0dbc709b-f889-43f9-9cb6-1c40c5dd1907",
   "metadata": {},
   "outputs": [],
   "source": [
    "arr = np.array([[[12, 23, 10, 45], [56, 34, 23, 64]], [[56, 34, 23, 6], [67, 34, 23, 12]]])"
   ]
  },
  {
   "cell_type": "code",
   "execution_count": 9,
   "id": "e9b05db3-4914-4cd0-bccb-5a96337b5626",
   "metadata": {},
   "outputs": [
    {
     "data": {
      "text/plain": [
       "array([[[12, 23, 10, 45],\n",
       "        [56, 34, 23, 64]],\n",
       "\n",
       "       [[56, 34, 23,  6],\n",
       "        [67, 34, 23, 12]]])"
      ]
     },
     "execution_count": 9,
     "metadata": {},
     "output_type": "execute_result"
    }
   ],
   "source": [
    "arr"
   ]
  },
  {
   "cell_type": "code",
   "execution_count": 10,
   "id": "ccf644d7-e8b4-43b5-9899-0aac46f0436d",
   "metadata": {},
   "outputs": [
    {
     "data": {
      "text/plain": [
       "3"
      ]
     },
     "execution_count": 10,
     "metadata": {},
     "output_type": "execute_result"
    }
   ],
   "source": [
    "arr.ndim"
   ]
  },
  {
   "cell_type": "code",
   "execution_count": 13,
   "id": "386dc7cf-70ce-4380-a2fd-0556da1d1d80",
   "metadata": {},
   "outputs": [
    {
     "data": {
      "text/plain": [
       "array([34, 23])"
      ]
     },
     "execution_count": 13,
     "metadata": {},
     "output_type": "execute_result"
    }
   ],
   "source": [
    "arr[1][1][1 : 3]"
   ]
  },
  {
   "cell_type": "code",
   "execution_count": null,
   "id": "f547e0d7-d106-45ce-98ab-f44c260e0417",
   "metadata": {},
   "outputs": [],
   "source": []
  },
  {
   "cell_type": "code",
   "execution_count": null,
   "id": "4ea04a3b-838f-4440-a657-722eb7c85dec",
   "metadata": {},
   "outputs": [],
   "source": [
    "joning two ndarray"
   ]
  },
  {
   "cell_type": "code",
   "execution_count": null,
   "id": "c47cabb1-3081-4ef4-9196-9e87087bfffd",
   "metadata": {},
   "outputs": [],
   "source": []
  },
  {
   "cell_type": "code",
   "execution_count": 14,
   "id": "82ecfa02-5f61-45ba-b4b3-b4de7ff9a091",
   "metadata": {},
   "outputs": [],
   "source": [
    "arr1 = np.array([12, 45, 3, 100])"
   ]
  },
  {
   "cell_type": "code",
   "execution_count": 15,
   "id": "74840580-54a2-437a-9691-756dba048a49",
   "metadata": {},
   "outputs": [],
   "source": [
    "arr2 = np.array([45, 6, 3, 2])"
   ]
  },
  {
   "cell_type": "code",
   "execution_count": 16,
   "id": "defaa534-783a-4c39-af69-0c3bc49fed62",
   "metadata": {},
   "outputs": [],
   "source": [
    "zx = arr1 + arr2"
   ]
  },
  {
   "cell_type": "code",
   "execution_count": 17,
   "id": "538de963-75ec-4653-9e2b-3570ed94b4a2",
   "metadata": {},
   "outputs": [
    {
     "data": {
      "text/plain": [
       "array([ 57,  51,   6, 102])"
      ]
     },
     "execution_count": 17,
     "metadata": {},
     "output_type": "execute_result"
    }
   ],
   "source": [
    "zx"
   ]
  },
  {
   "cell_type": "code",
   "execution_count": null,
   "id": "fbd0139f-aae2-458d-938a-1f21e022e8df",
   "metadata": {},
   "outputs": [],
   "source": [
    "conctaenate"
   ]
  },
  {
   "cell_type": "code",
   "execution_count": 18,
   "id": "32ed0839-213a-4d84-b2a0-3dcc0ed1a885",
   "metadata": {},
   "outputs": [],
   "source": [
    "import numpy as np"
   ]
  },
  {
   "cell_type": "code",
   "execution_count": 20,
   "id": "c38064bd-aa93-40a0-8b74-88b73202bc5e",
   "metadata": {},
   "outputs": [],
   "source": [
    "qw = np.concatenate((arr1, arr2))"
   ]
  },
  {
   "cell_type": "code",
   "execution_count": 21,
   "id": "8fbf2fab-4a2c-409b-9cee-8eea96716939",
   "metadata": {},
   "outputs": [
    {
     "data": {
      "text/plain": [
       "array([ 12,  45,   3, 100,  45,   6,   3,   2])"
      ]
     },
     "execution_count": 21,
     "metadata": {},
     "output_type": "execute_result"
    }
   ],
   "source": [
    "qw"
   ]
  },
  {
   "cell_type": "code",
   "execution_count": null,
   "id": "38ab3021-b3d3-4dc2-afac-30967d1cfabe",
   "metadata": {},
   "outputs": [],
   "source": []
  },
  {
   "cell_type": "code",
   "execution_count": 30,
   "id": "e1434dc1-0bcd-445a-95ba-e28aa0e4eb2a",
   "metadata": {},
   "outputs": [],
   "source": [
    "arr1 = np.array([12, 45, 3, 100])\n",
    "arr2 = np.array([45, 6, 3, 2])\n",
    "arr3 = np.array([45, 34, 21, 45])"
   ]
  },
  {
   "cell_type": "code",
   "execution_count": null,
   "id": "ff965be6-4415-42a8-84b0-17dd4569c9a8",
   "metadata": {},
   "outputs": [],
   "source": []
  },
  {
   "cell_type": "code",
   "execution_count": 35,
   "id": "7f22a4e4-c02e-4c6b-9ff6-749f8c215677",
   "metadata": {},
   "outputs": [],
   "source": [
    "we = np.stack((arr1, arr2, arr3), axis = 0, )"
   ]
  },
  {
   "cell_type": "code",
   "execution_count": 36,
   "id": "4c37808a-fbca-4399-9290-cd0d33907239",
   "metadata": {},
   "outputs": [
    {
     "data": {
      "text/plain": [
       "array([[ 12,  45,   3, 100],\n",
       "       [ 45,   6,   3,   2],\n",
       "       [ 45,  34,  21,  45]])"
      ]
     },
     "execution_count": 36,
     "metadata": {},
     "output_type": "execute_result"
    }
   ],
   "source": [
    "we"
   ]
  },
  {
   "cell_type": "code",
   "execution_count": null,
   "id": "bc274641-0865-4fa7-b5ea-404b450eb27d",
   "metadata": {},
   "outputs": [],
   "source": []
  },
  {
   "cell_type": "code",
   "execution_count": 37,
   "id": "c7420d56-77f6-48d9-8360-4cac03b35769",
   "metadata": {},
   "outputs": [],
   "source": [
    "zx = np.array([45, 23, 45, 23, 12, 67, 34, 2])"
   ]
  },
  {
   "cell_type": "code",
   "execution_count": null,
   "id": "a9e4967e-6463-4f5e-abe9-540aa96f131c",
   "metadata": {},
   "outputs": [],
   "source": []
  },
  {
   "cell_type": "code",
   "execution_count": 38,
   "id": "ef2da9ef-562c-4fad-ab51-54eb49c08483",
   "metadata": {},
   "outputs": [
    {
     "data": {
      "text/plain": [
       "(array([5], dtype=int64),)"
      ]
     },
     "execution_count": 38,
     "metadata": {},
     "output_type": "execute_result"
    }
   ],
   "source": [
    "# where\n",
    "\n",
    "np.where(zx == 67)"
   ]
  },
  {
   "cell_type": "code",
   "execution_count": 40,
   "id": "cb3cfc60-6a57-49e9-bf2b-d6316661e268",
   "metadata": {},
   "outputs": [],
   "source": [
    "zx = np.array([45, 23, 45, 23, 12, 67, 34, 2, 67, 23, 23, 12, 67])"
   ]
  },
  {
   "cell_type": "code",
   "execution_count": 41,
   "id": "232530a7-7330-4ce0-91b4-a2dbc5e10661",
   "metadata": {},
   "outputs": [
    {
     "data": {
      "text/plain": [
       "(array([ 5,  8, 12], dtype=int64),)"
      ]
     },
     "execution_count": 41,
     "metadata": {},
     "output_type": "execute_result"
    }
   ],
   "source": [
    "np.where(zx == 67)"
   ]
  },
  {
   "cell_type": "code",
   "execution_count": null,
   "id": "525f40b6-8f74-4341-99ac-7f19c958efa3",
   "metadata": {},
   "outputs": [],
   "source": []
  },
  {
   "cell_type": "code",
   "execution_count": 42,
   "id": "0a1f0eda-ba19-43fe-9dd9-dacabce4208d",
   "metadata": {},
   "outputs": [],
   "source": [
    "zx = np.array([45, 23, 45, 23, 12, 67, 34, 2, 67, 23, 23, 12, 67])"
   ]
  },
  {
   "cell_type": "code",
   "execution_count": 46,
   "id": "57cce67b-61ba-4f48-9326-7cfb412066be",
   "metadata": {},
   "outputs": [
    {
     "data": {
      "text/plain": [
       "[array([45, 23, 45, 23]),\n",
       " array([12, 67, 34]),\n",
       " array([ 2, 67, 23]),\n",
       " array([23, 12, 67])]"
      ]
     },
     "execution_count": 46,
     "metadata": {},
     "output_type": "execute_result"
    }
   ],
   "source": [
    "np.array_split(zx, 4)"
   ]
  },
  {
   "cell_type": "code",
   "execution_count": 47,
   "id": "a638ecfa-502c-4a0d-8fd3-185d4d12651f",
   "metadata": {},
   "outputs": [],
   "source": [
    "# reshape()"
   ]
  },
  {
   "cell_type": "code",
   "execution_count": null,
   "id": "eb14f483-2898-405b-82a2-b1e02ef90fed",
   "metadata": {},
   "outputs": [],
   "source": []
  },
  {
   "cell_type": "code",
   "execution_count": 48,
   "id": "12053057-1a66-4e83-ac11-b9f99cbe81ee",
   "metadata": {},
   "outputs": [],
   "source": [
    "zx = np.array([45, 23, 45, 23, 12, 67, 34, 2, 67, 23, 23, 12, 67])"
   ]
  },
  {
   "cell_type": "code",
   "execution_count": 49,
   "id": "0942ccb4-e7d4-468c-b8e3-5a0c6d4920e3",
   "metadata": {},
   "outputs": [
    {
     "data": {
      "text/plain": [
       "array([ 2, 12, 12, 23, 23, 23, 23, 34, 45, 45, 67, 67, 67])"
      ]
     },
     "execution_count": 49,
     "metadata": {},
     "output_type": "execute_result"
    }
   ],
   "source": [
    "np.sort(zx)"
   ]
  },
  {
   "cell_type": "code",
   "execution_count": null,
   "id": "2b58010f-96d2-4f38-89a3-b6cc2343ecee",
   "metadata": {},
   "outputs": [],
   "source": [
    "np.append"
   ]
  },
  {
   "cell_type": "code",
   "execution_count": 50,
   "id": "f4743071-8c01-4b52-add0-742cfde7d279",
   "metadata": {},
   "outputs": [
    {
     "name": "stdout",
     "output_type": "stream",
     "text": [
      "Help on _ArrayFunctionDispatcher in module numpy:\n",
      "\n",
      "append(arr, values, axis=None)\n",
      "    Append values to the end of an array.\n",
      "\n",
      "    Parameters\n",
      "    ----------\n",
      "    arr : array_like\n",
      "        Values are appended to a copy of this array.\n",
      "    values : array_like\n",
      "        These values are appended to a copy of `arr`.  It must be of the\n",
      "        correct shape (the same shape as `arr`, excluding `axis`).  If\n",
      "        `axis` is not specified, `values` can be any shape and will be\n",
      "        flattened before use.\n",
      "    axis : int, optional\n",
      "        The axis along which `values` are appended.  If `axis` is not\n",
      "        given, both `arr` and `values` are flattened before use.\n",
      "\n",
      "    Returns\n",
      "    -------\n",
      "    append : ndarray\n",
      "        A copy of `arr` with `values` appended to `axis`.  Note that\n",
      "        `append` does not occur in-place: a new array is allocated and\n",
      "        filled.  If `axis` is None, `out` is a flattened array.\n",
      "\n",
      "    See Also\n",
      "    --------\n",
      "    insert : Insert elements into an array.\n",
      "    delete : Delete elements from an array.\n",
      "\n",
      "    Examples\n",
      "    --------\n",
      "    >>> np.append([1, 2, 3], [[4, 5, 6], [7, 8, 9]])\n",
      "    array([1, 2, 3, ..., 7, 8, 9])\n",
      "\n",
      "    When `axis` is specified, `values` must have the correct shape.\n",
      "\n",
      "    >>> np.append([[1, 2, 3], [4, 5, 6]], [[7, 8, 9]], axis=0)\n",
      "    array([[1, 2, 3],\n",
      "           [4, 5, 6],\n",
      "           [7, 8, 9]])\n",
      "    >>> np.append([[1, 2, 3], [4, 5, 6]], [7, 8, 9], axis=0)\n",
      "    Traceback (most recent call last):\n",
      "        ...\n",
      "    ValueError: all the input arrays must have same number of dimensions, but\n",
      "    the array at index 0 has 2 dimension(s) and the array at index 1 has 1\n",
      "    dimension(s)\n",
      "\n"
     ]
    }
   ],
   "source": [
    "help(np.append)"
   ]
  },
  {
   "cell_type": "code",
   "execution_count": null,
   "id": "dc6176d4-5b39-4a53-9c6e-273cb433f1e9",
   "metadata": {},
   "outputs": [],
   "source": []
  }
 ],
 "metadata": {
  "kernelspec": {
   "display_name": "Python 3 (ipykernel)",
   "language": "python",
   "name": "python3"
  },
  "language_info": {
   "codemirror_mode": {
    "name": "ipython",
    "version": 3
   },
   "file_extension": ".py",
   "mimetype": "text/x-python",
   "name": "python",
   "nbconvert_exporter": "python",
   "pygments_lexer": "ipython3",
   "version": "3.12.0"
  }
 },
 "nbformat": 4,
 "nbformat_minor": 5
}
