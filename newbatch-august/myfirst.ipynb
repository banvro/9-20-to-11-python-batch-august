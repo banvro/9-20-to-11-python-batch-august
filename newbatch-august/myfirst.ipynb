{
 "cells": [
  {
   "cell_type": "code",
   "execution_count": 1,
   "id": "b2b1f2a3-ce15-421a-8684-29bcd9ea9cac",
   "metadata": {},
   "outputs": [
    {
     "name": "stdout",
     "output_type": "stream",
     "text": [
      "hello wolrd\n"
     ]
    }
   ],
   "source": [
    "print(\"hello wolrd\")"
   ]
  },
  {
   "cell_type": "code",
   "execution_count": 5,
   "id": "d9dbfa67-49bd-4abf-97b0-4a0097d57515",
   "metadata": {},
   "outputs": [],
   "source": [
    "a = 10"
   ]
  },
  {
   "cell_type": "code",
   "execution_count": null,
   "id": "ebc88731-a30c-4940-934c-da6bf2f725e6",
   "metadata": {},
   "outputs": [],
   "source": []
  },
  {
   "cell_type": "code",
   "execution_count": 6,
   "id": "cb451d9b-2cc6-468f-a8f7-ad9a92ec232c",
   "metadata": {},
   "outputs": [],
   "source": [
    "# Numpy : numarical python."
   ]
  },
  {
   "cell_type": "code",
   "execution_count": 7,
   "id": "93b0dac3-e3ba-4e09-969c-b4126d2825bb",
   "metadata": {},
   "outputs": [],
   "source": [
    "# array\n",
    "\n",
    "# list "
   ]
  },
  {
   "cell_type": "code",
   "execution_count": 8,
   "id": "86668e24-05d0-40ee-88db-05f05516f4c6",
   "metadata": {},
   "outputs": [],
   "source": [
    "# lst = [12, 10, \"hlo\", 10.8, True, 100]"
   ]
  },
  {
   "cell_type": "code",
   "execution_count": 10,
   "id": "4fc2f2df-f9d7-4351-a6e3-df2381613e02",
   "metadata": {},
   "outputs": [],
   "source": [
    "# array : "
   ]
  },
  {
   "cell_type": "code",
   "execution_count": 11,
   "id": "914db496-0e91-4064-aa65-d627efb53559",
   "metadata": {},
   "outputs": [],
   "source": [
    "# 2005 -> trevius olephint"
   ]
  },
  {
   "cell_type": "code",
   "execution_count": null,
   "id": "d2436d84-03be-452b-a3f5-e78962fe8771",
   "metadata": {},
   "outputs": [],
   "source": []
  },
  {
   "cell_type": "code",
   "execution_count": 12,
   "id": "3c662c3d-136f-4874-a208-6b7d4b060dd1",
   "metadata": {
    "scrolled": true
   },
   "outputs": [
    {
     "name": "stdout",
     "output_type": "stream",
     "text": [
      "Requirement already satisfied: numpy in c:\\users\\17nru\\appdata\\local\\programs\\python\\python312\\lib\\site-packages (1.26.2)\n"
     ]
    },
    {
     "name": "stderr",
     "output_type": "stream",
     "text": [
      "DEPRECATION: textract 1.6.5 has a non-standard dependency specifier extract-msg<=0.29.*. pip 24.0 will enforce this behaviour change. A possible replacement is to upgrade to a newer version of textract or contact the author to suggest that they release a version with a conforming dependency specifiers. Discussion can be found at https://github.com/pypa/pip/issues/12063\n"
     ]
    }
   ],
   "source": [
    "!pip install numpy"
   ]
  },
  {
   "cell_type": "code",
   "execution_count": null,
   "id": "258e0b3f-e79a-4a55-b564-6ab8dcb20583",
   "metadata": {},
   "outputs": [],
   "source": [
    "# objects:"
   ]
  },
  {
   "cell_type": "code",
   "execution_count": null,
   "id": "c6ba86da-e44c-4923-b4a7-ff41b90fb964",
   "metadata": {},
   "outputs": [],
   "source": [
    "ndarray : when we create an object with the help of array method. we call that object is ndarray."
   ]
  },
  {
   "cell_type": "code",
   "execution_count": null,
   "id": "d9b967af-895f-482d-a72c-209410946f5f",
   "metadata": {},
   "outputs": [],
   "source": []
  },
  {
   "cell_type": "code",
   "execution_count": 14,
   "id": "0d259f51-f08f-4cf0-a65f-b8baefaa13c6",
   "metadata": {},
   "outputs": [],
   "source": [
    "import numpy as xyz"
   ]
  },
  {
   "cell_type": "code",
   "execution_count": 15,
   "id": "a343643a-ee04-49f1-87d2-b2822fb78f7e",
   "metadata": {},
   "outputs": [],
   "source": [
    "arr = xyz.array(20)"
   ]
  },
  {
   "cell_type": "raw",
   "id": "b3f10604-92ef-4e7a-8100-0cf8f869b98c",
   "metadata": {},
   "source": []
  },
  {
   "cell_type": "code",
   "execution_count": 16,
   "id": "48c42077-3c0d-4e03-8483-09cf695134b0",
   "metadata": {},
   "outputs": [
    {
     "data": {
      "text/plain": [
       "array(20)"
      ]
     },
     "execution_count": 16,
     "metadata": {},
     "output_type": "execute_result"
    }
   ],
   "source": [
    "arr"
   ]
  },
  {
   "cell_type": "code",
   "execution_count": 17,
   "id": "3fbc80e7-6e0c-4a7a-b687-115365202780",
   "metadata": {},
   "outputs": [
    {
     "data": {
      "text/plain": [
       "numpy.ndarray"
      ]
     },
     "execution_count": 17,
     "metadata": {},
     "output_type": "execute_result"
    }
   ],
   "source": [
    "type(arr)"
   ]
  },
  {
   "cell_type": "code",
   "execution_count": null,
   "id": "cc8990fb-02c5-4a2e-8137-ad8690bdc326",
   "metadata": {},
   "outputs": [],
   "source": []
  },
  {
   "cell_type": "code",
   "execution_count": 20,
   "id": "9bd977ea-24e9-4f07-872d-929e644a2b6e",
   "metadata": {},
   "outputs": [],
   "source": [
    "# to check ndarray demessions:\n",
    "\n",
    "# attribute ==> ndim"
   ]
  },
  {
   "cell_type": "markdown",
   "id": "69c5ebad-04aa-44f6-b6c2-1ca6e198e627",
   "metadata": {},
   "source": [
    "# ndim attribue"
   ]
  },
  {
   "cell_type": "code",
   "execution_count": 21,
   "id": "0a282c03-73ad-4acc-b562-8df9e3f864a1",
   "metadata": {},
   "outputs": [],
   "source": [
    "import numpy as np"
   ]
  },
  {
   "cell_type": "code",
   "execution_count": 22,
   "id": "0837ef1c-ac27-4e7c-a04b-a250363c93a7",
   "metadata": {},
   "outputs": [],
   "source": [
    "arrx = np.array(100)"
   ]
  },
  {
   "cell_type": "code",
   "execution_count": 23,
   "id": "de2dd4ab-5e6d-4296-90ad-051f28756b90",
   "metadata": {},
   "outputs": [
    {
     "data": {
      "text/plain": [
       "0"
      ]
     },
     "execution_count": 23,
     "metadata": {},
     "output_type": "execute_result"
    }
   ],
   "source": [
    "arrx.ndim"
   ]
  },
  {
   "cell_type": "code",
   "execution_count": 25,
   "id": "7f138eac-94a0-4a8f-aea7-3d1e031cc89f",
   "metadata": {},
   "outputs": [],
   "source": [
    "arr1 = np.array([12, 10, 45, 10, 78])"
   ]
  },
  {
   "cell_type": "code",
   "execution_count": 26,
   "id": "8fa0176a-5356-4a61-befa-2aa2f65cddaa",
   "metadata": {},
   "outputs": [
    {
     "data": {
      "text/plain": [
       "array([12, 10, 45, 10, 78])"
      ]
     },
     "execution_count": 26,
     "metadata": {},
     "output_type": "execute_result"
    }
   ],
   "source": [
    "arr1"
   ]
  },
  {
   "cell_type": "code",
   "execution_count": 27,
   "id": "85734951-b39e-4866-9148-a7569db138a7",
   "metadata": {},
   "outputs": [
    {
     "data": {
      "text/plain": [
       "numpy.ndarray"
      ]
     },
     "execution_count": 27,
     "metadata": {},
     "output_type": "execute_result"
    }
   ],
   "source": [
    "type(arr1)"
   ]
  },
  {
   "cell_type": "code",
   "execution_count": 28,
   "id": "322d3fc2-8780-4783-9097-f57b948b8c98",
   "metadata": {},
   "outputs": [
    {
     "data": {
      "text/plain": [
       "1"
      ]
     },
     "execution_count": 28,
     "metadata": {},
     "output_type": "execute_result"
    }
   ],
   "source": [
    "arr1.ndim"
   ]
  },
  {
   "cell_type": "code",
   "execution_count": 35,
   "id": "c52226a9-6c63-4cad-89f4-ab1b6c97f02c",
   "metadata": {},
   "outputs": [],
   "source": [
    "arr3 = np.array([[12, 34, 56, 34, 100], [34, 56, 45, 67, 45]])"
   ]
  },
  {
   "cell_type": "code",
   "execution_count": 32,
   "id": "93832910-5b2f-4915-8d15-e20799ccdd18",
   "metadata": {},
   "outputs": [
    {
     "data": {
      "text/plain": [
       "2"
      ]
     },
     "execution_count": 32,
     "metadata": {},
     "output_type": "execute_result"
    }
   ],
   "source": [
    "arr3.ndim"
   ]
  },
  {
   "cell_type": "code",
   "execution_count": 33,
   "id": "48137fed-659e-4747-98c5-01728dda8f9d",
   "metadata": {},
   "outputs": [
    {
     "data": {
      "text/plain": [
       "array([[ 12,  34,  56,  34, 100],\n",
       "       [ 34,  56,  45,  67,  45]])"
      ]
     },
     "execution_count": 33,
     "metadata": {},
     "output_type": "execute_result"
    }
   ],
   "source": [
    "arr3"
   ]
  },
  {
   "cell_type": "code",
   "execution_count": null,
   "id": "c666d938-65d3-4959-936b-db18b3bf06ea",
   "metadata": {},
   "outputs": [],
   "source": []
  },
  {
   "cell_type": "code",
   "execution_count": 40,
   "id": "d2e71bb0-18de-4052-bdf9-93dedda183bb",
   "metadata": {},
   "outputs": [],
   "source": [
    "arr4 = np.array([[[12, 45, 23], [45, 34, 56], [45, 34, 56]], [[23, 56, 34], [56, 56, 34], [90, 56, 34]]])"
   ]
  },
  {
   "cell_type": "code",
   "execution_count": 41,
   "id": "0e893839-99a1-4651-a33c-175758d17b9d",
   "metadata": {},
   "outputs": [
    {
     "data": {
      "text/plain": [
       "array([[[12, 45, 23],\n",
       "        [45, 34, 56],\n",
       "        [45, 34, 56]],\n",
       "\n",
       "       [[23, 56, 34],\n",
       "        [56, 56, 34],\n",
       "        [90, 56, 34]]])"
      ]
     },
     "execution_count": 41,
     "metadata": {},
     "output_type": "execute_result"
    }
   ],
   "source": [
    "arr4"
   ]
  },
  {
   "cell_type": "code",
   "execution_count": 42,
   "id": "fdaefbfc-a977-4aed-8180-03b1f029bd26",
   "metadata": {},
   "outputs": [
    {
     "data": {
      "text/plain": [
       "3"
      ]
     },
     "execution_count": 42,
     "metadata": {},
     "output_type": "execute_result"
    }
   ],
   "source": [
    "arr4.ndim"
   ]
  },
  {
   "cell_type": "code",
   "execution_count": null,
   "id": "316eb9f2-0176-4123-bf7d-1ae1585b0706",
   "metadata": {},
   "outputs": [],
   "source": []
  },
  {
   "cell_type": "code",
   "execution_count": 44,
   "id": "5e08b946-b161-46fd-9d4c-9952126c66dd",
   "metadata": {},
   "outputs": [],
   "source": [
    "# shape"
   ]
  },
  {
   "cell_type": "code",
   "execution_count": 45,
   "id": "e54854a4-e8a4-4da8-9c5c-4c5a715818c2",
   "metadata": {},
   "outputs": [],
   "source": [
    "arr1 = np.array([12, 10, 45, 10, 78])"
   ]
  },
  {
   "cell_type": "code",
   "execution_count": 46,
   "id": "9b580d7d-6dfa-4be1-945c-cd27a433c5f6",
   "metadata": {},
   "outputs": [
    {
     "data": {
      "text/plain": [
       "1"
      ]
     },
     "execution_count": 46,
     "metadata": {},
     "output_type": "execute_result"
    }
   ],
   "source": [
    "arr1.ndim"
   ]
  },
  {
   "cell_type": "code",
   "execution_count": 47,
   "id": "449bac99-5a28-4a36-8981-c9c3cb5b7be9",
   "metadata": {},
   "outputs": [
    {
     "data": {
      "text/plain": [
       "(5,)"
      ]
     },
     "execution_count": 47,
     "metadata": {},
     "output_type": "execute_result"
    }
   ],
   "source": [
    "arr1.shape"
   ]
  },
  {
   "cell_type": "code",
   "execution_count": 48,
   "id": "830b44f4-cd2e-46af-a408-fff8eeafe1be",
   "metadata": {},
   "outputs": [],
   "source": [
    "arr3 = np.array([[12, 34, 56, 34, 100], [34, 56, 45, 67, 45]])"
   ]
  },
  {
   "cell_type": "code",
   "execution_count": 49,
   "id": "e122315e-6730-4df8-8d67-2e896520442e",
   "metadata": {},
   "outputs": [
    {
     "data": {
      "text/plain": [
       "2"
      ]
     },
     "execution_count": 49,
     "metadata": {},
     "output_type": "execute_result"
    }
   ],
   "source": [
    "arr3.ndim"
   ]
  },
  {
   "cell_type": "code",
   "execution_count": 50,
   "id": "c8082096-61f9-4a1b-8698-7d644f9a5809",
   "metadata": {},
   "outputs": [
    {
     "data": {
      "text/plain": [
       "(2, 5)"
      ]
     },
     "execution_count": 50,
     "metadata": {},
     "output_type": "execute_result"
    }
   ],
   "source": [
    "arr3.shape"
   ]
  },
  {
   "cell_type": "code",
   "execution_count": 51,
   "id": "1c13843c-2f56-48fb-9f16-f5054cad8150",
   "metadata": {},
   "outputs": [
    {
     "data": {
      "text/plain": [
       "array([[ 12,  34,  56,  34, 100],\n",
       "       [ 34,  56,  45,  67,  45]])"
      ]
     },
     "execution_count": 51,
     "metadata": {},
     "output_type": "execute_result"
    }
   ],
   "source": [
    "arr3"
   ]
  },
  {
   "cell_type": "code",
   "execution_count": null,
   "id": "99235d56-cef9-4cf2-a72b-35a4295bf0c2",
   "metadata": {},
   "outputs": [],
   "source": []
  },
  {
   "cell_type": "code",
   "execution_count": 56,
   "id": "f741e963-e520-402b-97a0-9b6169d331a9",
   "metadata": {},
   "outputs": [],
   "source": [
    "# arr4 = np.array([[[12, 45, 23], [45, 34, 56], [45, 34, 56]], [[23, 56, 34], [56, 56, 34], [90, 56, 34]]])\n",
    "\n",
    "arr4 = np.array([[[12, 45, 23], [45, 34, 56]], [[23, 56, 34], [90, 56, 34]]])"
   ]
  },
  {
   "cell_type": "code",
   "execution_count": 57,
   "id": "f302c5d7-d5f6-42b4-893c-6810612ead0d",
   "metadata": {},
   "outputs": [
    {
     "data": {
      "text/plain": [
       "3"
      ]
     },
     "execution_count": 57,
     "metadata": {},
     "output_type": "execute_result"
    }
   ],
   "source": [
    "arr4.ndim"
   ]
  },
  {
   "cell_type": "code",
   "execution_count": 58,
   "id": "65e088f3-3a3d-4adc-8d84-e919de23abbb",
   "metadata": {},
   "outputs": [
    {
     "data": {
      "text/plain": [
       "(2, 2, 3)"
      ]
     },
     "execution_count": 58,
     "metadata": {},
     "output_type": "execute_result"
    }
   ],
   "source": [
    "arr4.shape"
   ]
  },
  {
   "cell_type": "code",
   "execution_count": 59,
   "id": "5d8793b6-5951-4b52-9315-f26c37e07f57",
   "metadata": {},
   "outputs": [
    {
     "data": {
      "text/plain": [
       "array([[[12, 45, 23],\n",
       "        [45, 34, 56]],\n",
       "\n",
       "       [[23, 56, 34],\n",
       "        [90, 56, 34]]])"
      ]
     },
     "execution_count": 59,
     "metadata": {},
     "output_type": "execute_result"
    }
   ],
   "source": [
    "arr4"
   ]
  },
  {
   "cell_type": "code",
   "execution_count": null,
   "id": "5a5b7126-d323-4371-b68b-fea0cf4b44e2",
   "metadata": {},
   "outputs": [],
   "source": []
  },
  {
   "cell_type": "code",
   "execution_count": 60,
   "id": "94d3d72a-fd32-4abb-a30e-60b63905ef51",
   "metadata": {},
   "outputs": [],
   "source": [
    "# indexing or slicing."
   ]
  },
  {
   "cell_type": "code",
   "execution_count": 61,
   "id": "54de2f29-8892-4a7a-b18c-f3fc28bb8640",
   "metadata": {},
   "outputs": [],
   "source": [
    "arr1 = np.array([12, 10, 45, 10, 78])"
   ]
  },
  {
   "cell_type": "code",
   "execution_count": 62,
   "id": "0f4d5fac-dc36-4198-b82b-2d54104b5e20",
   "metadata": {},
   "outputs": [
    {
     "data": {
      "text/plain": [
       "array([12, 10, 45, 10, 78])"
      ]
     },
     "execution_count": 62,
     "metadata": {},
     "output_type": "execute_result"
    }
   ],
   "source": [
    "arr1"
   ]
  },
  {
   "cell_type": "code",
   "execution_count": 63,
   "id": "5cf4c0e1-b685-4639-bc9b-8318d1593ab9",
   "metadata": {},
   "outputs": [
    {
     "data": {
      "text/plain": [
       "10"
      ]
     },
     "execution_count": 63,
     "metadata": {},
     "output_type": "execute_result"
    }
   ],
   "source": [
    "arr1[3]"
   ]
  },
  {
   "cell_type": "code",
   "execution_count": 64,
   "id": "4e0312e3-1a83-494f-8dfd-2d9bb655a25d",
   "metadata": {},
   "outputs": [
    {
     "data": {
      "text/plain": [
       "array([78, 10, 45, 10, 12])"
      ]
     },
     "execution_count": 64,
     "metadata": {},
     "output_type": "execute_result"
    }
   ],
   "source": [
    "arr1[::-1]"
   ]
  },
  {
   "cell_type": "code",
   "execution_count": 65,
   "id": "78e8f388-859a-47f6-b6f9-8f404fafa39d",
   "metadata": {},
   "outputs": [],
   "source": [
    "arr3 = np.array([[12, 34, 56, 34, 100], [34, 56, 45, 67, 45]])"
   ]
  },
  {
   "cell_type": "code",
   "execution_count": 67,
   "id": "08ca9613-7e16-4037-8b05-3da43bc8bb6d",
   "metadata": {},
   "outputs": [
    {
     "data": {
      "text/plain": [
       "67"
      ]
     },
     "execution_count": 67,
     "metadata": {},
     "output_type": "execute_result"
    }
   ],
   "source": [
    "arr3[1][3]"
   ]
  },
  {
   "cell_type": "code",
   "execution_count": null,
   "id": "1cc06833-f54a-41dd-902d-bb62a48fc58a",
   "metadata": {},
   "outputs": [],
   "source": []
  }
 ],
 "metadata": {
  "kernelspec": {
   "display_name": "Python 3 (ipykernel)",
   "language": "python",
   "name": "python3"
  },
  "language_info": {
   "codemirror_mode": {
    "name": "ipython",
    "version": 3
   },
   "file_extension": ".py",
   "mimetype": "text/x-python",
   "name": "python",
   "nbconvert_exporter": "python",
   "pygments_lexer": "ipython3",
   "version": "3.12.0"
  }
 },
 "nbformat": 4,
 "nbformat_minor": 5
}
