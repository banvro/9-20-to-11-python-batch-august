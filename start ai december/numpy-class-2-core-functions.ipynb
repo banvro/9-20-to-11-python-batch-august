{
 "cells": [
  {
   "cell_type": "code",
   "execution_count": 1,
   "id": "7c2f8b81-e752-4707-8f12-b9842817a457",
   "metadata": {},
   "outputs": [],
   "source": [
    "# Numpy : \n",
    "\n",
    "# ndarray:"
   ]
  },
  {
   "cell_type": "code",
   "execution_count": 3,
   "id": "9b2bced1-4d14-471c-a737-0f2eb9c72ca3",
   "metadata": {},
   "outputs": [],
   "source": [
    "import numpy as np\n",
    "arr = np.array([[12, 10, 90], [34, 20, 10]])"
   ]
  },
  {
   "cell_type": "code",
   "execution_count": 5,
   "id": "d1aaeba7-cdc7-474d-874a-4502f16091a8",
   "metadata": {},
   "outputs": [
    {
     "data": {
      "text/plain": [
       "array([[12, 10, 90],\n",
       "       [34, 20, 10]])"
      ]
     },
     "execution_count": 5,
     "metadata": {},
     "output_type": "execute_result"
    }
   ],
   "source": [
    "arr"
   ]
  },
  {
   "cell_type": "code",
   "execution_count": 6,
   "id": "d24834a7-2acf-4eba-bb0b-40170497d8c5",
   "metadata": {},
   "outputs": [
    {
     "data": {
      "text/plain": [
       "2"
      ]
     },
     "execution_count": 6,
     "metadata": {},
     "output_type": "execute_result"
    }
   ],
   "source": [
    "arr.ndim"
   ]
  },
  {
   "cell_type": "code",
   "execution_count": 7,
   "id": "fa4aa8d9-b1f9-4d59-ac76-c32f1bd382b2",
   "metadata": {},
   "outputs": [
    {
     "data": {
      "text/plain": [
       "(2, 3)"
      ]
     },
     "execution_count": 7,
     "metadata": {},
     "output_type": "execute_result"
    }
   ],
   "source": [
    "# shape\n",
    "arr.shape"
   ]
  },
  {
   "cell_type": "code",
   "execution_count": 8,
   "id": "4df02242-daab-4352-8811-b46d05c587aa",
   "metadata": {},
   "outputs": [],
   "source": [
    "arr = np.array([[12, 10, 90], [34, 20, 10], [23, 10, 89]])"
   ]
  },
  {
   "cell_type": "code",
   "execution_count": 9,
   "id": "f1343677-59ce-4fb0-ad00-8cd998eaea29",
   "metadata": {},
   "outputs": [
    {
     "data": {
      "text/plain": [
       "2"
      ]
     },
     "execution_count": 9,
     "metadata": {},
     "output_type": "execute_result"
    }
   ],
   "source": [
    "arr.ndim"
   ]
  },
  {
   "cell_type": "code",
   "execution_count": 10,
   "id": "339b7896-2c1e-4726-a6bf-338194b23e52",
   "metadata": {},
   "outputs": [
    {
     "data": {
      "text/plain": [
       "(3, 3)"
      ]
     },
     "execution_count": 10,
     "metadata": {},
     "output_type": "execute_result"
    }
   ],
   "source": [
    "arr.shape"
   ]
  },
  {
   "cell_type": "code",
   "execution_count": 11,
   "id": "131a5487-7db3-4333-be32-1a4b6f2f809c",
   "metadata": {},
   "outputs": [
    {
     "data": {
      "text/plain": [
       "array([[12, 10, 90],\n",
       "       [34, 20, 10],\n",
       "       [23, 10, 89]])"
      ]
     },
     "execution_count": 11,
     "metadata": {},
     "output_type": "execute_result"
    }
   ],
   "source": [
    "arr"
   ]
  },
  {
   "cell_type": "code",
   "execution_count": null,
   "id": "abecc830-fa7c-4882-98c1-4b3a3022fd9c",
   "metadata": {},
   "outputs": [],
   "source": []
  },
  {
   "cell_type": "code",
   "execution_count": 19,
   "id": "8a8f908e-fc6b-49f5-bcd9-0714d2040255",
   "metadata": {},
   "outputs": [],
   "source": [
    "arr = np.array([12, 10, 90, 10, 89, 67, 100, 56, 20, 10, 10, 30])"
   ]
  },
  {
   "cell_type": "code",
   "execution_count": 20,
   "id": "a40374dc-924b-4ba9-8374-c5ce4ce35fd1",
   "metadata": {},
   "outputs": [
    {
     "data": {
      "text/plain": [
       "(12,)"
      ]
     },
     "execution_count": 20,
     "metadata": {},
     "output_type": "execute_result"
    }
   ],
   "source": [
    "arr.shape"
   ]
  },
  {
   "cell_type": "code",
   "execution_count": 21,
   "id": "88ad9730-8efd-4039-aa17-184a19f28ed4",
   "metadata": {},
   "outputs": [
    {
     "data": {
      "text/plain": [
       "array([[[ 12,  10,  90],\n",
       "        [ 10,  89,  67]],\n",
       "\n",
       "       [[100,  56,  20],\n",
       "        [ 10,  10,  30]]])"
      ]
     },
     "execution_count": 21,
     "metadata": {},
     "output_type": "execute_result"
    }
   ],
   "source": [
    "arr.reshape(2, 2, 3)"
   ]
  },
  {
   "cell_type": "code",
   "execution_count": 15,
   "id": "1a7ac54c-5bfb-4c48-818e-fc0626e03cec",
   "metadata": {},
   "outputs": [
    {
     "data": {
      "text/plain": [
       "array([ 12,  10,  90,  10,  89,  67, 100,  56,  20,  10])"
      ]
     },
     "execution_count": 15,
     "metadata": {},
     "output_type": "execute_result"
    }
   ],
   "source": [
    "arr"
   ]
  },
  {
   "cell_type": "code",
   "execution_count": null,
   "id": "efa7d787-9c7d-4cfd-ba8b-1aaffdf02952",
   "metadata": {},
   "outputs": [],
   "source": []
  },
  {
   "cell_type": "code",
   "execution_count": 22,
   "id": "414dee50-77a1-4da2-93cc-22dfd429c47c",
   "metadata": {},
   "outputs": [],
   "source": [
    "# -1"
   ]
  },
  {
   "cell_type": "code",
   "execution_count": 31,
   "id": "f1ce8fbf-c648-4385-9043-8ab98eb4986f",
   "metadata": {},
   "outputs": [],
   "source": [
    "arr = np.array([12, 1, 90, 56, 34, 56, 23, 1, 5, 2, 5, 7, 10, 10,27])"
   ]
  },
  {
   "cell_type": "code",
   "execution_count": 33,
   "id": "b67f9902-438b-4c56-94dd-83207ead12b1",
   "metadata": {},
   "outputs": [
    {
     "data": {
      "text/plain": [
       "array([[12,  1, 90],\n",
       "       [56, 34, 56],\n",
       "       [23,  1,  5],\n",
       "       [ 2,  5,  7],\n",
       "       [10, 10, 27]])"
      ]
     },
     "execution_count": 33,
     "metadata": {},
     "output_type": "execute_result"
    }
   ],
   "source": [
    "arr.reshape(-1, 3)"
   ]
  },
  {
   "cell_type": "code",
   "execution_count": null,
   "id": "c2c65a2c-0a61-439a-8af5-7a7edc98da36",
   "metadata": {},
   "outputs": [],
   "source": []
  },
  {
   "cell_type": "code",
   "execution_count": 34,
   "id": "e7d6b1a2-6bd5-4baf-9933-b4fe27dc0199",
   "metadata": {},
   "outputs": [],
   "source": [
    "arr2 = np.array([[12, 10, 89, 20], [45, 20, 20, 100]])"
   ]
  },
  {
   "cell_type": "code",
   "execution_count": 36,
   "id": "c8faa9d7-1775-4d1a-b1c7-c83f0234f905",
   "metadata": {},
   "outputs": [
    {
     "data": {
      "text/plain": [
       "array([[ 12,  10,  89,  20],\n",
       "       [ 45,  20,  20, 100]])"
      ]
     },
     "execution_count": 36,
     "metadata": {},
     "output_type": "execute_result"
    }
   ],
   "source": [
    "arr2"
   ]
  },
  {
   "cell_type": "code",
   "execution_count": 39,
   "id": "d01f911a-94bc-404a-8fdf-85b2ae9d165d",
   "metadata": {},
   "outputs": [
    {
     "data": {
      "text/plain": [
       "array([ 12,  10,  89,  20,  45,  20,  20, 100])"
      ]
     },
     "execution_count": 39,
     "metadata": {},
     "output_type": "execute_result"
    }
   ],
   "source": [
    "arr2.reshape(-1)"
   ]
  },
  {
   "cell_type": "code",
   "execution_count": 42,
   "id": "3cfdf403-4c83-4121-afa7-b68319a3ecdf",
   "metadata": {},
   "outputs": [
    {
     "data": {
      "text/plain": [
       "array([ 12,  10,  89,  20,  45,  20,  20, 100])"
      ]
     },
     "execution_count": 42,
     "metadata": {},
     "output_type": "execute_result"
    }
   ],
   "source": [
    "arr2.reshape(8)"
   ]
  },
  {
   "cell_type": "code",
   "execution_count": null,
   "id": "5b4584a7-f3b9-46f6-a618-8a77592830a3",
   "metadata": {},
   "outputs": [],
   "source": []
  },
  {
   "cell_type": "code",
   "execution_count": 43,
   "id": "ccebbef5-36e5-4128-b360-0a3fdae3c9d7",
   "metadata": {},
   "outputs": [],
   "source": [
    "a = np.array([12, 10, 89, 67])\n",
    "b = np.array([45, 30, 20, 100])"
   ]
  },
  {
   "cell_type": "code",
   "execution_count": 44,
   "id": "ec339d00-b0a7-48f3-afaf-c4c19c19f287",
   "metadata": {},
   "outputs": [
    {
     "data": {
      "text/plain": [
       "array([ 57,  40, 109, 167])"
      ]
     },
     "execution_count": 44,
     "metadata": {},
     "output_type": "execute_result"
    }
   ],
   "source": [
    "c = a + b\n",
    "c"
   ]
  },
  {
   "cell_type": "code",
   "execution_count": null,
   "id": "5902e366-7345-4867-a4cf-89416c42682a",
   "metadata": {},
   "outputs": [],
   "source": []
  },
  {
   "cell_type": "code",
   "execution_count": 45,
   "id": "9eb5c5db-5297-43ea-9f3f-e4f0430deffb",
   "metadata": {},
   "outputs": [],
   "source": [
    "# concatenate"
   ]
  },
  {
   "cell_type": "code",
   "execution_count": 51,
   "id": "6e0145de-9f3d-44ac-9e17-50d549e301c0",
   "metadata": {},
   "outputs": [],
   "source": [
    "zx = np.concatenate([a, b])"
   ]
  },
  {
   "cell_type": "code",
   "execution_count": 52,
   "id": "a69d5ee3-195b-4364-a701-c890af0692de",
   "metadata": {},
   "outputs": [
    {
     "data": {
      "text/plain": [
       "array([ 12,  10,  89,  67,  45,  30,  20, 100])"
      ]
     },
     "execution_count": 52,
     "metadata": {},
     "output_type": "execute_result"
    }
   ],
   "source": [
    "zx"
   ]
  },
  {
   "cell_type": "code",
   "execution_count": null,
   "id": "1742f6f2-c71f-4321-ba68-86a7db14ec1d",
   "metadata": {},
   "outputs": [],
   "source": []
  },
  {
   "cell_type": "code",
   "execution_count": 53,
   "id": "a999f02a-2f8e-410c-9762-21eeba9c3f7d",
   "metadata": {},
   "outputs": [],
   "source": [
    "arr = np.array([12, 23, 12, 4, 23 ,10])"
   ]
  },
  {
   "cell_type": "code",
   "execution_count": 56,
   "id": "85239f03-5f00-470c-a51a-5adb4f2cd942",
   "metadata": {},
   "outputs": [],
   "source": [
    "zx = np.split(arr, 3)"
   ]
  },
  {
   "cell_type": "code",
   "execution_count": 57,
   "id": "4146b238-628a-4b7a-adc0-4817e025ea2d",
   "metadata": {},
   "outputs": [
    {
     "data": {
      "text/plain": [
       "[array([12, 23]), array([12,  4]), array([23, 10])]"
      ]
     },
     "execution_count": 57,
     "metadata": {},
     "output_type": "execute_result"
    }
   ],
   "source": [
    "zx"
   ]
  },
  {
   "cell_type": "code",
   "execution_count": 58,
   "id": "f822d9b4-634e-4eb5-bc2e-68dda5d0e746",
   "metadata": {},
   "outputs": [
    {
     "name": "stdout",
     "output_type": "stream",
     "text": [
      "[12 23]\n",
      "[12  4]\n",
      "[23 10]\n"
     ]
    }
   ],
   "source": [
    "for i in zx:\n",
    "    print(i)"
   ]
  },
  {
   "cell_type": "code",
   "execution_count": null,
   "id": "1b936a2c-92f6-4240-bca9-5fdd1bc6048e",
   "metadata": {},
   "outputs": [],
   "source": []
  },
  {
   "cell_type": "code",
   "execution_count": 61,
   "id": "5af699c9-234a-4d74-86b6-4a29dd342cf2",
   "metadata": {},
   "outputs": [],
   "source": [
    "a = np.array([12, 10, 90, 100])\n",
    "b = np.array([23, 10, 9, 50])"
   ]
  },
  {
   "cell_type": "code",
   "execution_count": 62,
   "id": "6bd2129a-275a-4058-bf2b-63426d175efd",
   "metadata": {},
   "outputs": [],
   "source": [
    "# stack"
   ]
  },
  {
   "cell_type": "code",
   "execution_count": 67,
   "id": "57cdf173-9c8a-40b7-b960-02cfba61da5a",
   "metadata": {},
   "outputs": [],
   "source": [
    "x = np.stack((a, b), axis = 1)"
   ]
  },
  {
   "cell_type": "code",
   "execution_count": 68,
   "id": "c7bfd5db-1f86-4003-9df1-883b1cb4911b",
   "metadata": {},
   "outputs": [
    {
     "data": {
      "text/plain": [
       "array([[ 12,  23],\n",
       "       [ 10,  10],\n",
       "       [ 90,   9],\n",
       "       [100,  50]])"
      ]
     },
     "execution_count": 68,
     "metadata": {},
     "output_type": "execute_result"
    }
   ],
   "source": [
    "x"
   ]
  },
  {
   "cell_type": "code",
   "execution_count": null,
   "id": "8ab0878d-39d8-4669-b508-43eb4ea78b16",
   "metadata": {},
   "outputs": [],
   "source": []
  },
  {
   "cell_type": "code",
   "execution_count": 69,
   "id": "1973d696-41bd-40f0-85da-57a75609d840",
   "metadata": {},
   "outputs": [],
   "source": [
    "# random"
   ]
  },
  {
   "cell_type": "code",
   "execution_count": null,
   "id": "73008ff2-a60a-47c5-a300-12d060d4cdcd",
   "metadata": {},
   "outputs": [],
   "source": [
    "1) Numpy\n",
    "2) Concatenate\n",
    "3) Add Ndarrays\n",
    "4) Stacked\n",
    "5) Split\n",
    "6) Shape\n",
    "7) Reshape (1-D, 2-D)"
   ]
  }
 ],
 "metadata": {
  "kernelspec": {
   "display_name": "Python 3 (ipykernel)",
   "language": "python",
   "name": "python3"
  },
  "language_info": {
   "codemirror_mode": {
    "name": "ipython",
    "version": 3
   },
   "file_extension": ".py",
   "mimetype": "text/x-python",
   "name": "python",
   "nbconvert_exporter": "python",
   "pygments_lexer": "ipython3",
   "version": "3.11.5"
  }
 },
 "nbformat": 4,
 "nbformat_minor": 5
}
