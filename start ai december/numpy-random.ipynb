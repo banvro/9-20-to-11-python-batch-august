{
 "cells": [
  {
   "cell_type": "code",
   "execution_count": 1,
   "id": "62f718e5-0113-41e2-b7c1-ab83662ce27d",
   "metadata": {},
   "outputs": [],
   "source": [
    "# Numpy"
   ]
  },
  {
   "cell_type": "code",
   "execution_count": 2,
   "id": "4402e80f-1cf5-42cd-8270-99211b5897ea",
   "metadata": {},
   "outputs": [],
   "source": [
    "# random : /"
   ]
  },
  {
   "cell_type": "code",
   "execution_count": 3,
   "id": "a7c584a3-fe62-4ea0-bec5-59b70753cbca",
   "metadata": {},
   "outputs": [],
   "source": [
    "from numpy import random"
   ]
  },
  {
   "cell_type": "code",
   "execution_count": 11,
   "id": "6ed27f18-08b9-45a7-9deb-201808a031b4",
   "metadata": {},
   "outputs": [],
   "source": [
    "x = random.randint(100)"
   ]
  },
  {
   "cell_type": "code",
   "execution_count": 12,
   "id": "3b7c16a9-ed32-440c-93d0-d5185bb73c68",
   "metadata": {},
   "outputs": [
    {
     "data": {
      "text/plain": [
       "78"
      ]
     },
     "execution_count": 12,
     "metadata": {},
     "output_type": "execute_result"
    }
   ],
   "source": [
    "x"
   ]
  },
  {
   "cell_type": "code",
   "execution_count": null,
   "id": "d9f328a4-bd6d-486a-83c6-40c7a995fdd6",
   "metadata": {},
   "outputs": [],
   "source": []
  },
  {
   "cell_type": "code",
   "execution_count": 17,
   "id": "1e8f2eae-9c2e-4216-a4c4-cf197a362540",
   "metadata": {},
   "outputs": [],
   "source": [
    "y = random.rand()\n",
    "\n",
    "# 0 to 1"
   ]
  },
  {
   "cell_type": "code",
   "execution_count": 18,
   "id": "40fc4bdc-5682-482f-aa30-af37c8e9cb60",
   "metadata": {},
   "outputs": [
    {
     "data": {
      "text/plain": [
       "0.0012741811430339034"
      ]
     },
     "execution_count": 18,
     "metadata": {},
     "output_type": "execute_result"
    }
   ],
   "source": [
    "y"
   ]
  },
  {
   "cell_type": "code",
   "execution_count": null,
   "id": "9e9629d9-23f2-4542-8baf-e87818327568",
   "metadata": {},
   "outputs": [],
   "source": []
  },
  {
   "cell_type": "code",
   "execution_count": null,
   "id": "fb2bd304-c554-426a-829e-27e195aff113",
   "metadata": {},
   "outputs": [],
   "source": []
  },
  {
   "cell_type": "code",
   "execution_count": 30,
   "id": "355ffebd-cf4b-48c6-8811-66f7f9a8b337",
   "metadata": {},
   "outputs": [],
   "source": [
    "zx = random.randint(100, size = (2, 10))"
   ]
  },
  {
   "cell_type": "code",
   "execution_count": 29,
   "id": "06fafca8-168d-4164-81fe-bc19d7a7d10c",
   "metadata": {},
   "outputs": [
    {
     "data": {
      "text/plain": [
       "array([[[43, 33, 74, 15, 60, 97, 45,  5, 26, 13],\n",
       "        [29, 94, 89, 52, 34, 85, 71, 60, 35, 74],\n",
       "        [ 1, 62, 30, 30,  7, 94, 13, 76, 23, 97]],\n",
       "\n",
       "       [[13, 64, 20, 46,  8, 74,  6,  5, 80, 14],\n",
       "        [80, 26, 90, 19, 86, 37, 91, 19, 56,  2],\n",
       "        [89, 21, 38, 59,  8, 76, 41, 39, 75, 81]]])"
      ]
     },
     "execution_count": 29,
     "metadata": {},
     "output_type": "execute_result"
    }
   ],
   "source": [
    "zx"
   ]
  },
  {
   "cell_type": "code",
   "execution_count": null,
   "id": "1813e3d1-1387-4e7c-8379-c8bd5c289a6b",
   "metadata": {},
   "outputs": [],
   "source": []
  },
  {
   "cell_type": "code",
   "execution_count": 55,
   "id": "05eb8e92-1a49-4ba5-a5a2-f482a3f325c6",
   "metadata": {},
   "outputs": [],
   "source": [
    "zx = random.choice([10, 20, 89, 67, 34, 100], size = (3, 10), p=[0.1, 0.3, 0.1, 0.0, 0.3, 0.2])"
   ]
  },
  {
   "cell_type": "code",
   "execution_count": 56,
   "id": "5f74acbb-6028-4f2d-9f50-040abe0c5c2e",
   "metadata": {},
   "outputs": [
    {
     "data": {
      "text/plain": [
       "array([[ 20,  10,  89,  20,  34,  34,  34,  10,  34,  20],\n",
       "       [ 89,  10,  34,  10,  34,  10,  89,  20, 100, 100],\n",
       "       [ 34,  10,  34, 100, 100, 100, 100,  10,  20,  20]])"
      ]
     },
     "execution_count": 56,
     "metadata": {},
     "output_type": "execute_result"
    }
   ],
   "source": [
    "zx"
   ]
  },
  {
   "cell_type": "code",
   "execution_count": null,
   "id": "b9cde9ab-71cc-4dc7-a103-3d565426504c",
   "metadata": {},
   "outputs": [],
   "source": []
  },
  {
   "cell_type": "code",
   "execution_count": 57,
   "id": "41ce782c-727b-450b-b409-7336f9482d70",
   "metadata": {},
   "outputs": [],
   "source": [
    "import numpy as np"
   ]
  },
  {
   "cell_type": "code",
   "execution_count": 62,
   "id": "bbd754bb-3571-4e92-b638-a6b01487ed31",
   "metadata": {},
   "outputs": [],
   "source": [
    "arr = np.array([12, 10, 20, 78, 58, 100, 45])"
   ]
  },
  {
   "cell_type": "code",
   "execution_count": 63,
   "id": "07a17c79-0b66-4d06-b26c-f77df2dfcf30",
   "metadata": {},
   "outputs": [
    {
     "data": {
      "text/plain": [
       "array([ 12,  10,  20,  78,  58, 100,  45])"
      ]
     },
     "execution_count": 63,
     "metadata": {},
     "output_type": "execute_result"
    }
   ],
   "source": [
    "arr"
   ]
  },
  {
   "cell_type": "code",
   "execution_count": 64,
   "id": "aa251336-134d-41ed-8be0-36a628ea7d3e",
   "metadata": {},
   "outputs": [],
   "source": [
    "random.shuffle(arr)"
   ]
  },
  {
   "cell_type": "code",
   "execution_count": 65,
   "id": "035306b6-8362-4673-8d51-afb27fce97bf",
   "metadata": {},
   "outputs": [
    {
     "data": {
      "text/plain": [
       "array([ 58,  12,  20,  78,  10,  45, 100])"
      ]
     },
     "execution_count": 65,
     "metadata": {},
     "output_type": "execute_result"
    }
   ],
   "source": [
    "arr"
   ]
  },
  {
   "cell_type": "code",
   "execution_count": null,
   "id": "105b6af3-18dd-4036-99e4-1486f5fe420e",
   "metadata": {},
   "outputs": [],
   "source": []
  },
  {
   "cell_type": "code",
   "execution_count": 72,
   "id": "e6091e91-ecbb-44a0-9c0d-302e37a4666c",
   "metadata": {},
   "outputs": [],
   "source": [
    "zx = random.poisson(lam = 2, size = (10))"
   ]
  },
  {
   "cell_type": "raw",
   "id": "502e93a3-fe73-4676-990e-0ce3cfa90901",
   "metadata": {},
   "source": [
    "zx"
   ]
  },
  {
   "cell_type": "code",
   "execution_count": 73,
   "id": "72efa3da-e3cf-462b-9206-37c186d4a49e",
   "metadata": {},
   "outputs": [
    {
     "data": {
      "text/plain": [
       "array([2, 3, 2, 1, 1, 1, 3, 3, 4, 4])"
      ]
     },
     "execution_count": 73,
     "metadata": {},
     "output_type": "execute_result"
    }
   ],
   "source": [
    "zx"
   ]
  },
  {
   "cell_type": "code",
   "execution_count": 75,
   "id": "7243a179-5b4c-47e5-9ab6-3b311adc79e2",
   "metadata": {},
   "outputs": [
    {
     "name": "stdout",
     "output_type": "stream",
     "text": [
      "Help on built-in function poisson:\n",
      "\n",
      "poisson(...) method of numpy.random.mtrand.RandomState instance\n",
      "    poisson(lam=1.0, size=None)\n",
      "    \n",
      "    Draw samples from a Poisson distribution.\n",
      "    \n",
      "    The Poisson distribution is the limit of the binomial distribution\n",
      "    for large N.\n",
      "    \n",
      "    .. note::\n",
      "        New code should use the `~numpy.random.Generator.poisson`\n",
      "        method of a `~numpy.random.Generator` instance instead;\n",
      "        please see the :ref:`random-quick-start`.\n",
      "    \n",
      "    Parameters\n",
      "    ----------\n",
      "    lam : float or array_like of floats\n",
      "        Expected number of events occurring in a fixed-time interval,\n",
      "        must be >= 0. A sequence must be broadcastable over the requested\n",
      "        size.\n",
      "    size : int or tuple of ints, optional\n",
      "        Output shape.  If the given shape is, e.g., ``(m, n, k)``, then\n",
      "        ``m * n * k`` samples are drawn.  If size is ``None`` (default),\n",
      "        a single value is returned if ``lam`` is a scalar. Otherwise,\n",
      "        ``np.array(lam).size`` samples are drawn.\n",
      "    \n",
      "    Returns\n",
      "    -------\n",
      "    out : ndarray or scalar\n",
      "        Drawn samples from the parameterized Poisson distribution.\n",
      "    \n",
      "    See Also\n",
      "    --------\n",
      "    random.Generator.poisson: which should be used for new code.\n",
      "    \n",
      "    Notes\n",
      "    -----\n",
      "    The Poisson distribution\n",
      "    \n",
      "    .. math:: f(k; \\lambda)=\\frac{\\lambda^k e^{-\\lambda}}{k!}\n",
      "    \n",
      "    For events with an expected separation :math:`\\lambda` the Poisson\n",
      "    distribution :math:`f(k; \\lambda)` describes the probability of\n",
      "    :math:`k` events occurring within the observed\n",
      "    interval :math:`\\lambda`.\n",
      "    \n",
      "    Because the output is limited to the range of the C int64 type, a\n",
      "    ValueError is raised when `lam` is within 10 sigma of the maximum\n",
      "    representable value.\n",
      "    \n",
      "    References\n",
      "    ----------\n",
      "    .. [1] Weisstein, Eric W. \"Poisson Distribution.\"\n",
      "           From MathWorld--A Wolfram Web Resource.\n",
      "           http://mathworld.wolfram.com/PoissonDistribution.html\n",
      "    .. [2] Wikipedia, \"Poisson distribution\",\n",
      "           https://en.wikipedia.org/wiki/Poisson_distribution\n",
      "    \n",
      "    Examples\n",
      "    --------\n",
      "    Draw samples from the distribution:\n",
      "    \n",
      "    >>> import numpy as np\n",
      "    >>> s = np.random.poisson(5, 10000)\n",
      "    \n",
      "    Display histogram of the sample:\n",
      "    \n",
      "    >>> import matplotlib.pyplot as plt\n",
      "    >>> count, bins, ignored = plt.hist(s, 14, density=True)\n",
      "    >>> plt.show()\n",
      "    \n",
      "    Draw each 100 values for lambda 100 and 500:\n",
      "    \n",
      "    >>> s = np.random.poisson(lam=(100., 500.), size=(100, 2))\n",
      "\n"
     ]
    }
   ],
   "source": [
    "help(random.poisson)"
   ]
  },
  {
   "cell_type": "code",
   "execution_count": 76,
   "id": "a675aabb-40b6-4f72-90e1-0574a2cb0366",
   "metadata": {},
   "outputs": [
    {
     "ename": "SyntaxError",
     "evalue": "invalid syntax (560393209.py, line 1)",
     "output_type": "error",
     "traceback": [
      "\u001b[1;36m  Cell \u001b[1;32mIn[76], line 1\u001b[1;36m\u001b[0m\n\u001b[1;33m    topics done:\u001b[0m\n\u001b[1;37m           ^\u001b[0m\n\u001b[1;31mSyntaxError\u001b[0m\u001b[1;31m:\u001b[0m invalid syntax\n"
     ]
    }
   ],
   "source": [
    "topics done:\n",
    "1) Random\n",
    "2) randint\n",
    "3) rand\n",
    "4) choice\n",
    "5) shuffle\n",
    "6) gerrating random data using randint, rand or choice, 1-D, 2-D, 3-D"
   ]
  },
  {
   "cell_type": "code",
   "execution_count": null,
   "id": "5f9e9601-3571-4bbe-b3ca-0881b0043695",
   "metadata": {},
   "outputs": [],
   "source": []
  }
 ],
 "metadata": {
  "kernelspec": {
   "display_name": "Python 3 (ipykernel)",
   "language": "python",
   "name": "python3"
  },
  "language_info": {
   "codemirror_mode": {
    "name": "ipython",
    "version": 3
   },
   "file_extension": ".py",
   "mimetype": "text/x-python",
   "name": "python",
   "nbconvert_exporter": "python",
   "pygments_lexer": "ipython3",
   "version": "3.11.5"
  }
 },
 "nbformat": 4,
 "nbformat_minor": 5
}
