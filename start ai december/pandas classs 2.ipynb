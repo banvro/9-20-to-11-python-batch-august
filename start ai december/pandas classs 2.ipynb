{
 "cells": [
  {
   "cell_type": "code",
   "execution_count": 1,
   "id": "0aaf78ae-9ecd-436e-ae48-17f27206fd8d",
   "metadata": {},
   "outputs": [],
   "source": [
    "# pandas"
   ]
  },
  {
   "cell_type": "code",
   "execution_count": 2,
   "id": "2b2e9ce6-1203-48ed-ad32-953440389b00",
   "metadata": {},
   "outputs": [],
   "source": [
    "import pandas as pd"
   ]
  },
  {
   "cell_type": "code",
   "execution_count": 3,
   "id": "f4695f1c-6e9a-4e5a-9a12-088116024d45",
   "metadata": {},
   "outputs": [],
   "source": [
    "data = pd.read_csv(\"placement.csv\")"
   ]
  },
  {
   "cell_type": "code",
   "execution_count": 4,
   "id": "eecfb1d7-f12c-40ff-907c-6d9a5feb5512",
   "metadata": {},
   "outputs": [
    {
     "data": {
      "text/html": [
       "<div>\n",
       "<style scoped>\n",
       "    .dataframe tbody tr th:only-of-type {\n",
       "        vertical-align: middle;\n",
       "    }\n",
       "\n",
       "    .dataframe tbody tr th {\n",
       "        vertical-align: top;\n",
       "    }\n",
       "\n",
       "    .dataframe thead th {\n",
       "        text-align: right;\n",
       "    }\n",
       "</style>\n",
       "<table border=\"1\" class=\"dataframe\">\n",
       "  <thead>\n",
       "    <tr style=\"text-align: right;\">\n",
       "      <th></th>\n",
       "      <th>cgpa</th>\n",
       "      <th>package</th>\n",
       "    </tr>\n",
       "  </thead>\n",
       "  <tbody>\n",
       "    <tr>\n",
       "      <th>0</th>\n",
       "      <td>6.89</td>\n",
       "      <td>3.26</td>\n",
       "    </tr>\n",
       "    <tr>\n",
       "      <th>1</th>\n",
       "      <td>5.12</td>\n",
       "      <td>1.98</td>\n",
       "    </tr>\n",
       "    <tr>\n",
       "      <th>2</th>\n",
       "      <td>7.82</td>\n",
       "      <td>3.25</td>\n",
       "    </tr>\n",
       "    <tr>\n",
       "      <th>3</th>\n",
       "      <td>7.42</td>\n",
       "      <td>3.67</td>\n",
       "    </tr>\n",
       "    <tr>\n",
       "      <th>4</th>\n",
       "      <td>6.94</td>\n",
       "      <td>3.57</td>\n",
       "    </tr>\n",
       "    <tr>\n",
       "      <th>...</th>\n",
       "      <td>...</td>\n",
       "      <td>...</td>\n",
       "    </tr>\n",
       "    <tr>\n",
       "      <th>195</th>\n",
       "      <td>6.93</td>\n",
       "      <td>2.46</td>\n",
       "    </tr>\n",
       "    <tr>\n",
       "      <th>196</th>\n",
       "      <td>5.89</td>\n",
       "      <td>2.57</td>\n",
       "    </tr>\n",
       "    <tr>\n",
       "      <th>197</th>\n",
       "      <td>7.21</td>\n",
       "      <td>3.24</td>\n",
       "    </tr>\n",
       "    <tr>\n",
       "      <th>198</th>\n",
       "      <td>7.63</td>\n",
       "      <td>3.96</td>\n",
       "    </tr>\n",
       "    <tr>\n",
       "      <th>199</th>\n",
       "      <td>6.22</td>\n",
       "      <td>2.33</td>\n",
       "    </tr>\n",
       "  </tbody>\n",
       "</table>\n",
       "<p>200 rows × 2 columns</p>\n",
       "</div>"
      ],
      "text/plain": [
       "     cgpa package\n",
       "0    6.89    3.26\n",
       "1    5.12    1.98\n",
       "2    7.82    3.25\n",
       "3    7.42    3.67\n",
       "4    6.94    3.57\n",
       "..    ...     ...\n",
       "195  6.93    2.46\n",
       "196  5.89    2.57\n",
       "197  7.21    3.24\n",
       "198  7.63    3.96\n",
       "199  6.22    2.33\n",
       "\n",
       "[200 rows x 2 columns]"
      ]
     },
     "execution_count": 4,
     "metadata": {},
     "output_type": "execute_result"
    }
   ],
   "source": [
    "data"
   ]
  },
  {
   "cell_type": "code",
   "execution_count": 5,
   "id": "5888b89f-209a-40f3-9112-e90485a0c3fd",
   "metadata": {},
   "outputs": [
    {
     "data": {
      "text/plain": [
       "'     cgpa    package\\n0    6.89       3.26\\n1    5.12       1.98\\n2    7.82       3.25\\n3    7.42       3.67\\n4    6.94       3.57\\n5    7.89       2.99\\n6    6.73        2.6\\n7    6.75       2.48\\n8    6.09       2.31\\n9    8.31       3.51\\n10   5.32       1.86\\n11   6.61        2.6\\n12   8.94       3.65\\n13   6.93       2.89\\n14   7.73       3.42\\n15   7.25       3.23\\n16   6.84       2.35\\n17   5.38       2.09\\n18   6.94       2.98\\n19   7.48       2.83\\n20   7.28       3.16\\n21   6.85       2.93\\n22   6.14        2.3\\n23   6.19       2.48\\n24   6.53       2.71\\n25   7.28       3.65\\n26   8.31       3.42\\n27   5.42       2.16\\n28   5.94       2.24\\n29   7.15       3.49\\n30   7.36       3.26\\n31   8.10       3.89\\n32   6.96       3.08\\n33   6.35       2.73\\n34   7.34       3.42\\n35   6.87       2.87\\n36   5.99       2.84\\n37   5.90       2.43\\n38   8.62       4.36\\n39   7.43       3.33\\n40   9.38       4.02\\n41   6.89        2.7\\n42   5.95       2.54\\n43   7.66       2.76\\n44   5.09       1.86\\n45   7.87       3.58\\n46   6.07       2.26\\n47   5.84       3.26\\n48   8.63       4.09\\n49   8.87       4.62\\n50   9.58       4.43\\n51   9.26       3.79\\n52   8.37       4.11\\n53   6.47       2.61\\n54   6.86       3.09\\n55   8.20       3.39\\n56   5.84       2.74\\n57   6.60       1.94\\n58   6.92       3.09\\n59   7.56       3.31\\n60   5.61       2.19\\n61   5.48       1.61\\n62   6.34       2.09\\n63   9.16       4.25\\n64   7.36       2.92\\n65   7.60       3.81\\n66   5.11       1.63\\n67   6.51       2.89\\n68   7.56       2.99\\n69   7.30  2.94`1234\\n70   5.79       2.35\\n71   7.47       3.34\\n72   7.78       3.62\\n73   8.44       4.03\\n74   6.85       3.44\\n75   6.97       3.28\\n76   6.94       3.15\\n77   8.99        4.6\\n78   6.59       2.21\\n79   7.18        3.0\\n80   7.63       3.44\\n81   6.10        2.2\\n82   5.58       2.17\\n83   8.44       3.49\\n84   4.26       1.53\\n85   4.79       1.48\\n86   7.61       2.77\\n87   8.09       3.55\\n88   4.73       1.48\\n89   6.42       2.72\\n90   7.11       2.66\\n91   6.22       2.14\\n92   7.90        4.0\\n93   6.79       3.08\\n94   5.83       2.42\\n95   6.63       2.79\\n96   7.11       2.61\\n97   5.98       2.84\\n98   7.69       3.83\\n99   6.61       3.24\\n100  7.95       4.14\\n101  6.71       3.52\\n102  5.13       1.37\\n103  7.05        3.0\\n104  7.62       3.74\\n105  6.66       2.82\\n106  6.13       2.19\\n107  6.33       2.59\\n108  7.76       3.54\\n109  7.77       4.06\\n110  8.18       3.76\\n111  5.42       2.25\\n112  8.58        4.1\\n113  6.94       2.37\\n114  5.84       1.87\\n115  8.35       4.21\\n116  9.04       3.33\\n117  7.12       2.99\\n118  7.40       2.88\\n119  7.39       2.65\\n120  5.23       1.73\\n121  6.50       3.02\\n122  5.12       2.01\\n123  5.10        2.3\\n124  6.06       2.31\\n125  7.33       3.16\\n126  5.91        2.6\\n127  6.78       3.11\\n128  7.93       3.34\\n129  7.29       3.12\\n130  6.68       2.49\\n131  6.37       2.01\\n132  5.84       2.48\\n133  6.05       2.58\\n134  7.20       2.83\\n135  6.10        2.6\\n136  5.64        2.1\\n137  7.14       3.13\\n138  7.91       3.89\\n139  7.19        2.4\\n140  7.91       3.15\\n141  6.76       3.18\\n142  6.93       3.04\\n143  4.85       1.54\\n144  6.17       2.42\\n145  5.84       2.18\\n146  6.07       2.46\\n147  5.66       2.21\\n148  7.57        3.4\\n149  8.28       3.67\\n150  6.30       2.73\\n151  6.12       2.76\\n152  7.37       3.08\\n153  7.94       3.99\\n154  7.08       2.85\\n155  6.98       3.09\\n156  7.38       3.13\\n157  6.47        2.7\\n158  5.95       3.04\\n159  8.71       4.08\\n160  7.13       2.93\\n161  7.30       3.33\\n162  5.53       2.55\\n163  8.93       3.91\\n164  9.06       3.82\\n165  8.21       4.08\\n166  8.60       3.98\\n167  8.13        3.6\\n168  8.65       3.52\\n169  9.31       4.37\\n170  6.22       2.87\\n171  8.01       3.76\\n172  6.93       2.51\\n173  6.75       2.56\\n174  7.32       2.99\\n175  7.04        3.5\\n176  6.29       3.23\\n177  7.09       3.64\\n178  8.15       3.63\\n179  7.14       3.03\\n180  6.19       2.72\\n181  8.22       3.89\\n182  5.88       2.08\\n183  7.28       2.72\\n184  7.88       3.14\\n185  6.31       3.18\\n186  7.84       3.47\\n187  6.26       2.44\\n188  7.35       3.08\\n189  8.11       4.06\\n190  6.19       2.69\\n191  7.28       3.48\\n192  8.25       3.75\\n193  4.57       1.94\\n194  7.89       3.67\\n195  6.93       2.46\\n196  5.89       2.57\\n197  7.21       3.24\\n198  7.63       3.96\\n199  6.22       2.33'"
      ]
     },
     "execution_count": 5,
     "metadata": {},
     "output_type": "execute_result"
    }
   ],
   "source": [
    "data.to_string()"
   ]
  },
  {
   "cell_type": "code",
   "execution_count": 6,
   "id": "452eec8c-9962-40d2-98f4-f15a5dc67065",
   "metadata": {},
   "outputs": [
    {
     "data": {
      "text/html": [
       "<div>\n",
       "<style scoped>\n",
       "    .dataframe tbody tr th:only-of-type {\n",
       "        vertical-align: middle;\n",
       "    }\n",
       "\n",
       "    .dataframe tbody tr th {\n",
       "        vertical-align: top;\n",
       "    }\n",
       "\n",
       "    .dataframe thead th {\n",
       "        text-align: right;\n",
       "    }\n",
       "</style>\n",
       "<table border=\"1\" class=\"dataframe\">\n",
       "  <thead>\n",
       "    <tr style=\"text-align: right;\">\n",
       "      <th></th>\n",
       "      <th>cgpa</th>\n",
       "      <th>package</th>\n",
       "    </tr>\n",
       "  </thead>\n",
       "  <tbody>\n",
       "    <tr>\n",
       "      <th>0</th>\n",
       "      <td>6.89</td>\n",
       "      <td>3.26</td>\n",
       "    </tr>\n",
       "    <tr>\n",
       "      <th>1</th>\n",
       "      <td>5.12</td>\n",
       "      <td>1.98</td>\n",
       "    </tr>\n",
       "    <tr>\n",
       "      <th>2</th>\n",
       "      <td>7.82</td>\n",
       "      <td>3.25</td>\n",
       "    </tr>\n",
       "    <tr>\n",
       "      <th>3</th>\n",
       "      <td>7.42</td>\n",
       "      <td>3.67</td>\n",
       "    </tr>\n",
       "    <tr>\n",
       "      <th>4</th>\n",
       "      <td>6.94</td>\n",
       "      <td>3.57</td>\n",
       "    </tr>\n",
       "    <tr>\n",
       "      <th>...</th>\n",
       "      <td>...</td>\n",
       "      <td>...</td>\n",
       "    </tr>\n",
       "    <tr>\n",
       "      <th>195</th>\n",
       "      <td>6.93</td>\n",
       "      <td>2.46</td>\n",
       "    </tr>\n",
       "    <tr>\n",
       "      <th>196</th>\n",
       "      <td>5.89</td>\n",
       "      <td>2.57</td>\n",
       "    </tr>\n",
       "    <tr>\n",
       "      <th>197</th>\n",
       "      <td>7.21</td>\n",
       "      <td>3.24</td>\n",
       "    </tr>\n",
       "    <tr>\n",
       "      <th>198</th>\n",
       "      <td>7.63</td>\n",
       "      <td>3.96</td>\n",
       "    </tr>\n",
       "    <tr>\n",
       "      <th>199</th>\n",
       "      <td>6.22</td>\n",
       "      <td>2.33</td>\n",
       "    </tr>\n",
       "  </tbody>\n",
       "</table>\n",
       "<p>200 rows × 2 columns</p>\n",
       "</div>"
      ],
      "text/plain": [
       "     cgpa package\n",
       "0    6.89    3.26\n",
       "1    5.12    1.98\n",
       "2    7.82    3.25\n",
       "3    7.42    3.67\n",
       "4    6.94    3.57\n",
       "..    ...     ...\n",
       "195  6.93    2.46\n",
       "196  5.89    2.57\n",
       "197  7.21    3.24\n",
       "198  7.63    3.96\n",
       "199  6.22    2.33\n",
       "\n",
       "[200 rows x 2 columns]"
      ]
     },
     "execution_count": 6,
     "metadata": {},
     "output_type": "execute_result"
    }
   ],
   "source": [
    "data"
   ]
  },
  {
   "cell_type": "code",
   "execution_count": 8,
   "id": "023489b6-08b8-4d97-940a-807bf443374d",
   "metadata": {},
   "outputs": [
    {
     "data": {
      "text/html": [
       "<div>\n",
       "<style scoped>\n",
       "    .dataframe tbody tr th:only-of-type {\n",
       "        vertical-align: middle;\n",
       "    }\n",
       "\n",
       "    .dataframe tbody tr th {\n",
       "        vertical-align: top;\n",
       "    }\n",
       "\n",
       "    .dataframe thead th {\n",
       "        text-align: right;\n",
       "    }\n",
       "</style>\n",
       "<table border=\"1\" class=\"dataframe\">\n",
       "  <thead>\n",
       "    <tr style=\"text-align: right;\">\n",
       "      <th></th>\n",
       "      <th>cgpa</th>\n",
       "      <th>package</th>\n",
       "    </tr>\n",
       "  </thead>\n",
       "  <tbody>\n",
       "    <tr>\n",
       "      <th>0</th>\n",
       "      <td>6.89</td>\n",
       "      <td>3.26</td>\n",
       "    </tr>\n",
       "    <tr>\n",
       "      <th>1</th>\n",
       "      <td>5.12</td>\n",
       "      <td>1.98</td>\n",
       "    </tr>\n",
       "    <tr>\n",
       "      <th>2</th>\n",
       "      <td>7.82</td>\n",
       "      <td>3.25</td>\n",
       "    </tr>\n",
       "    <tr>\n",
       "      <th>3</th>\n",
       "      <td>7.42</td>\n",
       "      <td>3.67</td>\n",
       "    </tr>\n",
       "    <tr>\n",
       "      <th>4</th>\n",
       "      <td>6.94</td>\n",
       "      <td>3.57</td>\n",
       "    </tr>\n",
       "    <tr>\n",
       "      <th>5</th>\n",
       "      <td>7.89</td>\n",
       "      <td>2.99</td>\n",
       "    </tr>\n",
       "    <tr>\n",
       "      <th>6</th>\n",
       "      <td>6.73</td>\n",
       "      <td>2.6</td>\n",
       "    </tr>\n",
       "    <tr>\n",
       "      <th>7</th>\n",
       "      <td>6.75</td>\n",
       "      <td>2.48</td>\n",
       "    </tr>\n",
       "    <tr>\n",
       "      <th>8</th>\n",
       "      <td>6.09</td>\n",
       "      <td>2.31</td>\n",
       "    </tr>\n",
       "    <tr>\n",
       "      <th>9</th>\n",
       "      <td>8.31</td>\n",
       "      <td>3.51</td>\n",
       "    </tr>\n",
       "  </tbody>\n",
       "</table>\n",
       "</div>"
      ],
      "text/plain": [
       "   cgpa package\n",
       "0  6.89    3.26\n",
       "1  5.12    1.98\n",
       "2  7.82    3.25\n",
       "3  7.42    3.67\n",
       "4  6.94    3.57\n",
       "5  7.89    2.99\n",
       "6  6.73     2.6\n",
       "7  6.75    2.48\n",
       "8  6.09    2.31\n",
       "9  8.31    3.51"
      ]
     },
     "execution_count": 8,
     "metadata": {},
     "output_type": "execute_result"
    }
   ],
   "source": [
    "data.head(10)"
   ]
  },
  {
   "cell_type": "code",
   "execution_count": 10,
   "id": "24c78396-a00a-44cf-9191-3bdd9b2fae10",
   "metadata": {},
   "outputs": [
    {
     "data": {
      "text/html": [
       "<div>\n",
       "<style scoped>\n",
       "    .dataframe tbody tr th:only-of-type {\n",
       "        vertical-align: middle;\n",
       "    }\n",
       "\n",
       "    .dataframe tbody tr th {\n",
       "        vertical-align: top;\n",
       "    }\n",
       "\n",
       "    .dataframe thead th {\n",
       "        text-align: right;\n",
       "    }\n",
       "</style>\n",
       "<table border=\"1\" class=\"dataframe\">\n",
       "  <thead>\n",
       "    <tr style=\"text-align: right;\">\n",
       "      <th></th>\n",
       "      <th>cgpa</th>\n",
       "      <th>package</th>\n",
       "    </tr>\n",
       "  </thead>\n",
       "  <tbody>\n",
       "    <tr>\n",
       "      <th>192</th>\n",
       "      <td>8.25</td>\n",
       "      <td>3.75</td>\n",
       "    </tr>\n",
       "    <tr>\n",
       "      <th>193</th>\n",
       "      <td>4.57</td>\n",
       "      <td>1.94</td>\n",
       "    </tr>\n",
       "    <tr>\n",
       "      <th>194</th>\n",
       "      <td>7.89</td>\n",
       "      <td>3.67</td>\n",
       "    </tr>\n",
       "    <tr>\n",
       "      <th>195</th>\n",
       "      <td>6.93</td>\n",
       "      <td>2.46</td>\n",
       "    </tr>\n",
       "    <tr>\n",
       "      <th>196</th>\n",
       "      <td>5.89</td>\n",
       "      <td>2.57</td>\n",
       "    </tr>\n",
       "    <tr>\n",
       "      <th>197</th>\n",
       "      <td>7.21</td>\n",
       "      <td>3.24</td>\n",
       "    </tr>\n",
       "    <tr>\n",
       "      <th>198</th>\n",
       "      <td>7.63</td>\n",
       "      <td>3.96</td>\n",
       "    </tr>\n",
       "    <tr>\n",
       "      <th>199</th>\n",
       "      <td>6.22</td>\n",
       "      <td>2.33</td>\n",
       "    </tr>\n",
       "  </tbody>\n",
       "</table>\n",
       "</div>"
      ],
      "text/plain": [
       "     cgpa package\n",
       "192  8.25    3.75\n",
       "193  4.57    1.94\n",
       "194  7.89    3.67\n",
       "195  6.93    2.46\n",
       "196  5.89    2.57\n",
       "197  7.21    3.24\n",
       "198  7.63    3.96\n",
       "199  6.22    2.33"
      ]
     },
     "execution_count": 10,
     "metadata": {},
     "output_type": "execute_result"
    }
   ],
   "source": [
    "data.tail(8)"
   ]
  },
  {
   "cell_type": "code",
   "execution_count": 12,
   "id": "03e9230e-f628-42e4-af57-0aae66cad20d",
   "metadata": {},
   "outputs": [
    {
     "data": {
      "text/plain": [
       "(200, 2)"
      ]
     },
     "execution_count": 12,
     "metadata": {},
     "output_type": "execute_result"
    }
   ],
   "source": [
    "data.shape"
   ]
  },
  {
   "cell_type": "code",
   "execution_count": 13,
   "id": "025319cc-8829-45e9-8bdf-52cde2569cff",
   "metadata": {},
   "outputs": [
    {
     "name": "stdout",
     "output_type": "stream",
     "text": [
      "<class 'pandas.core.frame.DataFrame'>\n",
      "RangeIndex: 200 entries, 0 to 199\n",
      "Data columns (total 2 columns):\n",
      " #   Column   Non-Null Count  Dtype  \n",
      "---  ------   --------------  -----  \n",
      " 0   cgpa     200 non-null    float64\n",
      " 1   package  200 non-null    object \n",
      "dtypes: float64(1), object(1)\n",
      "memory usage: 3.3+ KB\n"
     ]
    }
   ],
   "source": [
    "data.info()"
   ]
  },
  {
   "cell_type": "code",
   "execution_count": null,
   "id": "c05cd3df-b019-4824-a63a-8225c5b3f140",
   "metadata": {},
   "outputs": [],
   "source": []
  }
 ],
 "metadata": {
  "kernelspec": {
   "display_name": "Python 3 (ipykernel)",
   "language": "python",
   "name": "python3"
  },
  "language_info": {
   "codemirror_mode": {
    "name": "ipython",
    "version": 3
   },
   "file_extension": ".py",
   "mimetype": "text/x-python",
   "name": "python",
   "nbconvert_exporter": "python",
   "pygments_lexer": "ipython3",
   "version": "3.11.5"
  }
 },
 "nbformat": 4,
 "nbformat_minor": 5
}
