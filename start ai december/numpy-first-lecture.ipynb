{
 "cells": [
  {
   "cell_type": "code",
   "execution_count": 1,
   "id": "6837da88-31bd-451b-ba07-8248eaf28314",
   "metadata": {},
   "outputs": [],
   "source": [
    "# Numarical Python "
   ]
  },
  {
   "cell_type": "code",
   "execution_count": 2,
   "id": "95889649-f4e8-4f91-a204-d6bb4fcd28b5",
   "metadata": {},
   "outputs": [
    {
     "name": "stdout",
     "output_type": "stream",
     "text": [
      "Requirement already satisfied: numpy in c:\\users\\17nru\\appdata\\local\\programs\\python\\python312\\lib\\site-packages (1.26.2)\n"
     ]
    },
    {
     "name": "stderr",
     "output_type": "stream",
     "text": [
      "\n",
      "[notice] A new release of pip is available: 23.3.1 -> 23.3.2\n",
      "[notice] To update, run: python.exe -m pip install --upgrade pip\n"
     ]
    }
   ],
   "source": [
    "!pip install numpy"
   ]
  },
  {
   "cell_type": "code",
   "execution_count": 4,
   "id": "21702757-4375-47ed-b1db-731ebd9a82e1",
   "metadata": {},
   "outputs": [],
   "source": [
    "import numpy as np"
   ]
  },
  {
   "cell_type": "markdown",
   "id": "337cd851-ec75-442a-a9d7-8b1e57433992",
   "metadata": {},
   "source": [
    "# ndarray :"
   ]
  },
  {
   "cell_type": "raw",
   "id": "f6de399a-f67b-418a-b811-8112416bec26",
   "metadata": {},
   "source": [
    "object crated by array method in numpy is called ndarray\n",
    "array()"
   ]
  },
  {
   "cell_type": "code",
   "execution_count": 5,
   "id": "77cd219f-2e6e-4767-8f8a-0027d52c7c84",
   "metadata": {},
   "outputs": [],
   "source": [
    "arr = np.array(12)"
   ]
  },
  {
   "cell_type": "code",
   "execution_count": 6,
   "id": "a1b1901f-69fa-42b2-b9f2-5317219e1f7d",
   "metadata": {},
   "outputs": [
    {
     "data": {
      "text/plain": [
       "numpy.ndarray"
      ]
     },
     "execution_count": 6,
     "metadata": {},
     "output_type": "execute_result"
    }
   ],
   "source": [
    "type(arr)"
   ]
  },
  {
   "cell_type": "code",
   "execution_count": 7,
   "id": "275228cb-cce6-482f-b624-e3e6d24bc495",
   "metadata": {},
   "outputs": [
    {
     "data": {
      "text/plain": [
       "int"
      ]
     },
     "execution_count": 7,
     "metadata": {},
     "output_type": "execute_result"
    }
   ],
   "source": [
    "a = 10\n",
    "type(a)"
   ]
  },
  {
   "cell_type": "code",
   "execution_count": null,
   "id": "d33bfdef-9347-41a0-812a-17aab66b2fa7",
   "metadata": {},
   "outputs": [],
   "source": []
  },
  {
   "cell_type": "markdown",
   "id": "80f7cea6-b1dc-4ffb-aabc-68896612a1a8",
   "metadata": {},
   "source": [
    "# ndim"
   ]
  },
  {
   "cell_type": "code",
   "execution_count": 8,
   "id": "df195f5f-3966-416d-87eb-1396ca78d7ca",
   "metadata": {},
   "outputs": [],
   "source": [
    "x = np.array([12, 10, 90])"
   ]
  },
  {
   "cell_type": "code",
   "execution_count": 9,
   "id": "be239879-3dad-4a38-a170-ee150cebc8b4",
   "metadata": {},
   "outputs": [
    {
     "data": {
      "text/plain": [
       "1"
      ]
     },
     "execution_count": 9,
     "metadata": {},
     "output_type": "execute_result"
    }
   ],
   "source": [
    "x.ndim"
   ]
  },
  {
   "cell_type": "code",
   "execution_count": 10,
   "id": "685d898e-3969-406a-9f86-d826b606d4bd",
   "metadata": {},
   "outputs": [],
   "source": [
    "y = np.array(10)"
   ]
  },
  {
   "cell_type": "code",
   "execution_count": 11,
   "id": "68c62c0c-8fb5-41fe-8296-1407bf132cd0",
   "metadata": {},
   "outputs": [
    {
     "data": {
      "text/plain": [
       "0"
      ]
     },
     "execution_count": 11,
     "metadata": {},
     "output_type": "execute_result"
    }
   ],
   "source": [
    "y.ndim"
   ]
  },
  {
   "cell_type": "code",
   "execution_count": null,
   "id": "fe7e0617-3a3e-47e9-8b0e-80719e2a6982",
   "metadata": {},
   "outputs": [],
   "source": []
  },
  {
   "cell_type": "code",
   "execution_count": 16,
   "id": "f0c137ef-c890-40b1-9bd9-13dc56f639f2",
   "metadata": {},
   "outputs": [],
   "source": [
    "xyz = np.array([[12, 10, 98, 78], [20, 87, 48, 90]])"
   ]
  },
  {
   "cell_type": "code",
   "execution_count": 17,
   "id": "565246c9-3fd9-4b13-a304-1a4c6f956bf5",
   "metadata": {},
   "outputs": [
    {
     "data": {
      "text/plain": [
       "array([[12, 10, 98, 78],\n",
       "       [20, 87, 48, 90]])"
      ]
     },
     "execution_count": 17,
     "metadata": {},
     "output_type": "execute_result"
    }
   ],
   "source": [
    "xyz"
   ]
  },
  {
   "cell_type": "code",
   "execution_count": 18,
   "id": "856a83a7-8966-4c8d-94e5-2c152bb2a9b1",
   "metadata": {},
   "outputs": [
    {
     "data": {
      "text/plain": [
       "2"
      ]
     },
     "execution_count": 18,
     "metadata": {},
     "output_type": "execute_result"
    }
   ],
   "source": [
    "xyz.ndim"
   ]
  },
  {
   "cell_type": "code",
   "execution_count": null,
   "id": "48ad139c-3039-4383-ac18-697ac84932b4",
   "metadata": {},
   "outputs": [],
   "source": []
  },
  {
   "cell_type": "code",
   "execution_count": 27,
   "id": "a5d27f31-2234-4e64-995c-960c459e05ac",
   "metadata": {},
   "outputs": [],
   "source": [
    "abc = np.array([[[12, 10, 98, 78], [20, 87, 48, 90]], [[23, 20, 89, 90], [56,34,56,34]], [[34, 10, 78, 67], [34, 37, 89, 29]]])"
   ]
  },
  {
   "cell_type": "code",
   "execution_count": 29,
   "id": "941de7bf-61f8-4a63-b100-d16089e9554f",
   "metadata": {},
   "outputs": [
    {
     "data": {
      "text/plain": [
       "array([[[12, 10, 98, 78],\n",
       "        [20, 87, 48, 90]],\n",
       "\n",
       "       [[23, 20, 89, 90],\n",
       "        [56, 34, 56, 34]],\n",
       "\n",
       "       [[34, 10, 78, 67],\n",
       "        [34, 37, 89, 29]]])"
      ]
     },
     "execution_count": 29,
     "metadata": {},
     "output_type": "execute_result"
    }
   ],
   "source": [
    "abc"
   ]
  },
  {
   "cell_type": "code",
   "execution_count": 30,
   "id": "364d3805-fe98-4efd-b9a8-3c3140e533b7",
   "metadata": {},
   "outputs": [
    {
     "data": {
      "text/plain": [
       "3"
      ]
     },
     "execution_count": 30,
     "metadata": {},
     "output_type": "execute_result"
    }
   ],
   "source": [
    "abc.ndim"
   ]
  },
  {
   "cell_type": "markdown",
   "id": "77c7deb1-d6d0-458f-8390-f806a7500710",
   "metadata": {},
   "source": [
    "# 4D ndarray"
   ]
  },
  {
   "cell_type": "code",
   "execution_count": 36,
   "id": "524a54f7-e3db-478e-ac2f-994af6c21809",
   "metadata": {},
   "outputs": [],
   "source": [
    "arr = np.array([[[[2, 4, 5], [4, 6, 7]], [[6, 7, 8], [6, 7, 5]]], [[[7, 4, 5], [4, 6, 5]], [[4, 6, 5], [7, 5, 4]]]])"
   ]
  },
  {
   "cell_type": "code",
   "execution_count": 37,
   "id": "2f0f0507-1a86-4c54-ba92-41fcb4be8474",
   "metadata": {},
   "outputs": [
    {
     "data": {
      "text/plain": [
       "array([[[[2, 4, 5],\n",
       "         [4, 6, 7]],\n",
       "\n",
       "        [[6, 7, 8],\n",
       "         [6, 7, 5]]],\n",
       "\n",
       "\n",
       "       [[[7, 4, 5],\n",
       "         [4, 6, 5]],\n",
       "\n",
       "        [[4, 6, 5],\n",
       "         [7, 5, 4]]]])"
      ]
     },
     "execution_count": 37,
     "metadata": {},
     "output_type": "execute_result"
    }
   ],
   "source": [
    "arr"
   ]
  },
  {
   "cell_type": "code",
   "execution_count": 38,
   "id": "d70d6a15-24a5-42dd-a151-3c23d9ed289e",
   "metadata": {},
   "outputs": [
    {
     "data": {
      "text/plain": [
       "4"
      ]
     },
     "execution_count": 38,
     "metadata": {},
     "output_type": "execute_result"
    }
   ],
   "source": [
    "arr.ndim"
   ]
  },
  {
   "cell_type": "code",
   "execution_count": 39,
   "id": "eb1d2a1f-180d-461c-bd5b-564deeecb74c",
   "metadata": {},
   "outputs": [],
   "source": [
    "r = np.array([[[[4]]]])"
   ]
  },
  {
   "cell_type": "code",
   "execution_count": 40,
   "id": "09015d30-b055-4a2f-ad01-4fcae780462c",
   "metadata": {},
   "outputs": [
    {
     "data": {
      "text/plain": [
       "4"
      ]
     },
     "execution_count": 40,
     "metadata": {},
     "output_type": "execute_result"
    }
   ],
   "source": [
    "r.ndim"
   ]
  },
  {
   "cell_type": "code",
   "execution_count": 41,
   "id": "95d7cb56-a40f-49fe-80ba-3fdc79dbb240",
   "metadata": {},
   "outputs": [
    {
     "data": {
      "text/plain": [
       "array([[[[4]]]])"
      ]
     },
     "execution_count": 41,
     "metadata": {},
     "output_type": "execute_result"
    }
   ],
   "source": [
    "r"
   ]
  },
  {
   "cell_type": "code",
   "execution_count": null,
   "id": "53ca8c31-6af8-44d7-85d0-2cf7c3d8a2a1",
   "metadata": {},
   "outputs": [],
   "source": []
  },
  {
   "cell_type": "code",
   "execution_count": null,
   "id": "902b1a6f-82cc-4a01-8272-e2f43bb86aab",
   "metadata": {},
   "outputs": [],
   "source": []
  },
  {
   "cell_type": "markdown",
   "id": "afe6bf67-82b0-4c4b-b46f-53851244b73e",
   "metadata": {},
   "source": [
    "#  indexing"
   ]
  },
  {
   "cell_type": "code",
   "execution_count": 42,
   "id": "766449c9-196a-4fbd-922a-afda0d37a88e",
   "metadata": {},
   "outputs": [],
   "source": [
    "arr = np.array([23 ,10, 30, 78, 10])"
   ]
  },
  {
   "cell_type": "code",
   "execution_count": 43,
   "id": "ea690f11-dabe-4694-ac27-f6ca71aa1f07",
   "metadata": {},
   "outputs": [
    {
     "data": {
      "text/plain": [
       "1"
      ]
     },
     "execution_count": 43,
     "metadata": {},
     "output_type": "execute_result"
    }
   ],
   "source": [
    "arr.ndim"
   ]
  },
  {
   "cell_type": "code",
   "execution_count": 44,
   "id": "fb517e27-3ce2-44d3-9d7c-331fd1e0c010",
   "metadata": {},
   "outputs": [
    {
     "data": {
      "text/plain": [
       "30"
      ]
     },
     "execution_count": 44,
     "metadata": {},
     "output_type": "execute_result"
    }
   ],
   "source": [
    "arr[2]"
   ]
  },
  {
   "cell_type": "code",
   "execution_count": 45,
   "id": "8ec06c98-74b4-4976-ac42-560db30b3c80",
   "metadata": {},
   "outputs": [
    {
     "data": {
      "text/plain": [
       "78"
      ]
     },
     "execution_count": 45,
     "metadata": {},
     "output_type": "execute_result"
    }
   ],
   "source": [
    "arr[-2]"
   ]
  },
  {
   "cell_type": "code",
   "execution_count": null,
   "id": "9dc3eafd-9021-4e27-ad93-c6d8e07ea33d",
   "metadata": {},
   "outputs": [],
   "source": []
  },
  {
   "cell_type": "markdown",
   "id": "651885f7-aa23-4439-90b2-2aa55bc90ffd",
   "metadata": {},
   "source": [
    "# slicing"
   ]
  },
  {
   "cell_type": "code",
   "execution_count": null,
   "id": "6a2fd467-febc-4a41-b0b7-32d1ff051244",
   "metadata": {},
   "outputs": [],
   "source": [
    "# [start : end : incremnet]\n",
    "start = 0\n",
    "end = n - 1\n",
    "increment = 1"
   ]
  },
  {
   "cell_type": "code",
   "execution_count": 46,
   "id": "65d1ab05-479a-46ec-afe1-45a386c079cf",
   "metadata": {},
   "outputs": [],
   "source": [
    "arr = np.array([34, 10, 90, 78, 67, 34, 10])"
   ]
  },
  {
   "cell_type": "code",
   "execution_count": 47,
   "id": "a12925ec-edac-4c43-a058-fac5678cb57a",
   "metadata": {},
   "outputs": [
    {
     "data": {
      "text/plain": [
       "array([34, 10, 90, 78, 67, 34, 10])"
      ]
     },
     "execution_count": 47,
     "metadata": {},
     "output_type": "execute_result"
    }
   ],
   "source": [
    "arr"
   ]
  },
  {
   "cell_type": "code",
   "execution_count": 49,
   "id": "d5ee54c5-e458-411a-9ad8-ed00a14bda70",
   "metadata": {},
   "outputs": [
    {
     "data": {
      "text/plain": [
       "array([10, 90, 78])"
      ]
     },
     "execution_count": 49,
     "metadata": {},
     "output_type": "execute_result"
    }
   ],
   "source": [
    "arr[1 : 4]"
   ]
  },
  {
   "cell_type": "code",
   "execution_count": 51,
   "id": "6b9dde95-5902-4c7c-9ede-4ecdced04509",
   "metadata": {},
   "outputs": [
    {
     "data": {
      "text/plain": [
       "array([90, 78, 67, 34, 10])"
      ]
     },
     "execution_count": 51,
     "metadata": {},
     "output_type": "execute_result"
    }
   ],
   "source": [
    "arr[2 : ]"
   ]
  },
  {
   "cell_type": "code",
   "execution_count": 52,
   "id": "21464158-310d-4ab5-a937-15f2ea045676",
   "metadata": {},
   "outputs": [
    {
     "data": {
      "text/plain": [
       "array([34, 10, 90, 78])"
      ]
     },
     "execution_count": 52,
     "metadata": {},
     "output_type": "execute_result"
    }
   ],
   "source": [
    "arr[: 4]"
   ]
  },
  {
   "cell_type": "code",
   "execution_count": 54,
   "id": "28d105f9-0511-4cd9-9281-f05946b92f6d",
   "metadata": {},
   "outputs": [
    {
     "data": {
      "text/plain": [
       "array([34, 90, 67, 10])"
      ]
     },
     "execution_count": 54,
     "metadata": {},
     "output_type": "execute_result"
    }
   ],
   "source": [
    "arr[: : 2]"
   ]
  },
  {
   "cell_type": "code",
   "execution_count": 55,
   "id": "5b36fc75-2aff-48e0-b10f-cf5e0fc25551",
   "metadata": {},
   "outputs": [
    {
     "data": {
      "text/plain": [
       "array([34, 10, 90, 78, 67, 34, 10])"
      ]
     },
     "execution_count": 55,
     "metadata": {},
     "output_type": "execute_result"
    }
   ],
   "source": [
    "arr"
   ]
  },
  {
   "cell_type": "code",
   "execution_count": 56,
   "id": "767e0964-581f-4dd0-98e6-54b8a2576ed2",
   "metadata": {},
   "outputs": [
    {
     "data": {
      "text/plain": [
       "array([10, 34, 67, 78, 90, 10, 34])"
      ]
     },
     "execution_count": 56,
     "metadata": {},
     "output_type": "execute_result"
    }
   ],
   "source": [
    "arr[: : -1]"
   ]
  },
  {
   "cell_type": "code",
   "execution_count": null,
   "id": "ad761bda-0ca0-4214-9e3b-6c922df4d4ef",
   "metadata": {},
   "outputs": [],
   "source": []
  },
  {
   "cell_type": "code",
   "execution_count": 57,
   "id": "95f11f9d-b349-4db6-845e-3840da5417f5",
   "metadata": {},
   "outputs": [],
   "source": [
    "arr = np.array([34, 10, 90, 78, 67, 34, 10])"
   ]
  },
  {
   "cell_type": "code",
   "execution_count": 58,
   "id": "3a09f0fe-1897-4d04-a898-067bca52c555",
   "metadata": {},
   "outputs": [],
   "source": [
    "arr.sort()"
   ]
  },
  {
   "cell_type": "code",
   "execution_count": 59,
   "id": "c88b5c72-d0f7-4cd3-8633-4a8a48493212",
   "metadata": {},
   "outputs": [
    {
     "data": {
      "text/plain": [
       "array([10, 10, 34, 34, 67, 78, 90])"
      ]
     },
     "execution_count": 59,
     "metadata": {},
     "output_type": "execute_result"
    }
   ],
   "source": [
    "arr"
   ]
  },
  {
   "cell_type": "code",
   "execution_count": null,
   "id": "134a168b-b37e-42d6-8636-aa15d42215e7",
   "metadata": {},
   "outputs": [],
   "source": []
  },
  {
   "cell_type": "code",
   "execution_count": null,
   "id": "029bdc43-7041-4507-972d-bbd2aad8ccb5",
   "metadata": {},
   "outputs": [],
   "source": [
    "where()"
   ]
  },
  {
   "cell_type": "code",
   "execution_count": 60,
   "id": "f466521f-297f-4daa-a2c6-b20ff2c9ece1",
   "metadata": {},
   "outputs": [],
   "source": [
    "arr = np.array([34, 10, 90, 78, 67, 34, 10])"
   ]
  },
  {
   "cell_type": "code",
   "execution_count": 67,
   "id": "bf369459-207f-47cb-bac4-0193b37bd54a",
   "metadata": {},
   "outputs": [
    {
     "data": {
      "text/plain": [
       "(array([1, 6], dtype=int64),)"
      ]
     },
     "execution_count": 67,
     "metadata": {},
     "output_type": "execute_result"
    }
   ],
   "source": [
    "np.where(arr == 10)"
   ]
  },
  {
   "cell_type": "code",
   "execution_count": null,
   "id": "6f99a2de-2650-4b4e-b3ba-f3d72ac62a51",
   "metadata": {},
   "outputs": [],
   "source": []
  },
  {
   "cell_type": "code",
   "execution_count": 65,
   "id": "557284c4-0764-4b6e-83db-1bc4aaed3b45",
   "metadata": {},
   "outputs": [
    {
     "name": "stdout",
     "output_type": "stream",
     "text": [
      "Help on _ArrayFunctionDispatcher in module numpy:\n",
      "\n",
      "where(...)\n",
      "    where(condition, [x, y], /)\n",
      "\n",
      "    Return elements chosen from `x` or `y` depending on `condition`.\n",
      "\n",
      "    .. note::\n",
      "        When only `condition` is provided, this function is a shorthand for\n",
      "        ``np.asarray(condition).nonzero()``. Using `nonzero` directly should be\n",
      "        preferred, as it behaves correctly for subclasses. The rest of this\n",
      "        documentation covers only the case where all three arguments are\n",
      "        provided.\n",
      "\n",
      "    Parameters\n",
      "    ----------\n",
      "    condition : array_like, bool\n",
      "        Where True, yield `x`, otherwise yield `y`.\n",
      "    x, y : array_like\n",
      "        Values from which to choose. `x`, `y` and `condition` need to be\n",
      "        broadcastable to some shape.\n",
      "\n",
      "    Returns\n",
      "    -------\n",
      "    out : ndarray\n",
      "        An array with elements from `x` where `condition` is True, and elements\n",
      "        from `y` elsewhere.\n",
      "\n",
      "    See Also\n",
      "    --------\n",
      "    choose\n",
      "    nonzero : The function that is called when x and y are omitted\n",
      "\n",
      "    Notes\n",
      "    -----\n",
      "    If all the arrays are 1-D, `where` is equivalent to::\n",
      "\n",
      "        [xv if c else yv\n",
      "         for c, xv, yv in zip(condition, x, y)]\n",
      "\n",
      "    Examples\n",
      "    --------\n",
      "    >>> a = np.arange(10)\n",
      "    >>> a\n",
      "    array([0, 1, 2, 3, 4, 5, 6, 7, 8, 9])\n",
      "    >>> np.where(a < 5, a, 10*a)\n",
      "    array([ 0,  1,  2,  3,  4, 50, 60, 70, 80, 90])\n",
      "\n",
      "    This can be used on multidimensional arrays too:\n",
      "\n",
      "    >>> np.where([[True, False], [True, True]],\n",
      "    ...          [[1, 2], [3, 4]],\n",
      "    ...          [[9, 8], [7, 6]])\n",
      "    array([[1, 8],\n",
      "           [3, 4]])\n",
      "\n",
      "    The shapes of x, y, and the condition are broadcast together:\n",
      "\n",
      "    >>> x, y = np.ogrid[:3, :4]\n",
      "    >>> np.where(x < y, x, 10 + y)  # both x and 10+y are broadcast\n",
      "    array([[10,  0,  0,  0],\n",
      "           [10, 11,  1,  1],\n",
      "           [10, 11, 12,  2]])\n",
      "\n",
      "    >>> a = np.array([[0, 1, 2],\n",
      "    ...               [0, 2, 4],\n",
      "    ...               [0, 3, 6]])\n",
      "    >>> np.where(a < 4, a, -1)  # -1 is broadcast\n",
      "    array([[ 0,  1,  2],\n",
      "           [ 0,  2, -1],\n",
      "           [ 0,  3, -1]])\n",
      "\n"
     ]
    }
   ],
   "source": [
    "help(np.where)"
   ]
  },
  {
   "cell_type": "code",
   "execution_count": null,
   "id": "a5dc8793-1d2c-4956-886a-f069b4ab395f",
   "metadata": {},
   "outputs": [],
   "source": []
  },
  {
   "cell_type": "code",
   "execution_count": 70,
   "id": "e5bdc763-7033-46bd-8bde-e358777413d4",
   "metadata": {},
   "outputs": [],
   "source": [
    "arr2 = np.array([[23, 10, 89, 67, 10], [45, 30, 89, 90, 18]])"
   ]
  },
  {
   "cell_type": "code",
   "execution_count": 71,
   "id": "4b2fbd66-4f95-46f1-9c75-318b1477bfa0",
   "metadata": {},
   "outputs": [
    {
     "data": {
      "text/plain": [
       "array([[23, 10, 89, 67, 10],\n",
       "       [45, 30, 89, 90, 18]])"
      ]
     },
     "execution_count": 71,
     "metadata": {},
     "output_type": "execute_result"
    }
   ],
   "source": [
    "arr2"
   ]
  },
  {
   "cell_type": "code",
   "execution_count": 74,
   "id": "2a797e9c-bfcb-4edc-875f-4b9ea577ffef",
   "metadata": {},
   "outputs": [
    {
     "data": {
      "text/plain": [
       "90"
      ]
     },
     "execution_count": 74,
     "metadata": {},
     "output_type": "execute_result"
    }
   ],
   "source": [
    "arr2[1][3]"
   ]
  },
  {
   "cell_type": "code",
   "execution_count": 76,
   "id": "e3d4b4d4-daf1-44da-96c0-3dc232b97549",
   "metadata": {},
   "outputs": [
    {
     "data": {
      "text/plain": [
       "89"
      ]
     },
     "execution_count": 76,
     "metadata": {},
     "output_type": "execute_result"
    }
   ],
   "source": [
    "arr2[0][2]"
   ]
  },
  {
   "cell_type": "code",
   "execution_count": 77,
   "id": "a9f481d6-3b51-405f-ac55-28ae3c5198d0",
   "metadata": {},
   "outputs": [
    {
     "data": {
      "text/plain": [
       "45"
      ]
     },
     "execution_count": 77,
     "metadata": {},
     "output_type": "execute_result"
    }
   ],
   "source": [
    "arr2[1][0]"
   ]
  },
  {
   "cell_type": "code",
   "execution_count": null,
   "id": "e86199e6-600e-4be8-b2e4-3b44f64d25f2",
   "metadata": {},
   "outputs": [],
   "source": []
  },
  {
   "cell_type": "code",
   "execution_count": 83,
   "id": "3f421204-9aa0-40b3-879c-6e3129af0b53",
   "metadata": {},
   "outputs": [],
   "source": [
    "arr2 = np.array([[23, 10, 89, 67, 10], [45, 30, 89, 90, 18]])"
   ]
  },
  {
   "cell_type": "code",
   "execution_count": 81,
   "id": "f67f34dc-ca3f-41e9-a228-4c04edad2bb6",
   "metadata": {},
   "outputs": [
    {
     "data": {
      "text/plain": [
       "array([89, 90, 18])"
      ]
     },
     "execution_count": 81,
     "metadata": {},
     "output_type": "execute_result"
    }
   ],
   "source": [
    "arr2[1][2 :]"
   ]
  },
  {
   "cell_type": "code",
   "execution_count": 82,
   "id": "47b522c8-9fdf-4306-aeaa-67debd166229",
   "metadata": {},
   "outputs": [
    {
     "data": {
      "text/plain": [
       "array([10, 89, 67])"
      ]
     },
     "execution_count": 82,
     "metadata": {},
     "output_type": "execute_result"
    }
   ],
   "source": [
    "arr2[0][1 : 4]"
   ]
  },
  {
   "cell_type": "code",
   "execution_count": null,
   "id": "2d726fe2-b1b4-441a-8d89-c2def551ee66",
   "metadata": {},
   "outputs": [],
   "source": []
  },
  {
   "cell_type": "code",
   "execution_count": null,
   "id": "1d220590-951a-4a26-b721-a67fb989b533",
   "metadata": {},
   "outputs": [],
   "source": []
  },
  {
   "cell_type": "code",
   "execution_count": 84,
   "id": "bfda076b-ad25-4a86-aaa9-21a32e975f54",
   "metadata": {},
   "outputs": [],
   "source": [
    "arr2 = np.array([[[23, 10, 89, 67, 10], [45, 30, 89, 90, 18]], [[34, 30, 89, 20, 90], [45, 9, 98, 90, 23]]])"
   ]
  },
  {
   "cell_type": "code",
   "execution_count": 88,
   "id": "0e309433-66f6-41dd-9d5f-4aea2f2f3457",
   "metadata": {},
   "outputs": [
    {
     "data": {
      "text/plain": [
       "9"
      ]
     },
     "execution_count": 88,
     "metadata": {},
     "output_type": "execute_result"
    }
   ],
   "source": [
    "arr2[1][1][1]"
   ]
  },
  {
   "cell_type": "code",
   "execution_count": null,
   "id": "da3b8603-ba62-44ba-814e-2ce61afc8b6f",
   "metadata": {},
   "outputs": [],
   "source": [
    "topics done:\n",
    "1) ndarry\n",
    "2) Where method\n",
    "3) ndim attribute\n",
    "4) Indexing\n",
    "5) slicing\n",
    "6) sort method\n",
    "7) creating 1-D, 2-D, 3-D, 4-D ndarrays\n"
   ]
  }
 ],
 "metadata": {
  "kernelspec": {
   "display_name": "Python 3 (ipykernel)",
   "language": "python",
   "name": "python3"
  },
  "language_info": {
   "codemirror_mode": {
    "name": "ipython",
    "version": 3
   },
   "file_extension": ".py",
   "mimetype": "text/x-python",
   "name": "python",
   "nbconvert_exporter": "python",
   "pygments_lexer": "ipython3",
   "version": "3.12.0"
  }
 },
 "nbformat": 4,
 "nbformat_minor": 5
}
